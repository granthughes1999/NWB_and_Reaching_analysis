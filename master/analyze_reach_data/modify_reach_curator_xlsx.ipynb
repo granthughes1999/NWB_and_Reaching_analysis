{
 "cells": [
  {
   "cell_type": "markdown",
   "metadata": {},
   "source": [
    "# This file is to take the .xlsx file created by reach_Curator_py38_v3.py script, and adds in the missing rows for T6000, T5000 values\n",
    "- has multiple steps\n",
    "1. Backs up the raw .xlsx file created by Reach_Curator_py38_v3.py\n",
    "2. Takes raw .xlsx file created by Reach_Curator_py38_v3.py --> Adds in missing rows by reading _events.txt file and comparing it --> puts this modifed version with added rows in the root folder Grant_curate\n",
    "3. Once you have manually curated the session (ie. added reaches) using the Reach_Curator_py38_v3.py\n",
    "4. this will back up that manually curated .xlsx file into this folder, which it creates if it does not exist already --> completed_manual_curation_backup\n",
    "5. finally, it will remove any rows that have no values for ReachInit > ReachMax > ReachEnd_ --> it will then put this final cleaned version back into the root folder that the Reach_Curator_py38_v3.py saves and reads from --> Grant_curate"
   ]
  },
  {
   "cell_type": "code",
   "execution_count": 122,
   "metadata": {},
   "outputs": [],
   "source": [
    "import pandas as pd\n",
    "import numpy as np\n",
    "import os\n",
    "import shutil\n"
   ]
  },
  {
   "cell_type": "markdown",
   "metadata": {},
   "source": [
    "## Modify these three variables as needed"
   ]
  },
  {
   "cell_type": "code",
   "execution_count": 123,
   "metadata": {},
   "outputs": [],
   "source": [
    "root_path = r'G:\\Grant\\behavior_data\\DLC_net' # change this to your root path where all the analysis folder live, i currently use is G:\\Grant\\behavior_data\\DLC_net\n",
    "root_folder = 'grant_reach10_swingDoor-christie-2025-04-21' # change this to your root folder for one specfic mouse (this should contain multiple sessions)\n",
    "\n",
    "# Set the specific mouse session to analyze\n",
    "session_info = '20250421_session001'"
   ]
  },
  {
   "cell_type": "markdown",
   "metadata": {},
   "source": [
    "### Create new session_option for each session\n",
    "- class that lets you load data for specific mouse sesssion"
   ]
  },
  {
   "cell_type": "code",
   "execution_count": 124,
   "metadata": {},
   "outputs": [
    {
     "name": "stdout",
     "output_type": "stream",
     "text": [
      "main_path: G:\\Grant\\behavior_data\\DLC_net\\grant_reach10_swingDoor-christie-2025-04-21\n"
     ]
    }
   ],
   "source": [
    "main_path = rf'{root_path}\\{root_folder}'\n",
    "print(f'main_path: {main_path}')\n",
    "\n",
    "class select_mouse_session:\n",
    "    def __init__(self, mouse, session_date, session_ID):\n",
    "        self.mouse = mouse\n",
    "        self.session_date = session_date\n",
    "        self.session_ID = session_ID\n",
    "\n",
    "    def __repr__(self):\n",
    "        return f\"Mouse: {self.mouse}, Session Date: {self.session_date}, Session ID: {self.session_ID}\"\n",
    "    \n",
    "    def get_mouse_session_files(self):\n",
    "        mouse_session = f\"{self.mouse}_{self.session_date}_{self.session_ID}\"\n",
    "        xlsx_file = rf'{main_path}\\Grant_curate\\{self.session_date}_christielab_{self.session_ID}.xlsx'\n",
    "        txt_file = r\"G:\\Grant\\behavior_data\\DLC_net\\grant_reach10_swingDoor-christie-2025-04-21\\videos\\20250421\\christielab\\session001\\20250421_christielab_session001_events_shifted.txt\"\n",
    "        xlsx_orig = rf'G:\\Grant\\behavior_data\\DLC_net\\grant_reach10_swingDoor-christie-2025-04-21\\Grant_curate\\curator_direct_backup\\{self.session_date}_christielab_{self.session_ID}.xlsx'\n",
    "        \n",
    "        return xlsx_file, txt_file, xlsx_orig\n",
    "    \n",
    "    def get_mouse_info(self):\n",
    "        mouse_info = {\n",
    "            'mouse': self.mouse,\n",
    "            'session_date': self.session_date,\n",
    "            'session_ID': self.session_ID\n",
    "        }\n",
    "        return mouse_info\n",
    "\n"
   ]
  },
  {
   "cell_type": "code",
   "execution_count": 125,
   "metadata": {},
   "outputs": [
    {
     "name": "stdout",
     "output_type": "stream",
     "text": [
      "⚠️YOU ARE ABOUT TO MODIFY --> 20250421_session001⚠️\n",
      "\n",
      "mouse_info: {'mouse': 'reach10', 'session_date': '20250421', 'session_ID': 'session001'}\n",
      "xlsx_file: G:\\Grant\\behavior_data\\DLC_net\\grant_reach10_swingDoor-christie-2025-04-21\\Grant_curate\\20250421_christielab_session001.xlsx\n",
      "backup_dir: G:\\Grant\\behavior_data\\DLC_net\\grant_reach10_swingDoor-christie-2025-04-21\\Grant_curate\\curator_direct_backup\n",
      "original_dir: G:\\Grant\\behavior_data\\DLC_net\\grant_reach10_swingDoor-christie-2025-04-21\\Grant_curate\n"
     ]
    }
   ],
   "source": [
    "print(f\"⚠️YOU ARE ABOUT TO MODIFY --> {session_info}⚠️\")\n",
    "print('')\n",
    "\n",
    "if session_info == '20250421_session001':\n",
    "    # create a new class instance\n",
    "    reach10_20250421_session01 = select_mouse_session(mouse='reach10', session_date='20250421', session_ID='session001')\n",
    "    xlsx_file, txt_file, xlsx_orig = reach10_20250421_session01.get_mouse_session_files()\n",
    "    mouse_info = reach10_20250421_session01.get_mouse_info()\n",
    "    print(f'mouse_info: {mouse_info}')\n",
    "    print(f'xlsx_file: {xlsx_file}')\n",
    "\n",
    "if session_info == '20250424_session001':\n",
    "    # create a new class instance\n",
    "    reach10_20250425_session01 = select_mouse_session(mouse='reach10', session_date='20250424', session_ID='session001')\n",
    "    xlsx_file, txt_file, xlsx_orig = reach10_20250425_session01.get_mouse_session_files()\n",
    "    mouse_info = reach10_20250425_session01.get_mouse_info()\n",
    "    print(f'mouse_info: {mouse_info}')\n",
    "    print(f'xlsx_file: {xlsx_file}')\n",
    "\n",
    "\n",
    "\n",
    "    # ---- Step 1: Make a backup in curator_backup folder\n",
    "original_dir = os.path.dirname(xlsx_file)\n",
    "backup_dir = os.path.join(original_dir, 'curator_direct_backup')\n",
    "os.makedirs(backup_dir, exist_ok=True)\n",
    "print(f'backup_dir: {backup_dir}')\n",
    "print(f'original_dir: {original_dir}')"
   ]
  },
  {
   "cell_type": "markdown",
   "metadata": {},
   "source": [
    "## Verify existence of session files"
   ]
  },
  {
   "cell_type": "code",
   "execution_count": 133,
   "metadata": {},
   "outputs": [
    {
     "name": "stdout",
     "output_type": "stream",
     "text": [
      "✅ Backup saved to: G:\\Grant\\behavior_data\\DLC_net\\grant_reach10_swingDoor-christie-2025-04-21\\Grant_curate\\curator_direct_backup\\20250421_christielab_session001.xlsx\n",
      "backup_dir: G:\\Grant\\behavior_data\\DLC_net\\grant_reach10_swingDoor-christie-2025-04-21\\Grant_curate\\curator_direct_backup\\20250421_christielab_session001.xlsx\n"
     ]
    }
   ],
   "source": [
    "if not os.path.exists(txt_file):\n",
    "    print(f\"⚠️Warning: {txt_file} does not exist⚠️\")\n",
    "\n",
    "backup_file_path = os.path.join(backup_dir, os.path.basename(xlsx_file))\n",
    "if os.path.exists(backup_file_path):\n",
    "    print(f\"⚠️Warning: Backup file already exists at {backup_file_path}⚠️\")\n",
    "else:\n",
    "        # Check if files exist\n",
    "    if not os.path.exists(xlsx_file):\n",
    "        print(f\"⚠️Warning: {xlsx_file} does not exist⚠️\")\n",
    "    else:\n",
    "        # Copy the original file to the backup directory\n",
    "        shutil.copy2(xlsx_file, backup_file_path)\n",
    "        print(f\"✅ Backup saved to: {backup_file_path}\")\n",
    "\n",
    "# ---- (your parsing & merging code goes here)\n",
    "# ... your code to build `combined` DataFrame ...\n",
    "\n",
    "print(f'backup_dir: {backup_file_path}')\n"
   ]
  },
  {
   "cell_type": "markdown",
   "metadata": {},
   "source": [
    "### This is the cell that takes the .xlsx file and the .txt file and creates a new .xlsx file with the manual additions\n",
    "- makes a new folder called manual_additions if it does not exist\n",
    "- reads the .xlsx file into a pandas dataframe\n",
    "- reads the .txt file into a pandas dataframe\n",
    "- creates a new dataframe with the manual additions\n",
    "- saves the new dataframe to a new .xlsx file\n",
    "\n"
   ]
  },
  {
   "cell_type": "code",
   "execution_count": 134,
   "metadata": {},
   "outputs": [
    {
     "name": "stdout",
     "output_type": "stream",
     "text": [
      "Loading existing xlsx file: G:\\Grant\\behavior_data\\DLC_net\\grant_reach10_swingDoor-christie-2025-04-21\\Grant_curate\\20250421_christielab_session001.xlsx\n"
     ]
    },
    {
     "data": {
      "text/html": [
       "<div>\n",
       "<style scoped>\n",
       "    .dataframe tbody tr th:only-of-type {\n",
       "        vertical-align: middle;\n",
       "    }\n",
       "\n",
       "    .dataframe tbody tr th {\n",
       "        vertical-align: top;\n",
       "    }\n",
       "\n",
       "    .dataframe thead th {\n",
       "        text-align: right;\n",
       "    }\n",
       "</style>\n",
       "<table border=\"1\" class=\"dataframe\">\n",
       "  <thead>\n",
       "    <tr style=\"text-align: right;\">\n",
       "      <th></th>\n",
       "      <th>T6000</th>\n",
       "      <th>T5000</th>\n",
       "      <th>reachInit</th>\n",
       "      <th>reachMax</th>\n",
       "      <th>reachEnd</th>\n",
       "      <th>stim</th>\n",
       "      <th>behaviors</th>\n",
       "      <th>pellet_delivery</th>\n",
       "      <th>pellet_detected</th>\n",
       "    </tr>\n",
       "  </thead>\n",
       "  <tbody>\n",
       "    <tr>\n",
       "      <th>0</th>\n",
       "      <td>1768</td>\n",
       "      <td>2205.0</td>\n",
       "      <td>NaN</td>\n",
       "      <td>NaN</td>\n",
       "      <td>NaN</td>\n",
       "      <td>0</td>\n",
       "      <td>NaN</td>\n",
       "      <td>2203.0</td>\n",
       "      <td>1823.0</td>\n",
       "    </tr>\n",
       "    <tr>\n",
       "      <th>1</th>\n",
       "      <td>4255</td>\n",
       "      <td>4388.0</td>\n",
       "      <td>4423.0</td>\n",
       "      <td>4436.0</td>\n",
       "      <td>4449.0</td>\n",
       "      <td>0</td>\n",
       "      <td>grabbed</td>\n",
       "      <td>4385.0</td>\n",
       "      <td>4308.0</td>\n",
       "    </tr>\n",
       "    <tr>\n",
       "      <th>2</th>\n",
       "      <td>6582</td>\n",
       "      <td>6833.0</td>\n",
       "      <td>NaN</td>\n",
       "      <td>NaN</td>\n",
       "      <td>NaN</td>\n",
       "      <td>0</td>\n",
       "      <td>NaN</td>\n",
       "      <td>6831.0</td>\n",
       "      <td>6642.0</td>\n",
       "    </tr>\n",
       "    <tr>\n",
       "      <th>3</th>\n",
       "      <td>8895</td>\n",
       "      <td>9263.0</td>\n",
       "      <td>NaN</td>\n",
       "      <td>NaN</td>\n",
       "      <td>NaN</td>\n",
       "      <td>0</td>\n",
       "      <td>NaN</td>\n",
       "      <td>9261.0</td>\n",
       "      <td>8956.0</td>\n",
       "    </tr>\n",
       "    <tr>\n",
       "      <th>4</th>\n",
       "      <td>13422</td>\n",
       "      <td>13632.0</td>\n",
       "      <td>13669.0</td>\n",
       "      <td>13681.0</td>\n",
       "      <td>13696.0</td>\n",
       "      <td>0</td>\n",
       "      <td>grabbed</td>\n",
       "      <td>13630.0</td>\n",
       "      <td>13477.0</td>\n",
       "    </tr>\n",
       "  </tbody>\n",
       "</table>\n",
       "</div>"
      ],
      "text/plain": [
       "   T6000    T5000  reachInit  reachMax  reachEnd  stim behaviors  \\\n",
       "0   1768   2205.0        NaN       NaN       NaN     0       NaN   \n",
       "1   4255   4388.0     4423.0    4436.0    4449.0     0   grabbed   \n",
       "2   6582   6833.0        NaN       NaN       NaN     0       NaN   \n",
       "3   8895   9263.0        NaN       NaN       NaN     0       NaN   \n",
       "4  13422  13632.0    13669.0   13681.0   13696.0     0   grabbed   \n",
       "\n",
       "   pellet_delivery  pellet_detected  \n",
       "0           2203.0           1823.0  \n",
       "1           4385.0           4308.0  \n",
       "2           6831.0           6642.0  \n",
       "3           9261.0           8956.0  \n",
       "4          13630.0          13477.0  "
      ]
     },
     "execution_count": 134,
     "metadata": {},
     "output_type": "execute_result"
    }
   ],
   "source": [
    "# Load existing curated xlsx\n",
    "print(f\"Loading existing xlsx file: {xlsx_file}\")\n",
    "df_orig = pd.read_excel(xlsx_file)\n",
    "df_orig.head()"
   ]
  },
  {
   "cell_type": "code",
   "execution_count": 135,
   "metadata": {},
   "outputs": [],
   "source": [
    "\n",
    "class modify_curator_xlsx_file(object):\n",
    "    def __init__(self, xlsx_file, txt_file,save_df=True):\n",
    "        self.txt_file = txt_file\n",
    "        self.xlsx_file = xlsx_file\n",
    "        self.save_df = save_df\n",
    "\n",
    "        \n",
    "    def create_new_xlxs_file(self):\n",
    "        save_df = self.save_df\n",
    "        # Load the existing xlsx file\n",
    "        df_orig = pd.read_excel(self.xlsx_file)\n",
    "        # Check if the file is empty\n",
    "        txt_file = self.txt_file\n",
    "        if not os.path.exists(txt_file):\n",
    "            print(f\"⚠️Warning: {txt_file} does not exist⚠️\")\n",
    "            return None\n",
    "        # Check if the xlsx file is empty\n",
    "        xlsx_file = self.xlsx_file\n",
    "        if not os.path.exists(xlsx_file):\n",
    "            print(f\"⚠️Warning: {xlsx_file} does not exist⚠️\")\n",
    "            return None\n",
    "\n",
    "        if df_orig.empty:\n",
    "            print(\"⚠️Warning: The xlsx file is empty⚠️\")\n",
    "            return None\n",
    "        \n",
    "        # Normalize column names just in case\n",
    "        df_orig.columns = df_orig.columns.str.strip()\n",
    "\n",
    "        # Load and parse txt as done earlier\n",
    "        events = []\n",
    "        current_event = {}\n",
    "        with open(txt_file, 'r') as f:\n",
    "            for line in f:\n",
    "                if line.strip():\n",
    "                    key, value = line.strip().split('\\t')\n",
    "                    value = int(value)\n",
    "                    if key == 'T6000_played':\n",
    "                        if current_event:\n",
    "                            events.append(current_event)\n",
    "                        current_event = {'T6000': value}\n",
    "                    elif key == 'pellet_detected':\n",
    "                        current_event['pellet_detected'] = value\n",
    "                    elif key == 'pellet_delivery':\n",
    "                        current_event['pellet_delivery'] = value\n",
    "                    elif key == 'T5000_played':\n",
    "                        current_event['T5000'] = value\n",
    "        if current_event:\n",
    "            events.append(current_event)\n",
    "\n",
    "        events_df = pd.DataFrame(events)\n",
    "\n",
    "        # Find which T6000s are missing from original file\n",
    "        existing_T6000s = df_orig['T6000'].values\n",
    "        new_rows = events_df[~events_df['T6000'].isin(existing_T6000s)].copy()\n",
    "\n",
    "        # Fill in missing columns to match structure\n",
    "        new_rows['reachInit'] = np.nan\n",
    "        new_rows['reachMax'] = np.nan\n",
    "        new_rows['reachEnd'] = np.nan\n",
    "        new_rows['stim'] = 0\n",
    "        new_rows['behaviors'] = np.nan\n",
    "\n",
    "        # # Reorder columns to match original file\n",
    "        # new_rows = new_rows[['reachinit', 'reachmax', 'reachend', 'stim',\n",
    "        #                      'pellet_delivery', 'pellet_detected', 't6000', 't5000', 'behaviors']]\n",
    "\n",
    "        # Reorder columns to match original file\n",
    "        new_rows = new_rows[['T6000', 'T5000', 'reachInit', 'reachMax',\n",
    "                            'reachEnd', 'stim','behaviors' ,'pellet_delivery', 'pellet_detected']]\n",
    "\n",
    "        # Combine and sort by T6000\n",
    "        combined = pd.concat([df_orig, new_rows], ignore_index=True)\n",
    "        combined = combined.sort_values(by='T6000').reset_index(drop=True)\n",
    "\n",
    "        # Force final column order\n",
    "        combined = combined[['T6000', 'T5000', 'reachInit', 'reachMax',\n",
    "                            'reachEnd', 'stim', 'behaviors',\n",
    "                            'pellet_delivery', 'pellet_detected']]\n",
    "\n",
    "\n",
    "        # ---- Step 2: Save output as the same original file (overwrite it)\n",
    "        xlsx_save_path = xlsx_file\n",
    "        self.xlsx_file = xlsx_save_path\n",
    "\n",
    "        original_dir = os.path.dirname(self.xlsx_file)\n",
    "        backup_dir = os.path.join(original_dir, 'curator_direct_backup')\n",
    "        backup_file_path = os.path.join(backup_dir, os.path.basename(self.xlsx_file))\n",
    "\n",
    "        # Save the combined DataFrame to the same xlsx file\n",
    "        if save_df:\n",
    "            if os.path.exists(backup_file_path):\n",
    "                combined.to_excel(xlsx_save_path, index=False)\n",
    "                print(f\"✅ Final merged Excel saved to: {xlsx_save_path}\")\n",
    "                return combined, xlsx_save_path\n",
    "            else:\n",
    "                print(f\"⚠️Warning: Backup file doesnt exists⚠️\")\n",
    "                print('❌ Stopping the script to avoid overwriting the xlsx file without a back up❌')\n",
    "                print(f\"⚠️Warning: {backup_file_path} does not exist⚠️\")\n",
    "                return None, None\n",
    "        else:\n",
    "            print(f\"⚠️Warning: DataFrame not saved to {xlsx_save_path}⚠️\")\n",
    "            print('set save_df to True to save the DataFrame')\n",
    "            return combined\n",
    "    \n",
    "\n",
    "    def drop_empty_reach_rows(self):\n",
    "      \n",
    "        df = pd.read_excel(self.xlsx_file)\n",
    "        # back up the newly created xlsx file\n",
    "        backup_dir_02 = os.path.join(os.path.dirname(self.xlsx_file), 'completed_manual_curation_backup')\n",
    "        os.makedirs(backup_dir_02, exist_ok=True)\n",
    "        backup_file_path_02 = os.path.join(backup_dir_02, os.path.basename(self.xlsx_file))\n",
    "        if os.path.exists(backup_file_path_02):\n",
    "            print(f\"⚠️Warning: Backup file already exists at {backup_file_path_02}⚠️\")\n",
    "            print('❌ Stopping the script to avoid overwriting the backup file ❌')\n",
    "            return None \n",
    "        else:\n",
    "            # Copy the original file to the backup directory\n",
    "            shutil.copy2(self.xlsx_file, backup_file_path_02)\n",
    "            print(f\"✅ Backup saved to: {backup_file_path_02}\")\n",
    "        \"\"\"\n",
    "        Drop specified rows from the DataFrame.\n",
    "        \"\"\"\n",
    "        # Drop bad rows\n",
    "        df = df.dropna(subset=['reachInit']).reset_index(drop=True)\n",
    "         # save the DataFrame to the same xlsx file\n",
    "        if self.save_df:\n",
    "            df.to_excel(self.xlsx_file, index=False)\n",
    "            print(f\"✅ Final merged Excel saved to: {self.xlsx_file}\")   \n",
    "              \n",
    "        return df\n",
    "\n",
    "\n"
   ]
  },
  {
   "cell_type": "code",
   "execution_count": 136,
   "metadata": {},
   "outputs": [],
   "source": [
    "safe_fail_modify = False"
   ]
  },
  {
   "cell_type": "code",
   "execution_count": 139,
   "metadata": {},
   "outputs": [
    {
     "name": "stdout",
     "output_type": "stream",
     "text": [
      "✅ Final merged Excel saved to: G:\\Grant\\behavior_data\\DLC_net\\grant_reach10_swingDoor-christie-2025-04-21\\Grant_curate\\20250421_christielab_session001.xlsx\n"
     ]
    }
   ],
   "source": [
    "if safe_fail_modify:\n",
    "    mouse_sessions = modify_curator_xlsx_file(xlsx_file, txt_file,save_df=True)\n",
    "    df_modied, xlsx_saved_file = mouse_sessions.create_new_xlxs_file()\n",
    "    df_modied\n",
    "else:\n",
    "    print(f\"⚠️Warning: safe_fail actviated⚠️\")\n",
    "    print('if you want to run the code, please re-run this cell')\n",
    "    print('Note this cell is to prevent accidental overwriting of the xlsx file')\n",
    "    safe_fail_modify = True"
   ]
  },
  {
   "cell_type": "code",
   "execution_count": 140,
   "metadata": {},
   "outputs": [
    {
     "data": {
      "text/html": [
       "<div>\n",
       "<style scoped>\n",
       "    .dataframe tbody tr th:only-of-type {\n",
       "        vertical-align: middle;\n",
       "    }\n",
       "\n",
       "    .dataframe tbody tr th {\n",
       "        vertical-align: top;\n",
       "    }\n",
       "\n",
       "    .dataframe thead th {\n",
       "        text-align: right;\n",
       "    }\n",
       "</style>\n",
       "<table border=\"1\" class=\"dataframe\">\n",
       "  <thead>\n",
       "    <tr style=\"text-align: right;\">\n",
       "      <th></th>\n",
       "      <th>T6000</th>\n",
       "      <th>T5000</th>\n",
       "      <th>reachInit</th>\n",
       "      <th>reachMax</th>\n",
       "      <th>reachEnd</th>\n",
       "      <th>stim</th>\n",
       "      <th>behaviors</th>\n",
       "      <th>pellet_delivery</th>\n",
       "      <th>pellet_detected</th>\n",
       "    </tr>\n",
       "  </thead>\n",
       "  <tbody>\n",
       "    <tr>\n",
       "      <th>0</th>\n",
       "      <td>1768</td>\n",
       "      <td>2205.0</td>\n",
       "      <td>NaN</td>\n",
       "      <td>NaN</td>\n",
       "      <td>NaN</td>\n",
       "      <td>0</td>\n",
       "      <td>NaN</td>\n",
       "      <td>2203.0</td>\n",
       "      <td>1823.0</td>\n",
       "    </tr>\n",
       "    <tr>\n",
       "      <th>1</th>\n",
       "      <td>4255</td>\n",
       "      <td>4388.0</td>\n",
       "      <td>4423.0</td>\n",
       "      <td>4436.0</td>\n",
       "      <td>4449.0</td>\n",
       "      <td>0</td>\n",
       "      <td>grabbed</td>\n",
       "      <td>4385.0</td>\n",
       "      <td>4308.0</td>\n",
       "    </tr>\n",
       "    <tr>\n",
       "      <th>2</th>\n",
       "      <td>6582</td>\n",
       "      <td>6833.0</td>\n",
       "      <td>NaN</td>\n",
       "      <td>NaN</td>\n",
       "      <td>NaN</td>\n",
       "      <td>0</td>\n",
       "      <td>NaN</td>\n",
       "      <td>6831.0</td>\n",
       "      <td>6642.0</td>\n",
       "    </tr>\n",
       "    <tr>\n",
       "      <th>3</th>\n",
       "      <td>8895</td>\n",
       "      <td>9263.0</td>\n",
       "      <td>NaN</td>\n",
       "      <td>NaN</td>\n",
       "      <td>NaN</td>\n",
       "      <td>0</td>\n",
       "      <td>NaN</td>\n",
       "      <td>9261.0</td>\n",
       "      <td>8956.0</td>\n",
       "    </tr>\n",
       "    <tr>\n",
       "      <th>4</th>\n",
       "      <td>13422</td>\n",
       "      <td>13632.0</td>\n",
       "      <td>13669.0</td>\n",
       "      <td>13681.0</td>\n",
       "      <td>13696.0</td>\n",
       "      <td>0</td>\n",
       "      <td>grabbed</td>\n",
       "      <td>13630.0</td>\n",
       "      <td>13477.0</td>\n",
       "    </tr>\n",
       "  </tbody>\n",
       "</table>\n",
       "</div>"
      ],
      "text/plain": [
       "   T6000    T5000  reachInit  reachMax  reachEnd  stim behaviors  \\\n",
       "0   1768   2205.0        NaN       NaN       NaN     0       NaN   \n",
       "1   4255   4388.0     4423.0    4436.0    4449.0     0   grabbed   \n",
       "2   6582   6833.0        NaN       NaN       NaN     0       NaN   \n",
       "3   8895   9263.0        NaN       NaN       NaN     0       NaN   \n",
       "4  13422  13632.0    13669.0   13681.0   13696.0     0   grabbed   \n",
       "\n",
       "   pellet_delivery  pellet_detected  \n",
       "0           2203.0           1823.0  \n",
       "1           4385.0           4308.0  \n",
       "2           6831.0           6642.0  \n",
       "3           9261.0           8956.0  \n",
       "4          13630.0          13477.0  "
      ]
     },
     "execution_count": 140,
     "metadata": {},
     "output_type": "execute_result"
    }
   ],
   "source": [
    "# Load existing curated xlsx\n",
    "df_modified = pd.read_excel(xlsx_saved_file)\n",
    "df_modified.head(5)"
   ]
  },
  {
   "cell_type": "markdown",
   "metadata": {},
   "source": [
    "## Drop empty rows\n",
    "- this is for after you finished manually curating the behavior session\n",
    "- there is left over rows with no reachInit values\n",
    "- the cells bellow does the following:\n",
    "- 1. duplicates the manually curated .xlsx\n",
    "  2. drops empty reach rows\n",
    "  3. saves new .xlsx file back to original location"
   ]
  },
  {
   "cell_type": "code",
   "execution_count": 141,
   "metadata": {},
   "outputs": [],
   "source": [
    "# set the session info\n",
    "session_info = '20250421_session001'"
   ]
  },
  {
   "cell_type": "code",
   "execution_count": 142,
   "metadata": {},
   "outputs": [
    {
     "name": "stdout",
     "output_type": "stream",
     "text": [
      "mouse_info: {'mouse': 'reach10', 'session_date': '20250421', 'session_ID': 'session001'}\n",
      "xlsx_file: G:\\Grant\\behavior_data\\DLC_net\\grant_reach10_swingDoor-christie-2025-04-21\\Grant_curate\\20250421_christielab_session001.xlsx\n"
     ]
    }
   ],
   "source": [
    "if session_info == '20250421_session001':\n",
    "    # create a new class instance\n",
    "    reach10_20250421_session01 = select_mouse_session(mouse='reach10', session_date='20250421', session_ID='session001')\n",
    "    xlsx_file, txt_file, xlsx_orig = reach10_20250421_session01.get_mouse_session_files()\n",
    "    mouse_info = reach10_20250421_session01.get_mouse_info()\n",
    "    print(f'mouse_info: {mouse_info}')\n",
    "    print(f'xlsx_file: {xlsx_file}')\n",
    "\n",
    "if session_info == '20250424_session001':\n",
    "    # create a new class instance\n",
    "    reach10_20250425_session01 = select_mouse_session(mouse='reach10', session_date='20250424', session_ID='session001')\n",
    "    xlsx_file, txt_file, xlsx_orig = reach10_20250425_session01.get_mouse_session_files()\n",
    "    mouse_info = reach10_20250425_session01.get_mouse_info()\n",
    "    print(f'mouse_info: {mouse_info}')\n",
    "    print(f'xlsx_file: {xlsx_file}')"
   ]
  },
  {
   "cell_type": "code",
   "execution_count": 143,
   "metadata": {},
   "outputs": [],
   "source": [
    "safe_fail = False"
   ]
  },
  {
   "cell_type": "code",
   "execution_count": 145,
   "metadata": {},
   "outputs": [
    {
     "name": "stdout",
     "output_type": "stream",
     "text": [
      "✅ Backup saved to: G:\\Grant\\behavior_data\\DLC_net\\grant_reach10_swingDoor-christie-2025-04-21\\Grant_curate\\completed_manual_curation_backup\\20250421_christielab_session001.xlsx\n",
      "✅ Final merged Excel saved to: G:\\Grant\\behavior_data\\DLC_net\\grant_reach10_swingDoor-christie-2025-04-21\\Grant_curate\\20250421_christielab_session001.xlsx\n"
     ]
    }
   ],
   "source": [
    "if safe_fail:\n",
    "    mouse_sessions = modify_curator_xlsx_file(xlsx_file, txt_file,save_df=True)\n",
    "    df_dropped = mouse_sessions.drop_empty_reach_rows()\n",
    "    df_dropped\n",
    "else:\n",
    "    safe_fail = True\n",
    "    print(f\"⚠️Warning: safe_fail actviated⚠️\")\n",
    "    print('if you want to run the code, please re-run this cell')"
   ]
  },
  {
   "cell_type": "code",
   "execution_count": null,
   "metadata": {},
   "outputs": [],
   "source": []
  }
 ],
 "metadata": {
  "kernelspec": {
   "display_name": "base",
   "language": "python",
   "name": "python3"
  },
  "language_info": {
   "codemirror_mode": {
    "name": "ipython",
    "version": 3
   },
   "file_extension": ".py",
   "mimetype": "text/x-python",
   "name": "python",
   "nbconvert_exporter": "python",
   "pygments_lexer": "ipython3",
   "version": "3.11.5"
  }
 },
 "nbformat": 4,
 "nbformat_minor": 2
}
