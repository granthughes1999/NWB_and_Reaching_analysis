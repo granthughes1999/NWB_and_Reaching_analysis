{
 "cells": [
  {
   "cell_type": "markdown",
   "metadata": {},
   "source": [
    "# This file is to take the .xlsx file created by reach_Curator_py38_v3.py script, and adds in the missing rows \n",
    "-  this file --> xlsx_file = r\"G:\\Grant\\behavior_data\\DLC_net\\grant_reach10_swingDoor-christie-2025-04-21\\Grant_curate\\20250421_christielab_session001_Grant_curate_20250421.xlsx\"\n",
    "-  saves out this file --> xlsx_save_path = rf\"{main_path}\\Grant_curate\\manual_additions\""
   ]
  },
  {
   "cell_type": "code",
   "execution_count": 21,
   "metadata": {},
   "outputs": [],
   "source": [
    "import pandas as pd\n",
    "import numpy as np\n",
    "import os"
   ]
  },
  {
   "cell_type": "markdown",
   "metadata": {},
   "source": [
    "## Modify these three paths as needed"
   ]
  },
  {
   "cell_type": "code",
   "execution_count": 25,
   "metadata": {},
   "outputs": [],
   "source": [
    "root_path = r'G:\\Grant\\behavior_data\\DLC_net' # change this to your root path where all the analysis folder live, i currently use is G:\\Grant\\behavior_data\\DLC_net\n",
    "root_folder = 'grant_reach10_swingDoor-christie-2025-04-21' # change this to your root folder for one specfic mouse (this should contain multiple sessions)\n",
    "\n",
    "session_option = 'B'"
   ]
  },
  {
   "cell_type": "markdown",
   "metadata": {},
   "source": [
    "### Create new session_option for each session"
   ]
  },
  {
   "cell_type": "code",
   "execution_count": 26,
   "metadata": {},
   "outputs": [
    {
     "name": "stdout",
     "output_type": "stream",
     "text": [
      "main_path: G:\\Grant\\behavior_data\\DLC_net\\grant_reach10_swingDoor-christie-2025-04-21\n"
     ]
    }
   ],
   "source": [
    "main_path = rf'{root_path}\\{root_folder}'\n",
    "print(f'main_path: {main_path}')\n",
    "\n",
    "###### mouse session option A\n",
    "if session_option == 'A':\n",
    "    mouse = 'reach10'\n",
    "    session_date = '20250421'\n",
    "    session_ID = 'session001'\n",
    "\n",
    "\n",
    "###### mouse session option B'\n",
    "if session_option == 'B':\n",
    "    mouse = 'reach10'\n",
    "    session_date = '20250424'\n",
    "    session_ID = 'session001'\n",
    "\n",
    "\n",
    "    ###### mouse session option B'\n",
    "if session_option == 'C':\n",
    "    print(\"⚠️Info for sesion C does not exist yet⚠️\")\n",
    "    mouse = 'reach10'\n",
    "    session_date = ' '\n",
    "    session_ID = ' '"
   ]
  },
  {
   "cell_type": "code",
   "execution_count": 27,
   "metadata": {},
   "outputs": [],
   "source": [
    "if session_option == 'A':\n",
    "    xlsx_file = r\"G:\\Grant\\behavior_data\\DLC_net\\grant_reach10_swingDoor-christie-2025-04-21\\Grant_curate\\20250421_christielab_session001_Grant_curate_20250421.xlsx\"\n",
    "    txt_file = r\"G:\\Grant\\behavior_data\\DLC_net\\grant_reach10_swingDoor-christie-2025-04-21\\videos\\20250424\\christielab\\session001\\20250424_christielab_session001_events_shifted.txt\"\n",
    "    xlsx_save_path = rf\"{main_path}\\Grant_curate\\manual_additions\\{mouse}_{session_date}_{session_ID}_manual_additions.xlsx\"\n",
    "\n",
    "\n",
    "if session_option == 'B':\n",
    "    # Set path_frontCam and path_sideCam for session B manually\n",
    "    xlsx_file = r\"G:\\Grant\\behavior_data\\DLC_net\\grant_reach10_swingDoor-christie-2025-04-21\\Grant_curate\\20250424_christielab_session001_Grant_curate_20250421.xlsx\"\n",
    "    txt_file = r\"G:\\Grant\\behavior_data\\DLC_net\\grant_reach10_swingDoor-christie-2025-04-21\\videos\\20250424\\christielab\\session001\\20250424_christielab_session001_events_shifted.txt\"\n",
    "    xlsx_save_path = rf\"{main_path}\\Grant_curate\\manual_additions\\{mouse}_{session_date}_{session_ID}_manual_additions.xlsx\"\n",
    "\n",
    "manual_additions_savePath = rf\"{main_path}\\Grant_curate\\manual_additions\""
   ]
  },
  {
   "cell_type": "markdown",
   "metadata": {},
   "source": [
    "### This is the cell that takes the .xlsx file and the .txt file and creates a new .xlsx file with the manual additions\n",
    "- makes a new folder called manual_additions if it does not exist\n",
    "- reads the .xlsx file into a pandas dataframe\n",
    "- reads the .txt file into a pandas dataframe\n",
    "- creates a new dataframe with the manual additions\n",
    "- saves the new dataframe to a new .xlsx file\n",
    "\n"
   ]
  },
  {
   "cell_type": "code",
   "execution_count": null,
   "metadata": {},
   "outputs": [
    {
     "name": "stdout",
     "output_type": "stream",
     "text": [
      "✅ manual_additions Directory already exists: G:\\Grant\\behavior_data\\DLC_net\\grant_reach10_swingDoor-christie-2025-04-21\\Grant_curate\\manual_additions\n",
      "✅ Final merged CSV saved: G:\\Grant\\behavior_data\\DLC_net\\grant_reach10_swingDoor-christie-2025-04-21\\Grant_curate\\manual_additions\\reach10_20250424_session001_manual_additions.xlsx\n"
     ]
    }
   ],
   "source": [
    "\n",
    "if not os.path.exists(manual_additions_savePath):\n",
    "    os.makedirs(manual_additions_savePath)\n",
    "    print(f\"✅ manual_additions Directory created: {manual_additions_savePath}\")\n",
    "else:\n",
    "    print(f\"✅ manual_additions Directory already exists: {manual_additions_savePath}\")\n",
    "\n",
    "# Load existing curated xlsx\n",
    "df_orig = pd.read_excel(xlsx_file)\n",
    "\n",
    "# Normalize column names just in case\n",
    "df_orig.columns = df_orig.columns.str.strip().str.lower()\n",
    "\n",
    "# Load and parse txt as done earlier\n",
    "events = []\n",
    "current_event = {}\n",
    "with open(txt_file, 'r') as f:\n",
    "    for line in f:\n",
    "        if line.strip():\n",
    "            key, value = line.strip().split('\\t')\n",
    "            value = int(value)\n",
    "            if key == 'T6000_played':\n",
    "                if current_event:\n",
    "                    events.append(current_event)\n",
    "                current_event = {'T6000': value}\n",
    "            elif key == 'pellet_detected':\n",
    "                current_event['pellet_detected'] = value\n",
    "            elif key == 'pellet_delivery':\n",
    "                current_event['pellet_delivery'] = value\n",
    "            elif key == 'T5000_played':\n",
    "                current_event['T5000'] = value\n",
    "if current_event:\n",
    "    events.append(current_event)\n",
    "\n",
    "events_df = pd.DataFrame(events)\n",
    "\n",
    "# Find which T6000s are missing from original file\n",
    "existing_t6000s = df_orig['T6000'].values\n",
    "new_rows = events_df[~events_df['T6000'].isin(existing_t6000s)].copy()\n",
    "\n",
    "# Fill in missing columns to match structure\n",
    "new_rows['reachInit'] = np.nan\n",
    "new_rows['reachMax'] = np.nan\n",
    "new_rows['reachEnd'] = np.nan\n",
    "new_rows['stim'] = 0\n",
    "new_rows['behaviors'] = np.nan\n",
    "\n",
    "# Reorder columns to match original file\n",
    "new_rows = new_rows[['reachinit', 'reachmax', 'reachend', 'stim',\n",
    "                     'pellet_delivery', 'pellet_detected', 't6000', 't5000', 'behaviors']]\n",
    "\n",
    "# Reorder columns to match original file\n",
    "new_rows = new_rows[['T6000', 'T5000', 'reachInit', 'reachMax',\n",
    "                     'reachEnd', 'stim','behaviors']]\n",
    "\n",
    "# Combine and sort by T6000\n",
    "combined = pd.concat([df_orig, new_rows], ignore_index=True)\n",
    "combined = combined.sort_values(by='t6000').reset_index(drop=True)\n",
    "\n",
    "# Save final file\n",
    "combined.to_excel(xlsx_save_path, index=False)\n",
    "\n",
    "print(f\"✅ Final merged CSV saved: {xlsx_save_path}\")\n"
   ]
  },
  {
   "cell_type": "code",
   "execution_count": null,
   "metadata": {},
   "outputs": [],
   "source": []
  }
 ],
 "metadata": {
  "kernelspec": {
   "display_name": "base",
   "language": "python",
   "name": "python3"
  },
  "language_info": {
   "codemirror_mode": {
    "name": "ipython",
    "version": 3
   },
   "file_extension": ".py",
   "mimetype": "text/x-python",
   "name": "python",
   "nbconvert_exporter": "python",
   "pygments_lexer": "ipython3",
   "version": "3.11.5"
  }
 },
 "nbformat": 4,
 "nbformat_minor": 2
}
