{
 "cells": [
  {
   "cell_type": "code",
   "execution_count": 12,
   "metadata": {},
   "outputs": [],
   "source": [
    "import os\n",
    "import shutil\n",
    "\n",
    "def create_mouse_analysis_folder(master_dir, MOUSE ,NP_FILE, DATE, SESSION, NP_FILE_01,DATE_01,SESSION_01,NP_FILE_02,DATE_02,SESSION_02,BEHAVIORAL_FOLDER,mice_output_dir=\"mice\"):\n",
    "    \"\"\"\n",
    "    Copies the entire contents of the master analysis folder to a new folder for a specific mouse.\n",
    "    Skips if the mouse folder already exists.\n",
    "\n",
    "    Args:\n",
    "        master_dir (str): Path to the master folder (containing analyze_data/, general_nwb_creation/, etc.)\n",
    "        mouse_name (str): Name or ID of the mouse (e.g., 'mouse_001')\n",
    "        mice_output_dir (str): Parent directory where mouse folders will be created (default = 'mice')\n",
    "    \"\"\"\n",
    "    # Create full path for new mouse\n",
    "    mouse_folder_path = os.path.join(mice_output_dir, MOUSE)\n",
    "\n",
    "    # Fail-safe: check if the folder already exists\n",
    "    if os.path.exists(mouse_folder_path):\n",
    "        print(f\"⚠️  Mouse folder already exists: {mouse_folder_path} — skipping to avoid overwrite.\")\n",
    "        return\n",
    "\n",
    "    # Create parent output dir if needed\n",
    "    os.makedirs(mice_output_dir, exist_ok=True)\n",
    "\n",
    "    # Copy master folder contents into new mouse folder\n",
    "    shutil.copytree(master_dir, mouse_folder_path)\n",
    "\n",
    "    # Create a .env file in the new mouse folder\n",
    "    env_file_path = os.path.join(mouse_folder_path, '.env')\n",
    "    with open(env_file_path, 'w') as env_file:\n",
    "        env_file.write(f\"MOUSE={MOUSE}\\n\")\n",
    "        env_file.write(f\"NP_FILE={NP_FILE}\\n\")\n",
    "        env_file.write(f\"DATE={DATE}\\n\")\n",
    "        env_file.write(f\"SESSION={SESSION}\\n\")\n",
    "        env_file.write(f\"BEHAVIORAL_FOLDER={BEHAVIORAL_FOLDER}\\n\")\n",
    "        env_file.write(f\"NP_FILE_01={NP_FILE_01}\\n\")\n",
    "        env_file.write(f\"DATE_01={DATE_01}\\n\")\n",
    "        env_file.write(f\"SESSION_01={SESSION_01}\\n\")\n",
    "        env_file.write(f\"NP_FILE_02={NP_FILE_02}\\n\")\n",
    "        env_file.write(f\"DATE_02={DATE_02}\\n\")\n",
    "        env_file.write(f\"SESSION_02={SESSION_02}\\n\")\n",
    "\n",
    "    print(f\"✅ Mouse folder created: {mouse_folder_path}\")\n"
   ]
  },
  {
   "cell_type": "code",
   "execution_count": 13,
   "metadata": {},
   "outputs": [
    {
     "name": "stdout",
     "output_type": "stream",
     "text": [
      "✅ Mouse folder created: C:\\Users\\user\\Documents\\github\\NWB_and_Reaching_analysis\\mice\\reach3\n"
     ]
    }
   ],
   "source": [
    "# Add behavioral data to the mouse name --> this should be the root folder name from G:\\Grant\\behavior_data\\DLC_net\\BEHAVIORAL_FOLDER\n",
    "BEHAVIORAL_FOLDER = \"grant_reach3_swingDoor-christie\"\n",
    "\n",
    "# The general mouse name --> Just the mouse name, not the full path\n",
    "MOUSE = 'reach3'\n",
    "\n",
    "# information for one specific recording and or behavioral data\n",
    "NP_FILE = \"reach3_01_2024-11-14_21-30-18_001\"  \n",
    "DATE = '20241114'\n",
    "SESSION = 'session010'      \n",
    "\n",
    "# If you have multiple sessions, you can modify the SESSION variable accordingly.\n",
    "NP_FILE_01 = 'reach3_02_2024-11-14_23-57-24_002'\n",
    "DATE_01 = '20241114'\n",
    "SESSION_01 = 'session011'\n",
    "\n",
    "# If you have multiple sessions, you can modify the DATE and SESSION variables accordingly.\n",
    "NP_FILE_02 = 'NA'\n",
    "DATE_02 = 'NA'\n",
    "SESSION_02 = 'NA'\n",
    "\n",
    "\n",
    "# Replace these with the paths on your local machine\n",
    "master_directory = r\"C:\\Users\\user\\Documents\\github\\NWB_and_Reaching_analysis\\master\"       # Path to your 'master/' folder\n",
    "mouse_output_directory = r\"C:\\Users\\user\\Documents\\github\\NWB_and_Reaching_analysis\\mice\"  # Where to create the mouse folder\n",
    "\n",
    "# Run the function\n",
    "create_mouse_analysis_folder(master_directory,MOUSE, NP_FILE, SESSION, DATE,NP_FILE_01 ,DATE_01, SESSION_01,NP_FILE_02,DATE_02,SESSION_02,BEHAVIORAL_FOLDER, mouse_output_directory)\n"
   ]
  },
  {
   "cell_type": "code",
   "execution_count": null,
   "metadata": {},
   "outputs": [],
   "source": []
  }
 ],
 "metadata": {
  "kernelspec": {
   "display_name": "reaching_task",
   "language": "python",
   "name": "python3"
  },
  "language_info": {
   "codemirror_mode": {
    "name": "ipython",
    "version": 3
   },
   "file_extension": ".py",
   "mimetype": "text/x-python",
   "name": "python",
   "nbconvert_exporter": "python",
   "pygments_lexer": "ipython3",
   "version": "3.9.19"
  }
 },
 "nbformat": 4,
 "nbformat_minor": 2
}
