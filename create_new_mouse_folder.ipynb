{
 "cells": [
  {
   "cell_type": "code",
   "execution_count": 1,
   "metadata": {},
   "outputs": [],
   "source": [
    "import os\n",
    "import shutil\n",
    "\n",
    "def create_mouse_analysis_folder(master_dir, mouse_name, mice_output_dir=\"mice\"):\n",
    "    \"\"\"\n",
    "    Copies the entire contents of the master analysis folder to a new folder for a specific mouse.\n",
    "\n",
    "    Args:\n",
    "        master_dir (str): Path to the master folder (containing analyze_data/, general_nwb_creation/, etc.)\n",
    "        mouse_name (str): Name or ID of the mouse (e.g., 'mouse_001')\n",
    "        mice_output_dir (str): Parent directory where mouse folders will be created (default = 'mice')\n",
    "    \"\"\"\n",
    "    # Create full path for new mouse\n",
    "    mouse_folder_path = os.path.join(mice_output_dir, mouse_name)\n",
    "\n",
    "    # Ensure the mouse output directory exists\n",
    "    os.makedirs(mouse_folder_path, exist_ok=True)\n",
    "\n",
    "    # Copy the master folder structure into the mouse folder\n",
    "    shutil.copytree(master_dir, mouse_folder_path, dirs_exist_ok=True)\n",
    "\n",
    "    print(f\"✅ Mouse folder created: {mouse_folder_path}\")\n",
    "\n"
   ]
  },
  {
   "cell_type": "code",
   "execution_count": 5,
   "metadata": {},
   "outputs": [
    {
     "name": "stdout",
     "output_type": "stream",
     "text": [
      "✅ Mouse folder created: C:\\Users\\user\\Documents\\github\\NWB_and_Reaching_analysis\\mice\\reach3_01_2024-11-14_21-30-18_001\n"
     ]
    }
   ],
   "source": [
    "# The new mouse name or ID\n",
    "mouse_id = \"reach3_01_2024-11-14_21-30-18_001\"                                                 \n",
    "\n",
    "\n",
    "# Replace these with the paths on your local machine\n",
    "master_directory = r\"C:\\Users\\user\\Documents\\github\\NWB_and_Reaching_analysis\\master\"       # Path to your 'master/' folder\n",
    "mouse_output_directory = r\"C:\\Users\\user\\Documents\\github\\NWB_and_Reaching_analysis\\mice\"  # Where to create the mouse folder\n",
    "\n",
    "# Run the function\n",
    "create_mouse_analysis_folder(master_directory, mouse_id, mouse_output_directory)\n"
   ]
  }
 ],
 "metadata": {
  "kernelspec": {
   "display_name": "reaching_task",
   "language": "python",
   "name": "python3"
  },
  "language_info": {
   "codemirror_mode": {
    "name": "ipython",
    "version": 3
   },
   "file_extension": ".py",
   "mimetype": "text/x-python",
   "name": "python",
   "nbconvert_exporter": "python",
   "pygments_lexer": "ipython3",
   "version": "3.9.19"
  }
 },
 "nbformat": 4,
 "nbformat_minor": 2
}
