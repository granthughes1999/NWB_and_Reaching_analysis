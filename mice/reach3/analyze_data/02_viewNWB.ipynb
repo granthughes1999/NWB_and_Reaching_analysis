{
 "cells": [
  {
   "cell_type": "markdown",
   "metadata": {},
   "source": [
    "### browse with NWBwidget\n",
    "- Uncomment !pip install nwbwidgets for nwbwidgets first time use \n",
    "- this code simply loads in the NWB and allows you to look through it\n",
    "- simply provide the path to the NWB\n"
   ]
  },
  {
   "cell_type": "code",
   "execution_count": 1,
   "metadata": {},
   "outputs": [],
   "source": [
    "# !pip install nwbwidgets"
   ]
  },
  {
   "cell_type": "markdown",
   "metadata": {},
   "source": [
    "### load the nwb file"
   ]
  },
  {
   "cell_type": "code",
   "execution_count": 2,
   "metadata": {},
   "outputs": [],
   "source": [
    "from pynwb import NWBHDF5IO\n",
    "from nwbwidgets import nwb2widget\n",
    "import dlab.psth_and_raster as psth"
   ]
  },
  {
   "cell_type": "code",
   "execution_count": 4,
   "metadata": {},
   "outputs": [],
   "source": [
    "nwb_save_path = r'G:\\Grant\\neuropixels\\nwb\\reach7_07_2024-12-04_20-57-49_008____2025-02-03_14-16-34'\n",
    "\n",
    "io = NWBHDF5IO(nwb_save_path, mode='r')\n",
    "nwb_ = io.read()"
   ]
  },
  {
   "cell_type": "code",
   "execution_count": 5,
   "metadata": {},
   "outputs": [],
   "source": [
    "df_stim = nwb_.trials.to_dataframe()\n",
    "# df_opto = nwb_.get_time_intervals('optogenetics_states').to_dataframe()\n",
    "df_units = nwb_.units.to_dataframe()"
   ]
  },
  {
   "cell_type": "code",
   "execution_count": 6,
   "metadata": {},
   "outputs": [
    {
     "data": {
      "text/html": [
       "<div>\n",
       "<style scoped>\n",
       "    .dataframe tbody tr th:only-of-type {\n",
       "        vertical-align: middle;\n",
       "    }\n",
       "\n",
       "    .dataframe tbody tr th {\n",
       "        vertical-align: top;\n",
       "    }\n",
       "\n",
       "    .dataframe thead th {\n",
       "        text-align: right;\n",
       "    }\n",
       "</style>\n",
       "<table border=\"1\" class=\"dataframe\">\n",
       "  <thead>\n",
       "    <tr style=\"text-align: right;\">\n",
       "      <th></th>\n",
       "      <th>start_time</th>\n",
       "      <th>stop_time</th>\n",
       "      <th>stimulus</th>\n",
       "    </tr>\n",
       "    <tr>\n",
       "      <th>id</th>\n",
       "      <th></th>\n",
       "      <th></th>\n",
       "      <th></th>\n",
       "    </tr>\n",
       "  </thead>\n",
       "  <tbody>\n",
       "    <tr>\n",
       "      <th>0</th>\n",
       "      <td>265.057246</td>\n",
       "      <td>287.065699</td>\n",
       "      <td>tone1_timestamps</td>\n",
       "    </tr>\n",
       "    <tr>\n",
       "      <th>1</th>\n",
       "      <td>279.803539</td>\n",
       "      <td>301.811992</td>\n",
       "      <td>tone1_timestamps</td>\n",
       "    </tr>\n",
       "    <tr>\n",
       "      <th>2</th>\n",
       "      <td>294.557752</td>\n",
       "      <td>316.566205</td>\n",
       "      <td>tone1_timestamps</td>\n",
       "    </tr>\n",
       "    <tr>\n",
       "      <th>3</th>\n",
       "      <td>309.560026</td>\n",
       "      <td>331.568479</td>\n",
       "      <td>tone1_timestamps</td>\n",
       "    </tr>\n",
       "    <tr>\n",
       "      <th>4</th>\n",
       "      <td>324.059259</td>\n",
       "      <td>346.067712</td>\n",
       "      <td>tone1_timestamps</td>\n",
       "    </tr>\n",
       "  </tbody>\n",
       "</table>\n",
       "</div>"
      ],
      "text/plain": [
       "    start_time   stop_time          stimulus\n",
       "id                                          \n",
       "0   265.057246  287.065699  tone1_timestamps\n",
       "1   279.803539  301.811992  tone1_timestamps\n",
       "2   294.557752  316.566205  tone1_timestamps\n",
       "3   309.560026  331.568479  tone1_timestamps\n",
       "4   324.059259  346.067712  tone1_timestamps"
      ]
     },
     "execution_count": 6,
     "metadata": {},
     "output_type": "execute_result"
    }
   ],
   "source": [
    "df_stim.head()"
   ]
  },
  {
   "cell_type": "code",
   "execution_count": 7,
   "metadata": {},
   "outputs": [
    {
     "data": {
      "text/html": [
       "<div>\n",
       "<style scoped>\n",
       "    .dataframe tbody tr th:only-of-type {\n",
       "        vertical-align: middle;\n",
       "    }\n",
       "\n",
       "    .dataframe tbody tr th {\n",
       "        vertical-align: top;\n",
       "    }\n",
       "\n",
       "    .dataframe thead th {\n",
       "        text-align: right;\n",
       "    }\n",
       "</style>\n",
       "<table border=\"1\" class=\"dataframe\">\n",
       "  <thead>\n",
       "    <tr style=\"text-align: right;\">\n",
       "      <th></th>\n",
       "      <th>cluster_id</th>\n",
       "      <th>depth</th>\n",
       "      <th>xpos</th>\n",
       "      <th>ypos</th>\n",
       "      <th>label</th>\n",
       "      <th>KSlabel</th>\n",
       "      <th>KSamplitude</th>\n",
       "      <th>KScontamination</th>\n",
       "      <th>probe</th>\n",
       "      <th>channel</th>\n",
       "      <th>n_spikes</th>\n",
       "      <th>spike_times</th>\n",
       "    </tr>\n",
       "    <tr>\n",
       "      <th>id</th>\n",
       "      <th></th>\n",
       "      <th></th>\n",
       "      <th></th>\n",
       "      <th></th>\n",
       "      <th></th>\n",
       "      <th></th>\n",
       "      <th></th>\n",
       "      <th></th>\n",
       "      <th></th>\n",
       "      <th></th>\n",
       "      <th></th>\n",
       "      <th></th>\n",
       "    </tr>\n",
       "  </thead>\n",
       "  <tbody>\n",
       "    <tr>\n",
       "      <th>0</th>\n",
       "      <td>0</td>\n",
       "      <td>4116</td>\n",
       "      <td>59</td>\n",
       "      <td>40</td>\n",
       "      <td>1</td>\n",
       "      <td>1</td>\n",
       "      <td>754.5</td>\n",
       "      <td>25.0</td>\n",
       "      <td>A</td>\n",
       "      <td>2</td>\n",
       "      <td>15632</td>\n",
       "      <td>[244.2904666667, 244.4332666667, 244.833, 244....</td>\n",
       "    </tr>\n",
       "    <tr>\n",
       "      <th>1</th>\n",
       "      <td>1</td>\n",
       "      <td>4116</td>\n",
       "      <td>59</td>\n",
       "      <td>40</td>\n",
       "      <td>2</td>\n",
       "      <td>2</td>\n",
       "      <td>1115.6</td>\n",
       "      <td>4.4</td>\n",
       "      <td>A</td>\n",
       "      <td>2</td>\n",
       "      <td>11889</td>\n",
       "      <td>[251.6506, 252.5949666667, 252.7104666667, 252...</td>\n",
       "    </tr>\n",
       "    <tr>\n",
       "      <th>2</th>\n",
       "      <td>2</td>\n",
       "      <td>4116</td>\n",
       "      <td>59</td>\n",
       "      <td>40</td>\n",
       "      <td>1</td>\n",
       "      <td>1</td>\n",
       "      <td>3690.7</td>\n",
       "      <td>94.2</td>\n",
       "      <td>A</td>\n",
       "      <td>2</td>\n",
       "      <td>658</td>\n",
       "      <td>[266.358182659, 266.5259159814, 267.5848825791...</td>\n",
       "    </tr>\n",
       "    <tr>\n",
       "      <th>3</th>\n",
       "      <td>3</td>\n",
       "      <td>4116</td>\n",
       "      <td>59</td>\n",
       "      <td>40</td>\n",
       "      <td>1</td>\n",
       "      <td>1</td>\n",
       "      <td>1138.3</td>\n",
       "      <td>390.0</td>\n",
       "      <td>A</td>\n",
       "      <td>2</td>\n",
       "      <td>72</td>\n",
       "      <td>[328.9849333333, 464.8765666667, 534.9493, 584...</td>\n",
       "    </tr>\n",
       "    <tr>\n",
       "      <th>4</th>\n",
       "      <td>4</td>\n",
       "      <td>4076</td>\n",
       "      <td>59</td>\n",
       "      <td>80</td>\n",
       "      <td>1</td>\n",
       "      <td>1</td>\n",
       "      <td>1137.4</td>\n",
       "      <td>69.8</td>\n",
       "      <td>A</td>\n",
       "      <td>6</td>\n",
       "      <td>3462</td>\n",
       "      <td>[252.5823333333, 252.7126666667, 255.8557, 255...</td>\n",
       "    </tr>\n",
       "  </tbody>\n",
       "</table>\n",
       "</div>"
      ],
      "text/plain": [
       "    cluster_id  depth  xpos  ypos  label  KSlabel  KSamplitude  \\\n",
       "id                                                               \n",
       "0            0   4116    59    40      1        1        754.5   \n",
       "1            1   4116    59    40      2        2       1115.6   \n",
       "2            2   4116    59    40      1        1       3690.7   \n",
       "3            3   4116    59    40      1        1       1138.3   \n",
       "4            4   4076    59    80      1        1       1137.4   \n",
       "\n",
       "    KScontamination probe  channel  n_spikes  \\\n",
       "id                                             \n",
       "0              25.0     A        2     15632   \n",
       "1               4.4     A        2     11889   \n",
       "2              94.2     A        2       658   \n",
       "3             390.0     A        2        72   \n",
       "4              69.8     A        6      3462   \n",
       "\n",
       "                                          spike_times  \n",
       "id                                                     \n",
       "0   [244.2904666667, 244.4332666667, 244.833, 244....  \n",
       "1   [251.6506, 252.5949666667, 252.7104666667, 252...  \n",
       "2   [266.358182659, 266.5259159814, 267.5848825791...  \n",
       "3   [328.9849333333, 464.8765666667, 534.9493, 584...  \n",
       "4   [252.5823333333, 252.7126666667, 255.8557, 255...  "
      ]
     },
     "execution_count": 7,
     "metadata": {},
     "output_type": "execute_result"
    }
   ],
   "source": [
    "df_units.head()"
   ]
  },
  {
   "cell_type": "code",
   "execution_count": 8,
   "metadata": {},
   "outputs": [
    {
     "data": {
      "application/vnd.jupyter.widget-view+json": {
       "model_id": "d75a5108ff434dec8b29493e45661388",
       "version_major": 2,
       "version_minor": 0
      },
      "text/plain": [
       "VBox(children=(HBox(children=(Label(value='session_description:', layout=Layout(max_height='40px', max_width='…"
      ]
     },
     "execution_count": 8,
     "metadata": {},
     "output_type": "execute_result"
    }
   ],
   "source": [
    "nwb2widget(nwb_)"
   ]
  }
 ],
 "metadata": {
  "kernelspec": {
   "display_name": "reaching_task",
   "language": "python",
   "name": "python3"
  },
  "language_info": {
   "codemirror_mode": {
    "name": "ipython",
    "version": 3
   },
   "file_extension": ".py",
   "mimetype": "text/x-python",
   "name": "python",
   "nbconvert_exporter": "python",
   "pygments_lexer": "ipython3",
   "version": "3.9.19"
  }
 },
 "nbformat": 4,
 "nbformat_minor": 2
}
