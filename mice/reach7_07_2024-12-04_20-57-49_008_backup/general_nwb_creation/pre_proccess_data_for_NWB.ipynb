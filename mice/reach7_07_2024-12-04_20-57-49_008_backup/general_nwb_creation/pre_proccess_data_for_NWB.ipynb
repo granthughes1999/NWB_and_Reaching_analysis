{
 "cells": [
  {
   "cell_type": "markdown",
   "id": "3343e331",
   "metadata": {},
   "source": [
    "# REACHING_TASK --> Use this kernal"
   ]
  },
  {
   "cell_type": "code",
   "execution_count": 1,
   "id": "e2f3973d-812e-4ba3-b834-7562bb262c53",
   "metadata": {},
   "outputs": [],
   "source": [
    "import numpy as np\n",
    "import datetime as dt\n",
    "import pandas as pd\n",
    "import matplotlib.pyplot as plt\n",
    "import seaborn as sns\n",
    "import h5py\n",
    "import os,sys,glob, json\n",
    "import _pickle as pkl\n",
    "import dlab\n",
    "from tqdm.notebook import tqdm\n",
    "%matplotlib inline\n",
    "%load_ext autoreload\n",
    "%autoreload 2\n",
    "plt.style.use('dark_background')\n"
   ]
  },
  {
   "cell_type": "markdown",
   "id": "b32df425",
   "metadata": {},
   "source": [
    "### Make sure you use version 2.2.0 of pynwb\n",
    "- pip uninstall pynwb\n",
    "- pip install pynwb==2.2.0"
   ]
  },
  {
   "cell_type": "code",
   "execution_count": 2,
   "id": "95eba607",
   "metadata": {},
   "outputs": [
    {
     "name": "stdout",
     "output_type": "stream",
     "text": [
      "2.3.3\n"
     ]
    }
   ],
   "source": [
    "import pynwb\n",
    "print(pynwb.__version__)"
   ]
  },
  {
   "cell_type": "markdown",
   "id": "a77f37be",
   "metadata": {},
   "source": [
    "## Summary of code\n",
    "- you will need to change alot to make this work for you\n",
    "- mainly the variable names for the different iput to the digital lines, and the paths to your data\n",
    "- right now it is set up to work with the data from the reaching task from Jason Christie's lab, but it can be easily modified to work with other data"
   ]
  },
  {
   "cell_type": "markdown",
   "id": "e59bf40a",
   "metadata": {},
   "source": [
    "# Paths needed to be changed to your own paths"
   ]
  },
  {
   "cell_type": "code",
   "execution_count": 3,
   "id": "1e5a4e44",
   "metadata": {},
   "outputs": [],
   "source": [
    "probe_names = ['A', 'B', 'C', 'D', 'E']\n",
    "NP_type=['NP1','NP1','NP2','NP1','NP1']\n",
    "probedepths = [4156, 7013, 1450, 4878, 6202]"
   ]
  },
  {
   "cell_type": "code",
   "execution_count": 4,
   "id": "60f20f85",
   "metadata": {},
   "outputs": [],
   "source": [
    "file_name = 'reach7_07_2024-12-04_20-57-49_008'\n",
    "root_recording_folder = fr\"G:\\Grant\\neuropixels\\kilosort_recordings\\{file_name}\""
   ]
  },
  {
   "cell_type": "code",
   "execution_count": 5,
   "id": "f2c46c5f",
   "metadata": {},
   "outputs": [
    {
     "name": "stdout",
     "output_type": "stream",
     "text": [
      "Recording folder found:  G:\\Grant\\neuropixels\\kilosort_recordings\\reach7_07_2024-12-04_20-57-49_008\\Record Node 103\\experiment1\\recording1\\continuous\n"
     ]
    }
   ],
   "source": [
    "\n",
    "recording_folder = root_recording_folder + r\"\\Record Node 103\\experiment1\\recording1\\continuous\"\n",
    "if not os.path.exists(recording_folder):\n",
    "    raise FileNotFoundError(f\"Recording folder not found: {recording_folder}\")\n",
    "else:\n",
    "    print(\"Recording folder found: \", recording_folder)"
   ]
  },
  {
   "cell_type": "markdown",
   "id": "7a7d85fb",
   "metadata": {},
   "source": [
    "#### Create a file name for the NWB file\n",
    "- if an NWB already exists for this session, a new NWB file will be created with a timestamp added to the file name, so you dont over write the old file\""
   ]
  },
  {
   "cell_type": "code",
   "execution_count": 6,
   "id": "f0d31853",
   "metadata": {},
   "outputs": [
    {
     "name": "stdout",
     "output_type": "stream",
     "text": [
      "Now NWB file found with this name, creating it now:  G:\\Grant\\neuropixels\\nwb\\reach7_07_2024-12-04_20-57-49_008\n",
      "NWB file will be saved as:  G:\\Grant\\neuropixels\\nwb\\reach7_07_2024-12-04_20-57-49_008\n"
     ]
    }
   ],
   "source": [
    "# THIS SHOULD NOT just point to the folder, but needs to include the name you want the nwb file to be called /nwb_file_name\n",
    "nwb_save_path = fr\"G:\\Grant\\neuropixels\\nwb\\{file_name}\"\n",
    "\n",
    "if not os.path.exists(nwb_save_path):\n",
    "    print(\"Now NWB file found with this name, creating it now: \", nwb_save_path)\n",
    "else:\n",
    "    print(\"NWB save file already exists, saving you from overwriting your data by adding a timestamp to the end of the file name\")\n",
    "    nwb_save_path = nwb_save_path +'__' + dt.datetime.now().strftime(\"_%Y-%m-%d_%H-%M-%S\")\n",
    "\n",
    "print(\"NWB file will be saved as: \", nwb_save_path)"
   ]
  },
  {
   "cell_type": "code",
   "execution_count": 7,
   "id": "15b37e24-14b9-4907-9c1e-e4afe4d62a56",
   "metadata": {},
   "outputs": [
    {
     "name": "stdout",
     "output_type": "stream",
     "text": [
      "session: \n",
      "Open Ephys Recording Session Object\n",
      "Directory: G:\\Grant\\neuropixels\\kilosort_recordings\\reach7_07_2024-12-04_20-57-49_008\n",
      "\n",
      "<object>.recordnodes:\n",
      "  Index 0: Record Node 103 (binary format)\n",
      "\n"
     ]
    }
   ],
   "source": [
    "from open_ephys.analysis import Session\n",
    "\n",
    "directory = recording_folder # for example\n",
    "directory = root_recording_folder # for example\n",
    "\n",
    "\n",
    "session = Session(directory)\n",
    "print(f'session: {session}')\n"
   ]
  },
  {
   "cell_type": "code",
   "execution_count": 8,
   "id": "3dbe0464",
   "metadata": {},
   "outputs": [
    {
     "data": {
      "text/html": [
       "<div>\n",
       "<style scoped>\n",
       "    .dataframe tbody tr th:only-of-type {\n",
       "        vertical-align: middle;\n",
       "    }\n",
       "\n",
       "    .dataframe tbody tr th {\n",
       "        vertical-align: top;\n",
       "    }\n",
       "\n",
       "    .dataframe thead th {\n",
       "        text-align: right;\n",
       "    }\n",
       "</style>\n",
       "<table border=\"1\" class=\"dataframe\">\n",
       "  <thead>\n",
       "    <tr style=\"text-align: right;\">\n",
       "      <th></th>\n",
       "      <th>line</th>\n",
       "      <th>sample_number</th>\n",
       "      <th>timestamp</th>\n",
       "      <th>processor_id</th>\n",
       "      <th>stream_index</th>\n",
       "      <th>stream_name</th>\n",
       "      <th>state</th>\n",
       "    </tr>\n",
       "  </thead>\n",
       "  <tbody>\n",
       "    <tr>\n",
       "      <th>0</th>\n",
       "      <td>1</td>\n",
       "      <td>610364</td>\n",
       "      <td>244.002726</td>\n",
       "      <td>100</td>\n",
       "      <td>3</td>\n",
       "      <td>ProbeB-LFP</td>\n",
       "      <td>0</td>\n",
       "    </tr>\n",
       "    <tr>\n",
       "      <th>1</th>\n",
       "      <td>1</td>\n",
       "      <td>610369</td>\n",
       "      <td>244.002729</td>\n",
       "      <td>100</td>\n",
       "      <td>1</td>\n",
       "      <td>ProbeA-LFP</td>\n",
       "      <td>0</td>\n",
       "    </tr>\n",
       "    <tr>\n",
       "      <th>2</th>\n",
       "      <td>1</td>\n",
       "      <td>7324428</td>\n",
       "      <td>244.002733</td>\n",
       "      <td>100</td>\n",
       "      <td>0</td>\n",
       "      <td>ProbeA-AP</td>\n",
       "      <td>0</td>\n",
       "    </tr>\n",
       "    <tr>\n",
       "      <th>3</th>\n",
       "      <td>1</td>\n",
       "      <td>610362</td>\n",
       "      <td>244.002735</td>\n",
       "      <td>100</td>\n",
       "      <td>6</td>\n",
       "      <td>ProbeD-LFP</td>\n",
       "      <td>0</td>\n",
       "    </tr>\n",
       "    <tr>\n",
       "      <th>4</th>\n",
       "      <td>1</td>\n",
       "      <td>7324369</td>\n",
       "      <td>244.002736</td>\n",
       "      <td>100</td>\n",
       "      <td>2</td>\n",
       "      <td>ProbeB-AP</td>\n",
       "      <td>0</td>\n",
       "    </tr>\n",
       "    <tr>\n",
       "      <th>...</th>\n",
       "      <td>...</td>\n",
       "      <td>...</td>\n",
       "      <td>...</td>\n",
       "      <td>...</td>\n",
       "      <td>...</td>\n",
       "      <td>...</td>\n",
       "      <td>...</td>\n",
       "    </tr>\n",
       "    <tr>\n",
       "      <th>833192</th>\n",
       "      <td>1</td>\n",
       "      <td>13294262</td>\n",
       "      <td>5317.560000</td>\n",
       "      <td>100</td>\n",
       "      <td>1</td>\n",
       "      <td>ProbeA-LFP</td>\n",
       "      <td>1</td>\n",
       "    </tr>\n",
       "    <tr>\n",
       "      <th>833193</th>\n",
       "      <td>1</td>\n",
       "      <td>13294028</td>\n",
       "      <td>5317.560039</td>\n",
       "      <td>100</td>\n",
       "      <td>8</td>\n",
       "      <td>ProbeE-LFP</td>\n",
       "      <td>1</td>\n",
       "    </tr>\n",
       "    <tr>\n",
       "      <th>833194</th>\n",
       "      <td>1</td>\n",
       "      <td>159528341</td>\n",
       "      <td>5317.560075</td>\n",
       "      <td>100</td>\n",
       "      <td>7</td>\n",
       "      <td>ProbeE-AP</td>\n",
       "      <td>1</td>\n",
       "    </tr>\n",
       "    <tr>\n",
       "      <th>833195</th>\n",
       "      <td>1</td>\n",
       "      <td>159529481</td>\n",
       "      <td>5317.560237</td>\n",
       "      <td>100</td>\n",
       "      <td>5</td>\n",
       "      <td>ProbeD-AP</td>\n",
       "      <td>1</td>\n",
       "    </tr>\n",
       "    <tr>\n",
       "      <th>833196</th>\n",
       "      <td>1</td>\n",
       "      <td>159529848</td>\n",
       "      <td>5317.560354</td>\n",
       "      <td>100</td>\n",
       "      <td>2</td>\n",
       "      <td>ProbeB-AP</td>\n",
       "      <td>1</td>\n",
       "    </tr>\n",
       "  </tbody>\n",
       "</table>\n",
       "<p>833197 rows × 7 columns</p>\n",
       "</div>"
      ],
      "text/plain": [
       "        line  sample_number    timestamp  processor_id  stream_index  \\\n",
       "0          1         610364   244.002726           100             3   \n",
       "1          1         610369   244.002729           100             1   \n",
       "2          1        7324428   244.002733           100             0   \n",
       "3          1         610362   244.002735           100             6   \n",
       "4          1        7324369   244.002736           100             2   \n",
       "...      ...            ...          ...           ...           ...   \n",
       "833192     1       13294262  5317.560000           100             1   \n",
       "833193     1       13294028  5317.560039           100             8   \n",
       "833194     1      159528341  5317.560075           100             7   \n",
       "833195     1      159529481  5317.560237           100             5   \n",
       "833196     1      159529848  5317.560354           100             2   \n",
       "\n",
       "       stream_name  state  \n",
       "0       ProbeB-LFP      0  \n",
       "1       ProbeA-LFP      0  \n",
       "2        ProbeA-AP      0  \n",
       "3       ProbeD-LFP      0  \n",
       "4        ProbeB-AP      0  \n",
       "...            ...    ...  \n",
       "833192  ProbeA-LFP      1  \n",
       "833193  ProbeE-LFP      1  \n",
       "833194   ProbeE-AP      1  \n",
       "833195   ProbeD-AP      1  \n",
       "833196   ProbeB-AP      1  \n",
       "\n",
       "[833197 rows x 7 columns]"
      ]
     },
     "execution_count": 8,
     "metadata": {},
     "output_type": "execute_result"
    }
   ],
   "source": [
    "session.recordnodes[0].recordings[0].events\n",
    "session.recordnodes[0].recordings[0].events"
   ]
  },
  {
   "cell_type": "code",
   "execution_count": 9,
   "id": "52cc3dc5",
   "metadata": {},
   "outputs": [],
   "source": [
    "events_df = pd.DataFrame(session.recordnodes[0].recordings[0].events)\n"
   ]
  },
  {
   "cell_type": "markdown",
   "id": "906af10e",
   "metadata": {},
   "source": [
    "# Speical global_timestamps df \n",
    "- this is used ONLY if your timestamps get messed up due to a syncronization issue during the recording, otherwise do not run the cell bellow\n",
    "#### Here are the steps to make a global_timestamps df if our data is messed up\n",
    "- use the manually_align_timestamps.ipynb file "
   ]
  },
  {
   "cell_type": "code",
   "execution_count": 10,
   "id": "26b63fe5-1ef8-40ed-90fe-d54da4c470f8",
   "metadata": {},
   "outputs": [],
   "source": [
    "# global_timestamps_df = r\"G:\\Grant\\neuropixels\\kilosort_recordings\\reach3_01_2024-11-14_21-30-18_001\\Record Node 103\\experiment1\\recording1\\events\\global_timestamps\\global_timestamps_overwrite.csv\"\n",
    "# events_df = pd.read_csv(global_timestamps_df)\n",
    "# events_df"
   ]
  },
  {
   "cell_type": "markdown",
   "id": "90ecd76a",
   "metadata": {},
   "source": [
    "### Verify all event types are being recorded"
   ]
  },
  {
   "cell_type": "code",
   "execution_count": 11,
   "id": "afe0b4b3",
   "metadata": {},
   "outputs": [
    {
     "data": {
      "text/html": [
       "<div>\n",
       "<style scoped>\n",
       "    .dataframe tbody tr th:only-of-type {\n",
       "        vertical-align: middle;\n",
       "    }\n",
       "\n",
       "    .dataframe tbody tr th {\n",
       "        vertical-align: top;\n",
       "    }\n",
       "\n",
       "    .dataframe thead th {\n",
       "        text-align: right;\n",
       "    }\n",
       "</style>\n",
       "<table border=\"1\" class=\"dataframe\">\n",
       "  <thead>\n",
       "    <tr style=\"text-align: right;\">\n",
       "      <th></th>\n",
       "      <th>line</th>\n",
       "      <th>sample_number</th>\n",
       "      <th>timestamp</th>\n",
       "      <th>processor_id</th>\n",
       "      <th>stream_index</th>\n",
       "      <th>stream_name</th>\n",
       "      <th>state</th>\n",
       "    </tr>\n",
       "  </thead>\n",
       "  <tbody>\n",
       "    <tr>\n",
       "      <th>2</th>\n",
       "      <td>1</td>\n",
       "      <td>7324428</td>\n",
       "      <td>244.002733</td>\n",
       "      <td>100</td>\n",
       "      <td>0</td>\n",
       "      <td>ProbeA-AP</td>\n",
       "      <td>0</td>\n",
       "    </tr>\n",
       "    <tr>\n",
       "      <th>13</th>\n",
       "      <td>1</td>\n",
       "      <td>7339428</td>\n",
       "      <td>244.502733</td>\n",
       "      <td>100</td>\n",
       "      <td>0</td>\n",
       "      <td>ProbeA-AP</td>\n",
       "      <td>1</td>\n",
       "    </tr>\n",
       "    <tr>\n",
       "      <th>28</th>\n",
       "      <td>1</td>\n",
       "      <td>7354429</td>\n",
       "      <td>245.002767</td>\n",
       "      <td>100</td>\n",
       "      <td>0</td>\n",
       "      <td>ProbeA-AP</td>\n",
       "      <td>0</td>\n",
       "    </tr>\n",
       "    <tr>\n",
       "      <th>34</th>\n",
       "      <td>1</td>\n",
       "      <td>7369429</td>\n",
       "      <td>245.502767</td>\n",
       "      <td>100</td>\n",
       "      <td>0</td>\n",
       "      <td>ProbeA-AP</td>\n",
       "      <td>1</td>\n",
       "    </tr>\n",
       "    <tr>\n",
       "      <th>45</th>\n",
       "      <td>1</td>\n",
       "      <td>7384429</td>\n",
       "      <td>246.002767</td>\n",
       "      <td>100</td>\n",
       "      <td>0</td>\n",
       "      <td>ProbeA-AP</td>\n",
       "      <td>0</td>\n",
       "    </tr>\n",
       "    <tr>\n",
       "      <th>...</th>\n",
       "      <td>...</td>\n",
       "      <td>...</td>\n",
       "      <td>...</td>\n",
       "      <td>...</td>\n",
       "      <td>...</td>\n",
       "      <td>...</td>\n",
       "      <td>...</td>\n",
       "    </tr>\n",
       "    <tr>\n",
       "      <th>833147</th>\n",
       "      <td>1</td>\n",
       "      <td>159471146</td>\n",
       "      <td>5315.559654</td>\n",
       "      <td>100</td>\n",
       "      <td>0</td>\n",
       "      <td>ProbeA-AP</td>\n",
       "      <td>1</td>\n",
       "    </tr>\n",
       "    <tr>\n",
       "      <th>833165</th>\n",
       "      <td>1</td>\n",
       "      <td>159486147</td>\n",
       "      <td>5316.060033</td>\n",
       "      <td>100</td>\n",
       "      <td>0</td>\n",
       "      <td>ProbeA-AP</td>\n",
       "      <td>0</td>\n",
       "    </tr>\n",
       "    <tr>\n",
       "      <th>833167</th>\n",
       "      <td>1</td>\n",
       "      <td>159501147</td>\n",
       "      <td>5316.559687</td>\n",
       "      <td>100</td>\n",
       "      <td>0</td>\n",
       "      <td>ProbeA-AP</td>\n",
       "      <td>1</td>\n",
       "    </tr>\n",
       "    <tr>\n",
       "      <th>833184</th>\n",
       "      <td>1</td>\n",
       "      <td>159516147</td>\n",
       "      <td>5317.060033</td>\n",
       "      <td>100</td>\n",
       "      <td>0</td>\n",
       "      <td>ProbeA-AP</td>\n",
       "      <td>0</td>\n",
       "    </tr>\n",
       "    <tr>\n",
       "      <th>833187</th>\n",
       "      <td>1</td>\n",
       "      <td>159531147</td>\n",
       "      <td>5317.559687</td>\n",
       "      <td>100</td>\n",
       "      <td>0</td>\n",
       "      <td>ProbeA-AP</td>\n",
       "      <td>1</td>\n",
       "    </tr>\n",
       "  </tbody>\n",
       "</table>\n",
       "<p>10148 rows × 7 columns</p>\n",
       "</div>"
      ],
      "text/plain": [
       "        line  sample_number    timestamp  processor_id  stream_index  \\\n",
       "2          1        7324428   244.002733           100             0   \n",
       "13         1        7339428   244.502733           100             0   \n",
       "28         1        7354429   245.002767           100             0   \n",
       "34         1        7369429   245.502767           100             0   \n",
       "45         1        7384429   246.002767           100             0   \n",
       "...      ...            ...          ...           ...           ...   \n",
       "833147     1      159471146  5315.559654           100             0   \n",
       "833165     1      159486147  5316.060033           100             0   \n",
       "833167     1      159501147  5316.559687           100             0   \n",
       "833184     1      159516147  5317.060033           100             0   \n",
       "833187     1      159531147  5317.559687           100             0   \n",
       "\n",
       "       stream_name  state  \n",
       "2        ProbeA-AP      0  \n",
       "13       ProbeA-AP      1  \n",
       "28       ProbeA-AP      0  \n",
       "34       ProbeA-AP      1  \n",
       "45       ProbeA-AP      0  \n",
       "...            ...    ...  \n",
       "833147   ProbeA-AP      1  \n",
       "833165   ProbeA-AP      0  \n",
       "833167   ProbeA-AP      1  \n",
       "833184   ProbeA-AP      0  \n",
       "833187   ProbeA-AP      1  \n",
       "\n",
       "[10148 rows x 7 columns]"
      ]
     },
     "execution_count": 11,
     "metadata": {},
     "output_type": "execute_result"
    }
   ],
   "source": [
    "probeA_AP = events_df[events_df.stream_name == 'ProbeA-AP' ]\n",
    "probeA_AP"
   ]
  },
  {
   "cell_type": "code",
   "execution_count": 12,
   "id": "fd599667",
   "metadata": {},
   "outputs": [],
   "source": [
    "probeA_AP = events_df[events_df.stream_name == 'ProbeA-AP' ]\n",
    "probeB_AP = events_df[events_df.stream_name == 'ProbeB-AP' ]\n",
    "probeC_AP = events_df[events_df.stream_name == 'ProbeC' ]\n",
    "probeD_AP = events_df[events_df.stream_name == 'ProbeD-AP' ]\n",
    "probeE_AP = events_df[events_df.stream_name == 'ProbeE-AP' ]\n"
   ]
  },
  {
   "cell_type": "code",
   "execution_count": 13,
   "id": "18e12e66-672d-411c-b1fc-cf26c9b9657a",
   "metadata": {},
   "outputs": [
    {
     "data": {
      "text/html": [
       "<div>\n",
       "<style scoped>\n",
       "    .dataframe tbody tr th:only-of-type {\n",
       "        vertical-align: middle;\n",
       "    }\n",
       "\n",
       "    .dataframe tbody tr th {\n",
       "        vertical-align: top;\n",
       "    }\n",
       "\n",
       "    .dataframe thead th {\n",
       "        text-align: right;\n",
       "    }\n",
       "</style>\n",
       "<table border=\"1\" class=\"dataframe\">\n",
       "  <thead>\n",
       "    <tr style=\"text-align: right;\">\n",
       "      <th></th>\n",
       "      <th>line</th>\n",
       "      <th>sample_number</th>\n",
       "      <th>timestamp</th>\n",
       "      <th>processor_id</th>\n",
       "      <th>stream_index</th>\n",
       "      <th>stream_name</th>\n",
       "      <th>state</th>\n",
       "    </tr>\n",
       "  </thead>\n",
       "  <tbody>\n",
       "    <tr>\n",
       "      <th>12</th>\n",
       "      <td>7</td>\n",
       "      <td>9796405</td>\n",
       "      <td>244.502731</td>\n",
       "      <td>102</td>\n",
       "      <td>9</td>\n",
       "      <td>PXIe-6341</td>\n",
       "      <td>1</td>\n",
       "    </tr>\n",
       "    <tr>\n",
       "      <th>27</th>\n",
       "      <td>7</td>\n",
       "      <td>9816405</td>\n",
       "      <td>245.002746</td>\n",
       "      <td>102</td>\n",
       "      <td>9</td>\n",
       "      <td>PXIe-6341</td>\n",
       "      <td>0</td>\n",
       "    </tr>\n",
       "    <tr>\n",
       "      <th>38</th>\n",
       "      <td>7</td>\n",
       "      <td>9836405</td>\n",
       "      <td>245.502785</td>\n",
       "      <td>102</td>\n",
       "      <td>9</td>\n",
       "      <td>PXIe-6341</td>\n",
       "      <td>1</td>\n",
       "    </tr>\n",
       "    <tr>\n",
       "      <th>39</th>\n",
       "      <td>7</td>\n",
       "      <td>9856404</td>\n",
       "      <td>246.002751</td>\n",
       "      <td>102</td>\n",
       "      <td>9</td>\n",
       "      <td>PXIe-6341</td>\n",
       "      <td>0</td>\n",
       "    </tr>\n",
       "    <tr>\n",
       "      <th>52</th>\n",
       "      <td>7</td>\n",
       "      <td>9876404</td>\n",
       "      <td>246.502766</td>\n",
       "      <td>102</td>\n",
       "      <td>9</td>\n",
       "      <td>PXIe-6341</td>\n",
       "      <td>1</td>\n",
       "    </tr>\n",
       "    <tr>\n",
       "      <th>...</th>\n",
       "      <td>...</td>\n",
       "      <td>...</td>\n",
       "      <td>...</td>\n",
       "      <td>...</td>\n",
       "      <td>...</td>\n",
       "      <td>...</td>\n",
       "      <td>...</td>\n",
       "    </tr>\n",
       "    <tr>\n",
       "      <th>833151</th>\n",
       "      <td>7</td>\n",
       "      <td>212632632</td>\n",
       "      <td>5315.559944</td>\n",
       "      <td>102</td>\n",
       "      <td>9</td>\n",
       "      <td>PXIe-6341</td>\n",
       "      <td>1</td>\n",
       "    </tr>\n",
       "    <tr>\n",
       "      <th>833160</th>\n",
       "      <td>7</td>\n",
       "      <td>212652631</td>\n",
       "      <td>5316.059934</td>\n",
       "      <td>102</td>\n",
       "      <td>9</td>\n",
       "      <td>PXIe-6341</td>\n",
       "      <td>0</td>\n",
       "    </tr>\n",
       "    <tr>\n",
       "      <th>833171</th>\n",
       "      <td>7</td>\n",
       "      <td>212672631</td>\n",
       "      <td>5316.559949</td>\n",
       "      <td>102</td>\n",
       "      <td>9</td>\n",
       "      <td>PXIe-6341</td>\n",
       "      <td>1</td>\n",
       "    </tr>\n",
       "    <tr>\n",
       "      <th>833180</th>\n",
       "      <td>7</td>\n",
       "      <td>212692630</td>\n",
       "      <td>5317.059939</td>\n",
       "      <td>102</td>\n",
       "      <td>9</td>\n",
       "      <td>PXIe-6341</td>\n",
       "      <td>0</td>\n",
       "    </tr>\n",
       "    <tr>\n",
       "      <th>833190</th>\n",
       "      <td>7</td>\n",
       "      <td>212712630</td>\n",
       "      <td>5317.559954</td>\n",
       "      <td>102</td>\n",
       "      <td>9</td>\n",
       "      <td>PXIe-6341</td>\n",
       "      <td>1</td>\n",
       "    </tr>\n",
       "  </tbody>\n",
       "</table>\n",
       "<p>741865 rows × 7 columns</p>\n",
       "</div>"
      ],
      "text/plain": [
       "        line  sample_number    timestamp  processor_id  stream_index  \\\n",
       "12         7        9796405   244.502731           102             9   \n",
       "27         7        9816405   245.002746           102             9   \n",
       "38         7        9836405   245.502785           102             9   \n",
       "39         7        9856404   246.002751           102             9   \n",
       "52         7        9876404   246.502766           102             9   \n",
       "...      ...            ...          ...           ...           ...   \n",
       "833151     7      212632632  5315.559944           102             9   \n",
       "833160     7      212652631  5316.059934           102             9   \n",
       "833171     7      212672631  5316.559949           102             9   \n",
       "833180     7      212692630  5317.059939           102             9   \n",
       "833190     7      212712630  5317.559954           102             9   \n",
       "\n",
       "       stream_name  state  \n",
       "12       PXIe-6341      1  \n",
       "27       PXIe-6341      0  \n",
       "38       PXIe-6341      1  \n",
       "39       PXIe-6341      0  \n",
       "52       PXIe-6341      1  \n",
       "...            ...    ...  \n",
       "833151   PXIe-6341      1  \n",
       "833160   PXIe-6341      0  \n",
       "833171   PXIe-6341      1  \n",
       "833180   PXIe-6341      0  \n",
       "833190   PXIe-6341      1  \n",
       "\n",
       "[741865 rows x 7 columns]"
      ]
     },
     "execution_count": 13,
     "metadata": {},
     "output_type": "execute_result"
    }
   ],
   "source": [
    "ni_df = events_df[events_df.stream_name == 'PXIe-6341' ]\n",
    "ni_df"
   ]
  },
  {
   "cell_type": "code",
   "execution_count": 14,
   "id": "b696c910",
   "metadata": {},
   "outputs": [],
   "source": [
    "Digital_line_8 = ni_df[ni_df['line'] == 8]\n",
    "Digital_line_7 = ni_df[ni_df['line'] == 7]\n",
    "Digital_line_6 = ni_df[ni_df['line'] == 6]\n",
    "Digital_line_5 = ni_df[ni_df['line'] == 5]\n",
    "Digital_line_4 = ni_df[ni_df['line'] == 4]\n",
    "Digital_line_3 = ni_df[ni_df['line'] == 3]"
   ]
  },
  {
   "cell_type": "markdown",
   "id": "731ec4a9",
   "metadata": {},
   "source": [
    "# Change thse varaible names to match the ones you have in your events_df\n",
    "- for open-ephys each digital line collects specific events, so you need to know what each line is collecting\n",
    "- you then need to create a dictionary that maps the digital line to the event name"
   ]
  },
  {
   "cell_type": "code",
   "execution_count": 15,
   "id": "f586e956",
   "metadata": {},
   "outputs": [],
   "source": [
    "## Change these names\n",
    "frame_events = Digital_line_8.sort_values(by=\"timestamp\", ascending=True)\n",
    "sync_pulse_events = Digital_line_7.sort_values(by=\"timestamp\", ascending=True)\n",
    "tone1_events = Digital_line_6.sort_values(by=\"timestamp\", ascending=True)\n",
    "tone2_events = Digital_line_5.sort_values(by=\"timestamp\", ascending=True)\n",
    "stimROI_events = Digital_line_4.sort_values(by=\"timestamp\", ascending=True)\n",
    "optical_events = Digital_line_3.sort_values(by=\"timestamp\", ascending=True)\n"
   ]
  },
  {
   "cell_type": "code",
   "execution_count": 16,
   "id": "9f4e8fcf",
   "metadata": {},
   "outputs": [],
   "source": [
    "probeA_AP = probeA_AP.sort_values(by=\"timestamp\", ascending=True)\n",
    "probeB_AP = probeB_AP.sort_values(by=\"timestamp\", ascending=True)\n",
    "probeC_AP = probeC_AP.sort_values(by=\"timestamp\", ascending=True)\n",
    "probeD_AP = probeD_AP.sort_values(by=\"timestamp\", ascending=True)\n",
    "probeE_AP = probeE_AP.sort_values(by=\"timestamp\", ascending=True)"
   ]
  },
  {
   "cell_type": "code",
   "execution_count": 17,
   "id": "d9458fff",
   "metadata": {},
   "outputs": [
    {
     "data": {
      "text/html": [
       "<div>\n",
       "<style scoped>\n",
       "    .dataframe tbody tr th:only-of-type {\n",
       "        vertical-align: middle;\n",
       "    }\n",
       "\n",
       "    .dataframe tbody tr th {\n",
       "        vertical-align: top;\n",
       "    }\n",
       "\n",
       "    .dataframe thead th {\n",
       "        text-align: right;\n",
       "    }\n",
       "</style>\n",
       "<table border=\"1\" class=\"dataframe\">\n",
       "  <thead>\n",
       "    <tr style=\"text-align: right;\">\n",
       "      <th></th>\n",
       "      <th>line</th>\n",
       "      <th>sample_number</th>\n",
       "      <th>timestamp</th>\n",
       "      <th>processor_id</th>\n",
       "      <th>stream_index</th>\n",
       "      <th>stream_name</th>\n",
       "      <th>state</th>\n",
       "    </tr>\n",
       "  </thead>\n",
       "  <tbody>\n",
       "    <tr>\n",
       "      <th>2</th>\n",
       "      <td>1</td>\n",
       "      <td>7324428</td>\n",
       "      <td>244.002733</td>\n",
       "      <td>100</td>\n",
       "      <td>0</td>\n",
       "      <td>ProbeA-AP</td>\n",
       "      <td>0</td>\n",
       "    </tr>\n",
       "    <tr>\n",
       "      <th>13</th>\n",
       "      <td>1</td>\n",
       "      <td>7339428</td>\n",
       "      <td>244.502733</td>\n",
       "      <td>100</td>\n",
       "      <td>0</td>\n",
       "      <td>ProbeA-AP</td>\n",
       "      <td>1</td>\n",
       "    </tr>\n",
       "    <tr>\n",
       "      <th>28</th>\n",
       "      <td>1</td>\n",
       "      <td>7354429</td>\n",
       "      <td>245.002767</td>\n",
       "      <td>100</td>\n",
       "      <td>0</td>\n",
       "      <td>ProbeA-AP</td>\n",
       "      <td>0</td>\n",
       "    </tr>\n",
       "    <tr>\n",
       "      <th>34</th>\n",
       "      <td>1</td>\n",
       "      <td>7369429</td>\n",
       "      <td>245.502767</td>\n",
       "      <td>100</td>\n",
       "      <td>0</td>\n",
       "      <td>ProbeA-AP</td>\n",
       "      <td>1</td>\n",
       "    </tr>\n",
       "    <tr>\n",
       "      <th>45</th>\n",
       "      <td>1</td>\n",
       "      <td>7384429</td>\n",
       "      <td>246.002767</td>\n",
       "      <td>100</td>\n",
       "      <td>0</td>\n",
       "      <td>ProbeA-AP</td>\n",
       "      <td>0</td>\n",
       "    </tr>\n",
       "    <tr>\n",
       "      <th>...</th>\n",
       "      <td>...</td>\n",
       "      <td>...</td>\n",
       "      <td>...</td>\n",
       "      <td>...</td>\n",
       "      <td>...</td>\n",
       "      <td>...</td>\n",
       "      <td>...</td>\n",
       "    </tr>\n",
       "    <tr>\n",
       "      <th>833147</th>\n",
       "      <td>1</td>\n",
       "      <td>159471146</td>\n",
       "      <td>5315.559654</td>\n",
       "      <td>100</td>\n",
       "      <td>0</td>\n",
       "      <td>ProbeA-AP</td>\n",
       "      <td>1</td>\n",
       "    </tr>\n",
       "    <tr>\n",
       "      <th>833165</th>\n",
       "      <td>1</td>\n",
       "      <td>159486147</td>\n",
       "      <td>5316.060033</td>\n",
       "      <td>100</td>\n",
       "      <td>0</td>\n",
       "      <td>ProbeA-AP</td>\n",
       "      <td>0</td>\n",
       "    </tr>\n",
       "    <tr>\n",
       "      <th>833167</th>\n",
       "      <td>1</td>\n",
       "      <td>159501147</td>\n",
       "      <td>5316.559687</td>\n",
       "      <td>100</td>\n",
       "      <td>0</td>\n",
       "      <td>ProbeA-AP</td>\n",
       "      <td>1</td>\n",
       "    </tr>\n",
       "    <tr>\n",
       "      <th>833184</th>\n",
       "      <td>1</td>\n",
       "      <td>159516147</td>\n",
       "      <td>5317.060033</td>\n",
       "      <td>100</td>\n",
       "      <td>0</td>\n",
       "      <td>ProbeA-AP</td>\n",
       "      <td>0</td>\n",
       "    </tr>\n",
       "    <tr>\n",
       "      <th>833187</th>\n",
       "      <td>1</td>\n",
       "      <td>159531147</td>\n",
       "      <td>5317.559687</td>\n",
       "      <td>100</td>\n",
       "      <td>0</td>\n",
       "      <td>ProbeA-AP</td>\n",
       "      <td>1</td>\n",
       "    </tr>\n",
       "  </tbody>\n",
       "</table>\n",
       "<p>10148 rows × 7 columns</p>\n",
       "</div>"
      ],
      "text/plain": [
       "        line  sample_number    timestamp  processor_id  stream_index  \\\n",
       "2          1        7324428   244.002733           100             0   \n",
       "13         1        7339428   244.502733           100             0   \n",
       "28         1        7354429   245.002767           100             0   \n",
       "34         1        7369429   245.502767           100             0   \n",
       "45         1        7384429   246.002767           100             0   \n",
       "...      ...            ...          ...           ...           ...   \n",
       "833147     1      159471146  5315.559654           100             0   \n",
       "833165     1      159486147  5316.060033           100             0   \n",
       "833167     1      159501147  5316.559687           100             0   \n",
       "833184     1      159516147  5317.060033           100             0   \n",
       "833187     1      159531147  5317.559687           100             0   \n",
       "\n",
       "       stream_name  state  \n",
       "2        ProbeA-AP      0  \n",
       "13       ProbeA-AP      1  \n",
       "28       ProbeA-AP      0  \n",
       "34       ProbeA-AP      1  \n",
       "45       ProbeA-AP      0  \n",
       "...            ...    ...  \n",
       "833147   ProbeA-AP      1  \n",
       "833165   ProbeA-AP      0  \n",
       "833167   ProbeA-AP      1  \n",
       "833184   ProbeA-AP      0  \n",
       "833187   ProbeA-AP      1  \n",
       "\n",
       "[10148 rows x 7 columns]"
      ]
     },
     "execution_count": 17,
     "metadata": {},
     "output_type": "execute_result"
    }
   ],
   "source": [
    "probeA_AP"
   ]
  },
  {
   "cell_type": "code",
   "execution_count": 18,
   "id": "b1954638",
   "metadata": {},
   "outputs": [],
   "source": [
    "# Digital Line 8\n",
    "frame_timestamps = frame_events['timestamp'].values\n",
    "\n",
    "# Digital Line 7\n",
    "sync_pulse_timestamps = sync_pulse_events['timestamp'].values\n",
    "sync_pulse_timestamps = sync_pulse_timestamps[0::2]\n",
    "\n",
    "# Digital Line 6\n",
    "stimROI_timestamps  = stimROI_events['timestamp'].values\n",
    "stimROI_timestamps = stimROI_timestamps[0::2]\n",
    "\n",
    "# Digital Line 5\n",
    "tone1_timestamps = tone1_events['timestamp'].values\n",
    "tone1_timestamps = tone1_timestamps[0::2]\n",
    "\n",
    "# Digital Line 4\n",
    "optical_timestamps = optical_events['timestamp'].values\n",
    "\n",
    "# Digital Line 4 --> (every 10th value)\n",
    "first_optical_timestamp_per_event = optical_events['timestamp'].values\n",
    "first_optical_timestamp_per_event = first_optical_timestamp_per_event[1::10]\n",
    "\n",
    "# Digital Line 3 (NEED TO SET THIS UP FROM BUTTON)\n",
    "tone2_timestamps  = tone2_events['timestamp'].values\n",
    "tone2_timestamps = tone2_timestamps[0::2]\n"
   ]
  },
  {
   "cell_type": "markdown",
   "id": "d737d123",
   "metadata": {},
   "source": [
    "### Check that the timestamps are correct\n",
    "- first part, check the total number of timestamps make sense\n",
    "- Second part, check that the logic of the time stamps makes sense"
   ]
  },
  {
   "cell_type": "code",
   "execution_count": 19,
   "id": "eb392fe5",
   "metadata": {},
   "outputs": [
    {
     "name": "stdout",
     "output_type": "stream",
     "text": [
      "Part 1: \n",
      "frame timestamps: 727088\n",
      "sync_pulse timestamps: 5074\n",
      "tone1 timestamps: 200\n",
      "tone2 timestamps: 219\n",
      "stimROI timestamps: 1680\n",
      "optical timestamps: 432\n",
      "\n",
      "Part 2: \n",
      "behavior video duration (min) using frames:  80.79\n",
      "open-ephys recording duration (min) using sync pulses:  84.57\n",
      "frame rate of camera (Value should be close to 150):  143.3\n",
      "Avg time between frames (Goal is 0.40):  0.67\n",
      "Avg time between sync pulses (Goal is 1.0):  1.0\n",
      "Avg time between stimROI (should be roughly 15-20 seconds apart):  2.64\n",
      "Avg time between first optical pulses (should be roughly identical to the value above for Avg time between stimROI):  111.58\n"
     ]
    }
   ],
   "source": [
    "print('Part 1: ')\n",
    "print('frame timestamps:', len(frame_events))\n",
    "print('sync_pulse timestamps:', len(sync_pulse_timestamps)) # 1hz\n",
    "print('tone1 timestamps:', len(tone1_timestamps))\n",
    "print('tone2 timestamps:', len(tone2_timestamps))\n",
    "print('stimROI timestamps:', len(stimROI_timestamps))\n",
    "print('optical timestamps:', len(optical_timestamps))\n",
    "print('')\n",
    "print('Part 2: ')\n",
    "print('behavior video duration (min) using frames: ', round((len(frame_timestamps) / 150 / 60), 2))\n",
    "print('open-ephys recording duration (min) using sync pulses: ', round((len(sync_pulse_timestamps) / 60), 2))\n",
    "print('frame rate of camera (Value should be close to 150): ', round(len(frame_timestamps) / len(sync_pulse_timestamps), 2))\n",
    "print('Avg time between frames (Goal is 0.40): ', round(np.mean(np.diff(frame_timestamps)) * 100, 2))\n",
    "print('Avg time between sync pulses (Goal is 1.0): ', round(np.mean(np.diff(sync_pulse_timestamps)), 2))\n",
    "print('Avg time between stimROI (should be roughly 15-20 seconds apart): ', round(np.mean(np.diff(stimROI_timestamps)), 2))\n",
    "print('Avg time between first optical pulses (should be roughly identical to the value above for Avg time between stimROI): ', round(np.mean(np.diff(first_optical_timestamp_per_event)), 2))\n",
    "\n",
    "\n",
    "\n"
   ]
  },
  {
   "cell_type": "markdown",
   "id": "e45db8f8",
   "metadata": {},
   "source": [
    "#### Verify the duration of the recording, and the number of frames in the recording\n",
    "- this should be the duration of the behavior video, not the full open-ephys recording duration. \n",
    "- because the open-ephys recording has baseline, opto-tagging, and other things making it longer"
   ]
  },
  {
   "cell_type": "code",
   "execution_count": 20,
   "id": "320b3969",
   "metadata": {},
   "outputs": [
    {
     "name": "stdout",
     "output_type": "stream",
     "text": [
      "value should be close to (150) because 150hz frame rate:  151.47666666666666\n",
      "2.524611111111111\n"
     ]
    }
   ],
   "source": [
    "## Value should be 150, as the frame rate is 150 Hz, and the video was roughly 120 scoonds long\n",
    "duration_of_video = 80 # in minutes\n",
    "\n",
    "Behavior_video_length = duration_of_video * 60 # in seconds\n",
    "print('value should be close to (150) because 150hz frame rate: ',len(frame_timestamps) / Behavior_video_length)\n",
    "\n",
    "## Value is the duration of the behavior recording in minutes, because the frame rate is 150 Hz\n",
    "print(len(frame_timestamps)/Behavior_video_length/60)\n"
   ]
  },
  {
   "cell_type": "markdown",
   "id": "25373843",
   "metadata": {},
   "source": [
    "#### Verify the time between the StimROI and the frame in which you saw light on the camera\n",
    "- the Difference between Stim TTL & the first frame with an optical pusle seen should be less that 1.0ms"
   ]
  },
  {
   "cell_type": "code",
   "execution_count": 21,
   "id": "d07c273b",
   "metadata": {},
   "outputs": [],
   "source": [
    "# light_seen_frame = [940,3985,6181,8418,11143,15432]\n",
    "# stim_number = 0\n",
    "\n",
    "# for i in light_seen_frame:\n",
    "\n",
    "#     first_light_frame_vs_StimTTL_difference = (stimROI_timestamps[stim_number] -  frame_timestamps[i]) *100\n",
    "\n",
    "#     print('stim number:', stim_number+1)\n",
    "#     print(f'stimROI TTL timestamps Vs. timestamp of frame with first optical pulse: ', stimROI_timestamps[stim_number].round(2),frame_timestamps[i].round(2))\n",
    "#     print(f'Difference between Stim TTL & the first frame with an optical pusle seen: ', first_light_frame_vs_StimTTL_difference.round(2))\n",
    "#     print('')\n",
    "    \n",
    "#     stim_number += 1\n",
    "    "
   ]
  },
  {
   "cell_type": "markdown",
   "id": "14f0f469",
   "metadata": {},
   "source": [
    "### if you want to plot your events you can here\n",
    "- you just need to change all the variable names to match your data"
   ]
  },
  {
   "cell_type": "code",
   "execution_count": 22,
   "id": "11d3e9b0",
   "metadata": {},
   "outputs": [
    {
     "data": {
      "text/plain": [
       "(247.71032728126445, 265.0572456559737, 884.3483381777169, 265.8942706686352)"
      ]
     },
     "execution_count": 22,
     "metadata": {},
     "output_type": "execute_result"
    }
   ],
   "source": [
    "tone1_timestamps[0],tone2_timestamps[0], stimROI_timestamps[0], optical_timestamps[0]"
   ]
  },
  {
   "cell_type": "markdown",
   "id": "c94c7d35",
   "metadata": {},
   "source": [
    "## Plot events to see if they are aligned"
   ]
  },
  {
   "cell_type": "code",
   "execution_count": 23,
   "id": "72123833",
   "metadata": {},
   "outputs": [
    {
     "data": {
      "image/png": "[encoded data removed]",
      "text/plain": [
       "<Figure size 640x480 with 1 Axes>"
      ]
     },
     "metadata": {},
     "output_type": "display_data"
    }
   ],
   "source": [
    "# Check one single event / reach\n",
    "plt.eventplot([tone1_timestamps,tone2_timestamps, optical_timestamps,stimROI_timestamps], orientation='horizontal', colors=['r','g','b','y'])\n",
    "plt.xlim(tone2_timestamps[0]-1, tone2_timestamps[0]+1)\n",
    "plt.legend(['tone1','tone2', 'optical','stimROI'])\n",
    "plt.title('Tone1, Tone2, StimROI and Optical Events')\n",
    "plt.show()\n"
   ]
  },
  {
   "cell_type": "markdown",
   "id": "9888070f",
   "metadata": {},
   "source": [
    "## Create a plot for every reach\n",
    "- this saves the plots showing the timeing of the events as recorded by the digital board \n",
    "- plots are saved too the reach_event_save_path and full_reach_event_save_path (both paths are automatically created at the start of this 01_makeNWB.ipynb file, and should be in the root recording foler)"
   ]
  },
  {
   "cell_type": "code",
   "execution_count": 24,
   "id": "420910ee",
   "metadata": {},
   "outputs": [
    {
     "ename": "NameError",
     "evalue": "name 'T6000_frame' is not defined",
     "output_type": "error",
     "traceback": [
      "\u001b[1;31m---------------------------------------------------------------------------\u001b[0m",
      "\u001b[1;31mNameError\u001b[0m                                 Traceback (most recent call last)",
      "Cell \u001b[1;32mIn[24], line 2\u001b[0m\n\u001b[0;32m      1\u001b[0m \u001b[38;5;28;01mimport\u001b[39;00m \u001b[38;5;21;01mpandas\u001b[39;00m \u001b[38;5;28;01mas\u001b[39;00m \u001b[38;5;21;01mpd\u001b[39;00m\n\u001b[1;32m----> 2\u001b[0m df \u001b[38;5;241m=\u001b[39m pd\u001b[38;5;241m.\u001b[39mDataFrame(\u001b[43mT6000_frame\u001b[49m)\n",
      "\u001b[1;31mNameError\u001b[0m: name 'T6000_frame' is not defined"
     ]
    }
   ],
   "source": [
    "import pandas as pd\n",
    "df = pd.DataFrame(T6000_frame)\n",
    "# df.to_csv (T6000_frame_path, index = None, header=True)"
   ]
  },
  {
   "cell_type": "code",
   "execution_count": 43,
   "id": "702de119",
   "metadata": {},
   "outputs": [
    {
     "name": "stdout",
     "output_type": "stream",
     "text": [
      "Files / plots already exist\n",
      "either delete the plots or change the save path\n"
     ]
    }
   ],
   "source": [
    "reach_event_save_path_03 = reach_event_save_path + '\\\\3_combined_reach_events'\n",
    "\n",
    "if reach_event_save_path_03+f'\\\\reach_1.png' in glob.glob(reach_event_save_path_03+f'\\\\reach_*.png'):\n",
    "    print('Files / plots already exist')\n",
    "    print('either delete the plots or change the save path')\n",
    "\n",
    "else:\n",
    "    if not os.path.exists(reach_event_save_path_03):\n",
    "        os.makedirs(reach_event_save_path_03)\n",
    "        print('Directory created: ', reach_event_save_path_03)\n",
    "    fig, axs = plt.subplots(nrows=3,ncols=1, figsize=(6,10))\n",
    "\n",
    "    for i in range(len(tone1_timestamps)):\n",
    "        \n",
    "        axs[0].eventplot([tone1_timestamps, tone2_timestamps, optical_timestamps,stimROI_timestamps], orientation='horizontal', colors=['r', 'g','b','y'])\n",
    "        axs[0].set_xlim(tone1_timestamps[i]-3.5, tone1_timestamps[i]+3.5)\n",
    "        axs[0].legend(['tone1','tone2', 'optical','stimROI'])\n",
    "        axs[0].set_title(f' Reach Number: {i+1} \\n T6000_frame_number: {T6000_frame[i]}')\n",
    "\n",
    "        axs[1].eventplot([tone1_timestamps, tone2_timestamps, optical_timestamps,stimROI_timestamps], orientation='horizontal', colors=['r', 'g','b','y'])\n",
    "        axs[1].set_xlim(tone1_timestamps[i]-12.5, tone1_timestamps[i]+12.5)\n",
    "        axs[1].legend(['tone1','tone2', 'optical','stimROI'])\n",
    "        axs[1].set_title(f' Reach Number: {i+1} \\n T6000_frame_number: {T6000_frame[i]}')\n",
    "\n",
    "        axs[2].eventplot([tone1_timestamps, tone2_timestamps, optical_timestamps,stimROI_timestamps], orientation='horizontal', colors=['r', 'g','b','y'])\n",
    "        axs[2].set_xlim(tone1_timestamps[i]-20, tone1_timestamps[i]+20)\n",
    "        axs[2].legend(['tone1','tone2', 'optical','stimROI'])\n",
    "        axs[2].set_title(f' Reach Number: {i+1} \\n T6000_frame_number: {T6000_frame[i]}')\n",
    "\n",
    "        plt.tight_layout()\n",
    "\n",
    "        plt.savefig(reach_event_save_path_03+f'\\\\reach_{i}.png')"
   ]
  },
  {
   "cell_type": "code",
   "execution_count": 44,
   "id": "4863a0c1",
   "metadata": {},
   "outputs": [],
   "source": [
    "# if reach_event_save_path+f'\\\\reach_1.png' in glob.glob(reach_event_save_path+f'\\\\reach_*.png'):\n",
    "#     print('Files already exists')\n",
    "# else:\n",
    "#     for i in range(len(tone1_timestamps)):\n",
    "#         plt.eventplot([tone1_timestamps, tone2_timestamps, optical_timestamps,stimROI_timestamps], orientation='horizontal', colors=['r', 'g','b','y'])\n",
    "#         #plt.xlim(tone1_timestamps[i]-2, tone2_timestamps[i]+2)\n",
    "#         plt.xlim(tone1_timestamps[i]-2, tone1_timestamps[i]+3)\n",
    "#         plt.legend(['tone1','tone2', 'optical','stimROI'])\n",
    "#         plt.title('Tone2 and Optical Events')\n",
    "#         plt.savefig(reach_event_save_path+f'\\\\reach_{i}.png')\n",
    "\n",
    "        \n",
    "#     for i in range(len(tone1_timestamps)):\n",
    "#         plt.eventplot([tone1_timestamps, tone2_timestamps, optical_timestamps,stimROI_timestamps], orientation='horizontal', colors=['r', 'g','b','y'])\n",
    "#         plt.xlim(tone1_timestamps[i]-10, tone2_timestamps[i]+10)\n",
    "#         plt.legend(['tone1','tone2', 'optical','stimROI'])\n",
    "#         plt.title('Tone2 and Optical Events')\n",
    "#         plt.savefig(full_reach_event_save_path+f'\\\\reach_{i}.png')\n",
    "\n"
   ]
  },
  {
   "cell_type": "markdown",
   "id": "b62a81a5",
   "metadata": {},
   "source": [
    "## End of plotting "
   ]
  },
  {
   "cell_type": "markdown",
   "id": "a260ec7e",
   "metadata": {},
   "source": [
    "### using the number of rows recorded in the frame_events dataframe, we can calculate the total number of frames recorded, since each row is equivalent to one frame. we can use this to find total recording duration in seconds"
   ]
  },
  {
   "cell_type": "code",
   "execution_count": 25,
   "id": "6a6a6d68",
   "metadata": {},
   "outputs": [
    {
     "data": {
      "text/plain": [
       "array([0.00666667, 0.01333333, 0.02      , 0.02666667, 0.03333333])"
      ]
     },
     "execution_count": 25,
     "metadata": {},
     "output_type": "execute_result"
    }
   ],
   "source": [
    "row_numbers = np.arange(1, len(ni_df[ni_df['line'] == 8]) + 1)\n",
    "open_ephys_frames = row_numbers\n",
    "frames_in_seconds_open_ephys = np.array(row_numbers) / 150\n",
    "frames_in_seconds_open_ephys[0:5]\n"
   ]
  },
  {
   "cell_type": "markdown",
   "id": "6722629c",
   "metadata": {},
   "source": [
    "### Plot the digital line inputs"
   ]
  },
  {
   "cell_type": "code",
   "execution_count": 26,
   "id": "b5eee087",
   "metadata": {},
   "outputs": [],
   "source": [
    "ni_ts = {}\n",
    "df_up = ni_df[ni_df.state==1]\n",
    "for ch in ni_df.line.unique():\n",
    "    ni_ts[ch] = df_up[df_up.line == ch].timestamp"
   ]
  },
  {
   "cell_type": "markdown",
   "id": "9d021b55",
   "metadata": {},
   "source": [
    "## plot of digital events. Line 8 is the camera frame trigger, line 5 is the tone1 and tone2, line 6 is just tone2, line 4 is the optical pulses"
   ]
  },
  {
   "cell_type": "code",
   "execution_count": 27,
   "id": "d41d1386",
   "metadata": {},
   "outputs": [
    {
     "data": {
      "text/plain": [
       "<matplotlib.legend.Legend at 0x1f7a96e3070>"
      ]
     },
     "execution_count": 27,
     "metadata": {},
     "output_type": "execute_result"
    },
    {
     "data": {
      "image/png": "[encoded data removed]",
      "text/plain": [
       "<Figure size 640x480 with 1 Axes>"
      ]
     },
     "metadata": {},
     "output_type": "display_data"
    }
   ],
   "source": [
    "ch_name = ['8, frames', '7, synch', '6, StimROI','5, tone1', '4, optical', '3, Tone2']\n",
    "i=0\n",
    "for ch in ([8,7,6,5,4,3]):\n",
    "    # plt.xlim(65,75)\n",
    "    plt.plot(np.array(ni_ts[ch]),\n",
    "             np.ones(len(ni_ts[ch]))*ch,\n",
    "             '|',label=ch_name[i])\n",
    "\n",
    "    i+=1\n",
    "plt.legend()\n"
   ]
  },
  {
   "cell_type": "markdown",
   "id": "897fa6bc",
   "metadata": {},
   "source": [
    "### Create a dictionary to store the data (this is the simple option)\n",
    "- you again need to update this to match all of your data"
   ]
  },
  {
   "cell_type": "code",
   "execution_count": 28,
   "id": "c4a927aa",
   "metadata": {},
   "outputs": [],
   "source": [
    "stimuli_times_simple = { 'tone1_timestamps': tone1_timestamps,\n",
    "                'tone2_timestamps': tone2_timestamps,\n",
    "                'stimROI_timestamps': stimROI_timestamps,\n",
    "                'frame_events_timestamp': frame_timestamps,\n",
    "                'frames_in_seconds_openEphys':frames_in_seconds_open_ephys,\n",
    "                'optical_timestamps': optical_timestamps,\n",
    "\n",
    "                  }"
   ]
  },
  {
   "cell_type": "code",
   "execution_count": 29,
   "id": "09ed8c33-d15d-4c69-a5a7-76839bbb59ba",
   "metadata": {},
   "outputs": [],
   "source": [
    "\n",
    "#stimulus list\n",
    "stimuli = {'none': None,\n",
    "           } "
   ]
  },
  {
   "cell_type": "markdown",
   "id": "d6f8f027-f9e9-49ad-ba70-0dbf93928293",
   "metadata": {},
   "source": [
    "## Assemble NWB"
   ]
  },
  {
   "cell_type": "code",
   "execution_count": 30,
   "id": "530e5d04",
   "metadata": {},
   "outputs": [],
   "source": [
    "# !pip install pynwb\n",
    "# !pip install numpy==1.24.3\n"
   ]
  },
  {
   "cell_type": "code",
   "execution_count": 31,
   "id": "8df50303",
   "metadata": {},
   "outputs": [],
   "source": [
    "recording_folder = root_recording_folder\n",
    "# recording_folder = r'G:/Grant/rotation/2023-09-29_16-07-39_PaBont2'\n",
    "\n",
    "experimenter = 'grh'\n",
    "experiment_description= 'Christie Lab, University of Colorado Anschutz. Reaching  task with Pontine Gray mossy fiber stimulation to induce learning. Mouse used Reach7, was a Niave Mouse that could reach with ~80% success rate. recorded with 5 neuropixels (four NP1, and one NP2-4-shank in MoP ) from (SIM&IP, PG, MoP, VaL, SnR) with (probe_A, Probe_B, and Probe_C, Probe_D and Probe_E) respectively'\n",
    "\n",
    "# #spikeglx\n",
    "# probes = [os.path.basename(f) for f in np.sort(glob.glob(recording_folder+'/*-AP*'))]\n",
    "\n",
    "probeids = ['A', 'B','C','D','E'] \n",
    "\n",
    "# Use MPM-relative probe depths (in microns)\n",
    "probedepths = [4156,7013,1450,4878,6202] "
   ]
  },
  {
   "cell_type": "code",
   "execution_count": 32,
   "id": "9e06c51d-e2ea-4e3f-8e12-3122cfd5a4de",
   "metadata": {},
   "outputs": [],
   "source": [
    "import pynwb\n",
    "from hdmf.backends.hdf5.h5_utils import H5DataIO\n",
    "from hdmf.utils import StrDataset"
   ]
  },
  {
   "cell_type": "code",
   "execution_count": 33,
   "id": "1b954ec8-dc70-4cf7-9467-a200291e5394",
   "metadata": {},
   "outputs": [
    {
     "name": "stdout",
     "output_type": "stream",
     "text": [
      "Christie Lab, University of Colorado Anschutz. Reaching  task with Pontine Gray mossy fiber stimulation to induce learning. Mouse used Reach7, was a Niave Mouse that could reach with ~80% success rate. recorded with 5 neuropixels (four NP1, and one NP2-4-shank in MoP ) from (SIM&IP, PG, MoP, VaL, SnR) with (probe_A, Probe_B, and Probe_C, Probe_D and Probe_E) respectively\n"
     ]
    }
   ],
   "source": [
    "from datetime import datetime\n",
    "from dateutil.tz import tzlocal\n",
    "from pynwb import NWBFile\n",
    "\n",
    "print(experiment_description)\n",
    "\n",
    "nwbfile = NWBFile(experiment_description, \n",
    "                  recording_folder, \n",
    "                  datetime.now(tzlocal()),\n",
    "                  experimenter=experimenter,\n",
    "                  lab='Christie Lab',\n",
    "                  institution='University of Colorado Anschtuz Medical Campus',\n",
    "                  experiment_description=experiment_description,\n",
    "                  session_id=os.path.basename(recording_folder))"
   ]
  },
  {
   "cell_type": "markdown",
   "id": "8eee578f-8e9c-4562-93ca-ba16fc5e6abe",
   "metadata": {},
   "source": [
    "### add stimulus information\n",
    "- choose to run either the stimuli_times or stimuli_times_simple cell bellow (you can only run one, and that will decidce whats in your nwb)"
   ]
  },
  {
   "cell_type": "code",
   "execution_count": 34,
   "id": "7f5237a4-5d31-41f5-bfac-78823deda098",
   "metadata": {},
   "outputs": [],
   "source": [
    "# for stim in stimuli_times.keys():\n",
    "#     nwbfile.add_epoch(np.array(stimuli_times[stim])[0], \n",
    "#                       np.array(stimuli_times[stim])[-1]+3.,\n",
    "#                       [stim])"
   ]
  },
  {
   "cell_type": "code",
   "execution_count": 35,
   "id": "d0fe37b5",
   "metadata": {},
   "outputs": [
    {
     "data": {
      "text/plain": [
       "root pynwb.file.NWBFile at 0x2163261481024\n",
       "Fields:\n",
       "  experiment_description: Christie Lab, University of Colorado Anschutz. Reaching  task with Pontine Gray mossy fiber stimulation to induce learning. Mouse used Reach7, was a Niave Mouse that could reach with ~80% success rate. recorded with 5 neuropixels (four NP1, and one NP2-4-shank in MoP ) from (SIM&IP, PG, MoP, VaL, SnR) with (probe_A, Probe_B, and Probe_C, Probe_D and Probe_E) respectively\n",
       "  experimenter: ['grh']\n",
       "  file_create_date: [datetime.datetime(2025, 4, 11, 18, 23, 26, 181191, tzinfo=tzlocal())]\n",
       "  identifier: G:\\Grant\\neuropixels\\kilosort_recordings\\reach7_07_2024-12-04_20-57-49_008\n",
       "  institution: University of Colorado Anschtuz Medical Campus\n",
       "  lab: Christie Lab\n",
       "  session_description: Christie Lab, University of Colorado Anschutz. Reaching  task with Pontine Gray mossy fiber stimulation to induce learning. Mouse used Reach7, was a Niave Mouse that could reach with ~80% success rate. recorded with 5 neuropixels (four NP1, and one NP2-4-shank in MoP ) from (SIM&IP, PG, MoP, VaL, SnR) with (probe_A, Probe_B, and Probe_C, Probe_D and Probe_E) respectively\n",
       "  session_id: reach7_07_2024-12-04_20-57-49_008\n",
       "  session_start_time: 2025-04-11 18:23:26.181191-04:00\n",
       "  timestamps_reference_time: 2025-04-11 18:23:26.181191-04:00"
      ]
     },
     "execution_count": 35,
     "metadata": {},
     "output_type": "execute_result"
    }
   ],
   "source": [
    "nwbfile"
   ]
  },
  {
   "cell_type": "markdown",
   "id": "3d6a6617",
   "metadata": {},
   "source": [
    "## Run for stimuli_times "
   ]
  },
  {
   "cell_type": "code",
   "execution_count": 36,
   "id": "5e53de52",
   "metadata": {},
   "outputs": [],
   "source": [
    "### Uncomment for "
   ]
  },
  {
   "cell_type": "code",
   "execution_count": 37,
   "id": "9686f92c",
   "metadata": {},
   "outputs": [],
   "source": [
    "# nwbfile.add_trial_column('stimulus', 'the event occuring during this trial')\n",
    "# #optogenetic pertibation\n",
    "# nwbfile.add_trial_column('optogenetics_LED_state', 'whether or not the LED was on or off for this trial. 1=on,0=off. exact opto times are available in optogenetics_states field of NWB')\n",
    "# #arbMatrix and scene flicker\n",
    "# # nwbfile.add_trial_column('stimulus_index', 'index of each trial into a matrix or list of images')\n",
    "# stim_vals = {'optogenetics_LED_state':-1,\n",
    "       \n",
    "# }\n",
    "        \n",
    "# stim = 'all_frames_sideCam_txt'\n",
    "# for i,trial_start in enumerate(np.array(stimuli_times[stim])):\n",
    "#     nwbfile.add_trial(start_time=trial_start,  stop_time=trial_start, stimulus=stim,\n",
    "#                      optogenetics_LED_state=0,\n",
    "\n",
    "#                      )   \n",
    "# stim = 'frames_in_seconds_openEphys'\n",
    "# for i,trial_start in enumerate(np.array(stimuli_times[stim])):\n",
    "#     nwbfile.add_trial(start_time=trial_start,  stop_time=trial_start, stimulus=stim,\n",
    "#                      optogenetics_LED_state=0,\n",
    "\n",
    "#                      )\n",
    "# stim = 'pellet_delivery_seconds_txt'\n",
    "# for i,trial_start in enumerate(np.array(stimuli_times[stim])):\n",
    "#     nwbfile.add_trial(start_time=trial_start,  stop_time=trial_start, stimulus=stim,\n",
    "#                      optogenetics_LED_state=0,\n",
    "\n",
    "#                      )\n",
    "# stim = 'pellet_detected_seconds_txt'\n",
    "# for i,trial_start in enumerate(np.array(stimuli_times[stim])):\n",
    "#     nwbfile.add_trial(start_time=trial_start,  stop_time=trial_start, stimulus=stim,\n",
    "#                      optogenetics_LED_state=0,\n",
    "\n",
    "#                      )\n",
    "# stim = 'pellet_delivery_slow_motion_txt'\n",
    "# for i,trial_start in enumerate(np.array(stimuli_times[stim])):\n",
    "#     nwbfile.add_trial(start_time=trial_start,  stop_time=trial_start, stimulus=stim,\n",
    "#                      optogenetics_LED_state=0,\n",
    "\n",
    "#                      )\n",
    "# stim = 'pellet_detected_slow_motion_txt'\n",
    "# for i,trial_start in enumerate(np.array(stimuli_times[stim])):\n",
    "#     nwbfile.add_trial(start_time=trial_start,  stop_time=trial_start, stimulus=stim,\n",
    "#                      optogenetics_LED_state=0,\n",
    "\n",
    "#                      )\n",
    "# stim = 'pellet_detected_timestamp'\n",
    "# for i,trial_start in enumerate(np.array(stimuli_times[stim])):\n",
    "#     nwbfile.add_trial(start_time=trial_start,  stop_time=trial_start, stimulus=stim,\n",
    "#                      optogenetics_LED_state=0,\n",
    "\n",
    "#                      )\n",
    "# stim = 'pellet_delivery_timestamp'\n",
    "# for i,trial_start in enumerate(np.array(stimuli_times[stim])):\n",
    "#     nwbfile.add_trial(start_time=trial_start,  stop_time=trial_start, stimulus=stim,\n",
    "#                      optogenetics_LED_state=0,\n",
    "\n",
    "#                      )\n",
    "# stim = 'frame_events_timestamp'\n",
    "# for i,trial_start in enumerate(np.array(stimuli_times[stim])):\n",
    "#     nwbfile.add_trial(start_time=trial_start,  stop_time=trial_start, stimulus=stim,\n",
    "#                      optogenetics_LED_state=0,\n",
    "\n",
    "#                      )\n",
    "\n",
    "    "
   ]
  },
  {
   "cell_type": "markdown",
   "id": "9fbc1065",
   "metadata": {},
   "source": [
    "## Run for stimuli_times_simple\n",
    "- you need to update all of this for your data"
   ]
  },
  {
   "cell_type": "code",
   "execution_count": 38,
   "id": "4e457437",
   "metadata": {},
   "outputs": [],
   "source": [
    "nwbfile.add_trial_column('stimulus', 'the event occuring during this trial')\n",
    "\n",
    "#optogenetic pertibation\n",
    "nwbfile.add_trial_column('optogenetics_LED_state', 'whether or not the LED was on or off for this trial. 1=on,0=off. exact opto times are available in optogenetics_states field of NWB')\n"
   ]
  },
  {
   "cell_type": "code",
   "execution_count": 39,
   "id": "99f3c683",
   "metadata": {},
   "outputs": [],
   "source": [
    "\n",
    "#arbMatrix and scene flicker\n",
    "# nwbfile.add_trial_column('stimulus_index', 'index of each trial into a matrix or list of images')\n",
    "\n",
    "stim_vals = {'optogenetics_LED_state':-1,\n",
    "       \n",
    "}\n",
    "\n",
    "\n",
    "    \n",
    "stim = 'tone1_timestamps'\n",
    "for i, trial_start in enumerate(np.array(stimuli_times_simple[stim])):\n",
    "    nwbfile.add_trial(start_time=trial_start, stop_time=trial_start, stimulus=stim,\n",
    "                    optogenetics_LED_state=0)\n",
    "    \n",
    "stim = 'tone2_timestamps'\n",
    "for i,trial_start in enumerate(np.array(stimuli_times_simple[stim])):\n",
    "    nwbfile.add_trial(start_time=trial_start,  stop_time=trial_start, stimulus=stim,\n",
    "                     optogenetics_LED_state=0,\n",
    "\n",
    "                     )\n",
    "    \n",
    "stim = 'stimROI_timestamps'\n",
    "for i,trial_start in enumerate(np.array(stimuli_times_simple[stim])):\n",
    "    nwbfile.add_trial(start_time=trial_start,  stop_time=trial_start, stimulus=stim,\n",
    "                     optogenetics_LED_state=0,\n",
    "\n",
    "                     )\n",
    "\n",
    "stim = 'frame_events_timestamp'\n",
    "total_trials = len(stimuli_times_simple[stim])\n",
    "for i, trial_start in enumerate(np.array(stimuli_times_simple[stim])):\n",
    "    nwbfile.add_trial(start_time=trial_start, stop_time=trial_start, stimulus=stim,\n",
    "                      optogenetics_LED_state=0)\n",
    "\n",
    "\n",
    "# stim = 'optical_timestamps'\n",
    "# for i,trial_start in enumerate(np.array(stimuli_times_simple[stim])):\n",
    "#     nwbfile.add_trial(start_time=trial_start,  stop_time=trial_start, stimulus=stim,\n",
    "#                      optogenetics_LED_state=0,)\n",
    "\n",
    "#                      )\n",
    "# print(f'here 2: {nwbfile.trials}')\n",
    "\n",
    "\n",
    "# stim = 'all_frames_sideCam_txt'\n",
    "# for i,trial_start in enumerate(np.array(stimuli_times_simple[stim])):\n",
    "#     nwbfile.add_trial(start_time=trial_start,  stop_time=trial_start, stimulus=stim,\n",
    "#                      optogenetics_LED_state=0,\n",
    "\n",
    "#                      )   "
   ]
  },
  {
   "cell_type": "markdown",
   "id": "e39650d5",
   "metadata": {},
   "source": [
    "## Check the trials dataframe"
   ]
  },
  {
   "cell_type": "code",
   "execution_count": 40,
   "id": "9539ac61-8c73-49b4-b4ef-13eed47a913b",
   "metadata": {},
   "outputs": [],
   "source": [
    "df = nwbfile.trials.to_dataframe()\n"
   ]
  },
  {
   "cell_type": "code",
   "execution_count": 41,
   "id": "cb70b956",
   "metadata": {},
   "outputs": [
    {
     "data": {
      "text/html": [
       "<div>\n",
       "<style scoped>\n",
       "    .dataframe tbody tr th:only-of-type {\n",
       "        vertical-align: middle;\n",
       "    }\n",
       "\n",
       "    .dataframe tbody tr th {\n",
       "        vertical-align: top;\n",
       "    }\n",
       "\n",
       "    .dataframe thead th {\n",
       "        text-align: right;\n",
       "    }\n",
       "</style>\n",
       "<table border=\"1\" class=\"dataframe\">\n",
       "  <thead>\n",
       "    <tr style=\"text-align: right;\">\n",
       "      <th></th>\n",
       "      <th>start_time</th>\n",
       "      <th>stop_time</th>\n",
       "      <th>stimulus</th>\n",
       "      <th>optogenetics_LED_state</th>\n",
       "    </tr>\n",
       "    <tr>\n",
       "      <th>id</th>\n",
       "      <th></th>\n",
       "      <th></th>\n",
       "      <th></th>\n",
       "      <th></th>\n",
       "    </tr>\n",
       "  </thead>\n",
       "  <tbody>\n",
       "    <tr>\n",
       "      <th>0</th>\n",
       "      <td>247.710327</td>\n",
       "      <td>247.710327</td>\n",
       "      <td>tone1_timestamps</td>\n",
       "      <td>0</td>\n",
       "    </tr>\n",
       "    <tr>\n",
       "      <th>1</th>\n",
       "      <td>266.478939</td>\n",
       "      <td>266.478939</td>\n",
       "      <td>tone1_timestamps</td>\n",
       "      <td>0</td>\n",
       "    </tr>\n",
       "    <tr>\n",
       "      <th>2</th>\n",
       "      <td>280.673692</td>\n",
       "      <td>280.673692</td>\n",
       "      <td>tone1_timestamps</td>\n",
       "      <td>0</td>\n",
       "    </tr>\n",
       "    <tr>\n",
       "      <th>3</th>\n",
       "      <td>295.975223</td>\n",
       "      <td>295.975223</td>\n",
       "      <td>tone1_timestamps</td>\n",
       "      <td>0</td>\n",
       "    </tr>\n",
       "    <tr>\n",
       "      <th>4</th>\n",
       "      <td>310.123828</td>\n",
       "      <td>310.123828</td>\n",
       "      <td>tone1_timestamps</td>\n",
       "      <td>0</td>\n",
       "    </tr>\n",
       "  </tbody>\n",
       "</table>\n",
       "</div>"
      ],
      "text/plain": [
       "    start_time   stop_time          stimulus  optogenetics_LED_state\n",
       "id                                                                  \n",
       "0   247.710327  247.710327  tone1_timestamps                       0\n",
       "1   266.478939  266.478939  tone1_timestamps                       0\n",
       "2   280.673692  280.673692  tone1_timestamps                       0\n",
       "3   295.975223  295.975223  tone1_timestamps                       0\n",
       "4   310.123828  310.123828  tone1_timestamps                       0"
      ]
     },
     "execution_count": 41,
     "metadata": {},
     "output_type": "execute_result"
    }
   ],
   "source": [
    "df[0:5]"
   ]
  },
  {
   "cell_type": "code",
   "execution_count": 42,
   "id": "bbfaffd7",
   "metadata": {},
   "outputs": [],
   "source": [
    "\n",
    "tone1_data = df[df['stimulus'] == 'tone1_timestamps']\n",
    "tone2_data = df[df['stimulus'] == 'tone2_timestamps']\n",
    "stimROI_data = df[df['stimulus'] == 'stimROI_timestamps']\n",
    "pellet_delivery_slow_motion = df[df['stimulus'] == 'pellet_delivery_slow_motion_txt']\n",
    "pellet_detected_slow_motion = df[df['stimulus'] == 'pellet_detected_slow_motion_txt']\n",
    "all_frames_sideCam = df[df['stimulus'] == 'all_frames_sideCam_txt']\n",
    "frames_in_seconds_openEphys = df[df['stimulus'] == 'frames_in_seconds_openEphys']\n"
   ]
  },
  {
   "cell_type": "code",
   "execution_count": 43,
   "id": "cfc3ff98",
   "metadata": {},
   "outputs": [
    {
     "data": {
      "text/html": [
       "<div>\n",
       "<style scoped>\n",
       "    .dataframe tbody tr th:only-of-type {\n",
       "        vertical-align: middle;\n",
       "    }\n",
       "\n",
       "    .dataframe tbody tr th {\n",
       "        vertical-align: top;\n",
       "    }\n",
       "\n",
       "    .dataframe thead th {\n",
       "        text-align: right;\n",
       "    }\n",
       "</style>\n",
       "<table border=\"1\" class=\"dataframe\">\n",
       "  <thead>\n",
       "    <tr style=\"text-align: right;\">\n",
       "      <th></th>\n",
       "      <th>start_time</th>\n",
       "      <th>stop_time</th>\n",
       "      <th>stimulus</th>\n",
       "      <th>optogenetics_LED_state</th>\n",
       "    </tr>\n",
       "    <tr>\n",
       "      <th>id</th>\n",
       "      <th></th>\n",
       "      <th></th>\n",
       "      <th></th>\n",
       "      <th></th>\n",
       "    </tr>\n",
       "  </thead>\n",
       "  <tbody>\n",
       "    <tr>\n",
       "      <th>0</th>\n",
       "      <td>247.710327</td>\n",
       "      <td>247.710327</td>\n",
       "      <td>tone1_timestamps</td>\n",
       "      <td>0</td>\n",
       "    </tr>\n",
       "    <tr>\n",
       "      <th>1</th>\n",
       "      <td>266.478939</td>\n",
       "      <td>266.478939</td>\n",
       "      <td>tone1_timestamps</td>\n",
       "      <td>0</td>\n",
       "    </tr>\n",
       "    <tr>\n",
       "      <th>2</th>\n",
       "      <td>280.673692</td>\n",
       "      <td>280.673692</td>\n",
       "      <td>tone1_timestamps</td>\n",
       "      <td>0</td>\n",
       "    </tr>\n",
       "    <tr>\n",
       "      <th>3</th>\n",
       "      <td>295.975223</td>\n",
       "      <td>295.975223</td>\n",
       "      <td>tone1_timestamps</td>\n",
       "      <td>0</td>\n",
       "    </tr>\n",
       "    <tr>\n",
       "      <th>4</th>\n",
       "      <td>310.123828</td>\n",
       "      <td>310.123828</td>\n",
       "      <td>tone1_timestamps</td>\n",
       "      <td>0</td>\n",
       "    </tr>\n",
       "  </tbody>\n",
       "</table>\n",
       "</div>"
      ],
      "text/plain": [
       "    start_time   stop_time          stimulus  optogenetics_LED_state\n",
       "id                                                                  \n",
       "0   247.710327  247.710327  tone1_timestamps                       0\n",
       "1   266.478939  266.478939  tone1_timestamps                       0\n",
       "2   280.673692  280.673692  tone1_timestamps                       0\n",
       "3   295.975223  295.975223  tone1_timestamps                       0\n",
       "4   310.123828  310.123828  tone1_timestamps                       0"
      ]
     },
     "execution_count": 43,
     "metadata": {},
     "output_type": "execute_result"
    }
   ],
   "source": [
    "tone1_data.head()"
   ]
  },
  {
   "cell_type": "code",
   "execution_count": 44,
   "id": "d465525d",
   "metadata": {},
   "outputs": [
    {
     "data": {
      "text/html": [
       "<div>\n",
       "<style scoped>\n",
       "    .dataframe tbody tr th:only-of-type {\n",
       "        vertical-align: middle;\n",
       "    }\n",
       "\n",
       "    .dataframe tbody tr th {\n",
       "        vertical-align: top;\n",
       "    }\n",
       "\n",
       "    .dataframe thead th {\n",
       "        text-align: right;\n",
       "    }\n",
       "</style>\n",
       "<table border=\"1\" class=\"dataframe\">\n",
       "  <thead>\n",
       "    <tr style=\"text-align: right;\">\n",
       "      <th></th>\n",
       "      <th>start_time</th>\n",
       "      <th>stop_time</th>\n",
       "      <th>stimulus</th>\n",
       "      <th>optogenetics_LED_state</th>\n",
       "    </tr>\n",
       "    <tr>\n",
       "      <th>id</th>\n",
       "      <th></th>\n",
       "      <th></th>\n",
       "      <th></th>\n",
       "      <th></th>\n",
       "    </tr>\n",
       "  </thead>\n",
       "  <tbody>\n",
       "    <tr>\n",
       "      <th>200</th>\n",
       "      <td>265.057246</td>\n",
       "      <td>265.057246</td>\n",
       "      <td>tone2_timestamps</td>\n",
       "      <td>0</td>\n",
       "    </tr>\n",
       "    <tr>\n",
       "      <th>201</th>\n",
       "      <td>279.803539</td>\n",
       "      <td>279.803539</td>\n",
       "      <td>tone2_timestamps</td>\n",
       "      <td>0</td>\n",
       "    </tr>\n",
       "    <tr>\n",
       "      <th>202</th>\n",
       "      <td>294.557752</td>\n",
       "      <td>294.557752</td>\n",
       "      <td>tone2_timestamps</td>\n",
       "      <td>0</td>\n",
       "    </tr>\n",
       "    <tr>\n",
       "      <th>203</th>\n",
       "      <td>309.560026</td>\n",
       "      <td>309.560026</td>\n",
       "      <td>tone2_timestamps</td>\n",
       "      <td>0</td>\n",
       "    </tr>\n",
       "    <tr>\n",
       "      <th>204</th>\n",
       "      <td>324.059259</td>\n",
       "      <td>324.059259</td>\n",
       "      <td>tone2_timestamps</td>\n",
       "      <td>0</td>\n",
       "    </tr>\n",
       "  </tbody>\n",
       "</table>\n",
       "</div>"
      ],
      "text/plain": [
       "     start_time   stop_time          stimulus  optogenetics_LED_state\n",
       "id                                                                   \n",
       "200  265.057246  265.057246  tone2_timestamps                       0\n",
       "201  279.803539  279.803539  tone2_timestamps                       0\n",
       "202  294.557752  294.557752  tone2_timestamps                       0\n",
       "203  309.560026  309.560026  tone2_timestamps                       0\n",
       "204  324.059259  324.059259  tone2_timestamps                       0"
      ]
     },
     "execution_count": 44,
     "metadata": {},
     "output_type": "execute_result"
    }
   ],
   "source": [
    "tone2_data.head()"
   ]
  },
  {
   "cell_type": "code",
   "execution_count": 45,
   "id": "6f8c879d",
   "metadata": {},
   "outputs": [
    {
     "data": {
      "text/html": [
       "<div>\n",
       "<style scoped>\n",
       "    .dataframe tbody tr th:only-of-type {\n",
       "        vertical-align: middle;\n",
       "    }\n",
       "\n",
       "    .dataframe tbody tr th {\n",
       "        vertical-align: top;\n",
       "    }\n",
       "\n",
       "    .dataframe thead th {\n",
       "        text-align: right;\n",
       "    }\n",
       "</style>\n",
       "<table border=\"1\" class=\"dataframe\">\n",
       "  <thead>\n",
       "    <tr style=\"text-align: right;\">\n",
       "      <th></th>\n",
       "      <th>start_time</th>\n",
       "      <th>stop_time</th>\n",
       "      <th>stimulus</th>\n",
       "      <th>optogenetics_LED_state</th>\n",
       "    </tr>\n",
       "    <tr>\n",
       "      <th>id</th>\n",
       "      <th></th>\n",
       "      <th></th>\n",
       "      <th></th>\n",
       "      <th></th>\n",
       "    </tr>\n",
       "  </thead>\n",
       "  <tbody>\n",
       "    <tr>\n",
       "      <th>419</th>\n",
       "      <td>884.348338</td>\n",
       "      <td>884.348338</td>\n",
       "      <td>stimROI_timestamps</td>\n",
       "      <td>0</td>\n",
       "    </tr>\n",
       "    <tr>\n",
       "      <th>420</th>\n",
       "      <td>884.358338</td>\n",
       "      <td>884.358338</td>\n",
       "      <td>stimROI_timestamps</td>\n",
       "      <td>0</td>\n",
       "    </tr>\n",
       "    <tr>\n",
       "      <th>421</th>\n",
       "      <td>884.368339</td>\n",
       "      <td>884.368339</td>\n",
       "      <td>stimROI_timestamps</td>\n",
       "      <td>0</td>\n",
       "    </tr>\n",
       "    <tr>\n",
       "      <th>422</th>\n",
       "      <td>884.378339</td>\n",
       "      <td>884.378339</td>\n",
       "      <td>stimROI_timestamps</td>\n",
       "      <td>0</td>\n",
       "    </tr>\n",
       "    <tr>\n",
       "      <th>423</th>\n",
       "      <td>884.388339</td>\n",
       "      <td>884.388339</td>\n",
       "      <td>stimROI_timestamps</td>\n",
       "      <td>0</td>\n",
       "    </tr>\n",
       "  </tbody>\n",
       "</table>\n",
       "</div>"
      ],
      "text/plain": [
       "     start_time   stop_time            stimulus  optogenetics_LED_state\n",
       "id                                                                     \n",
       "419  884.348338  884.348338  stimROI_timestamps                       0\n",
       "420  884.358338  884.358338  stimROI_timestamps                       0\n",
       "421  884.368339  884.368339  stimROI_timestamps                       0\n",
       "422  884.378339  884.378339  stimROI_timestamps                       0\n",
       "423  884.388339  884.388339  stimROI_timestamps                       0"
      ]
     },
     "execution_count": 45,
     "metadata": {},
     "output_type": "execute_result"
    }
   ],
   "source": [
    "stimROI_data.head()"
   ]
  },
  {
   "cell_type": "code",
   "execution_count": 46,
   "id": "61f8cc17",
   "metadata": {},
   "outputs": [
    {
     "data": {
      "text/html": [
       "<div>\n",
       "<style scoped>\n",
       "    .dataframe tbody tr th:only-of-type {\n",
       "        vertical-align: middle;\n",
       "    }\n",
       "\n",
       "    .dataframe tbody tr th {\n",
       "        vertical-align: top;\n",
       "    }\n",
       "\n",
       "    .dataframe thead th {\n",
       "        text-align: right;\n",
       "    }\n",
       "</style>\n",
       "<table border=\"1\" class=\"dataframe\">\n",
       "  <thead>\n",
       "    <tr style=\"text-align: right;\">\n",
       "      <th></th>\n",
       "      <th>start_time</th>\n",
       "      <th>stop_time</th>\n",
       "      <th>stimulus</th>\n",
       "      <th>optogenetics_LED_state</th>\n",
       "    </tr>\n",
       "    <tr>\n",
       "      <th>id</th>\n",
       "      <th></th>\n",
       "      <th></th>\n",
       "      <th></th>\n",
       "      <th></th>\n",
       "    </tr>\n",
       "  </thead>\n",
       "  <tbody>\n",
       "  </tbody>\n",
       "</table>\n",
       "</div>"
      ],
      "text/plain": [
       "Empty DataFrame\n",
       "Columns: [start_time, stop_time, stimulus, optogenetics_LED_state]\n",
       "Index: []"
      ]
     },
     "execution_count": 46,
     "metadata": {},
     "output_type": "execute_result"
    }
   ],
   "source": [
    "all_frames_sideCam.head()"
   ]
  },
  {
   "cell_type": "code",
   "execution_count": 47,
   "id": "08be7770",
   "metadata": {},
   "outputs": [
    {
     "data": {
      "text/html": [
       "<div>\n",
       "<style scoped>\n",
       "    .dataframe tbody tr th:only-of-type {\n",
       "        vertical-align: middle;\n",
       "    }\n",
       "\n",
       "    .dataframe tbody tr th {\n",
       "        vertical-align: top;\n",
       "    }\n",
       "\n",
       "    .dataframe thead th {\n",
       "        text-align: right;\n",
       "    }\n",
       "</style>\n",
       "<table border=\"1\" class=\"dataframe\">\n",
       "  <thead>\n",
       "    <tr style=\"text-align: right;\">\n",
       "      <th></th>\n",
       "      <th>start_time</th>\n",
       "      <th>stop_time</th>\n",
       "      <th>stimulus</th>\n",
       "      <th>optogenetics_LED_state</th>\n",
       "    </tr>\n",
       "    <tr>\n",
       "      <th>id</th>\n",
       "      <th></th>\n",
       "      <th></th>\n",
       "      <th></th>\n",
       "      <th></th>\n",
       "    </tr>\n",
       "  </thead>\n",
       "  <tbody>\n",
       "  </tbody>\n",
       "</table>\n",
       "</div>"
      ],
      "text/plain": [
       "Empty DataFrame\n",
       "Columns: [start_time, stop_time, stimulus, optogenetics_LED_state]\n",
       "Index: []"
      ]
     },
     "execution_count": 47,
     "metadata": {},
     "output_type": "execute_result"
    }
   ],
   "source": [
    "frames_in_seconds_openEphys.head()"
   ]
  },
  {
   "cell_type": "code",
   "execution_count": 48,
   "id": "6d55ccae",
   "metadata": {},
   "outputs": [
    {
     "ename": "AttributeError",
     "evalue": "'numpy.ndarray' object has no attribute 'head'",
     "output_type": "error",
     "traceback": [
      "\u001b[1;31m---------------------------------------------------------------------------\u001b[0m",
      "\u001b[1;31mAttributeError\u001b[0m                            Traceback (most recent call last)",
      "Cell \u001b[1;32mIn[48], line 1\u001b[0m\n\u001b[1;32m----> 1\u001b[0m \u001b[43moptical_timestamps\u001b[49m\u001b[38;5;241;43m.\u001b[39;49m\u001b[43mhead\u001b[49m()\n",
      "\u001b[1;31mAttributeError\u001b[0m: 'numpy.ndarray' object has no attribute 'head'"
     ]
    }
   ],
   "source": [
    "optical_timestamps.head()"
   ]
  },
  {
   "cell_type": "markdown",
   "id": "6afb8069-041e-4c1a-9be5-9b4aab991816",
   "metadata": {},
   "source": [
    "## add optogenetics"
   ]
  },
  {
   "cell_type": "code",
   "execution_count": 49,
   "id": "c6535ebe",
   "metadata": {},
   "outputs": [
    {
     "data": {
      "text/html": [
       "<div>\n",
       "<style scoped>\n",
       "    .dataframe tbody tr th:only-of-type {\n",
       "        vertical-align: middle;\n",
       "    }\n",
       "\n",
       "    .dataframe tbody tr th {\n",
       "        vertical-align: top;\n",
       "    }\n",
       "\n",
       "    .dataframe thead th {\n",
       "        text-align: right;\n",
       "    }\n",
       "</style>\n",
       "<table border=\"1\" class=\"dataframe\">\n",
       "  <thead>\n",
       "    <tr style=\"text-align: right;\">\n",
       "      <th></th>\n",
       "      <th>line</th>\n",
       "      <th>sample_number</th>\n",
       "      <th>timestamp</th>\n",
       "      <th>processor_id</th>\n",
       "      <th>stream_index</th>\n",
       "      <th>stream_name</th>\n",
       "      <th>state</th>\n",
       "    </tr>\n",
       "  </thead>\n",
       "  <tbody>\n",
       "    <tr>\n",
       "      <th>3175</th>\n",
       "      <td>3</td>\n",
       "      <td>10652041</td>\n",
       "      <td>265.894271</td>\n",
       "      <td>102</td>\n",
       "      <td>9</td>\n",
       "      <td>PXIe-6341</td>\n",
       "      <td>1</td>\n",
       "    </tr>\n",
       "    <tr>\n",
       "      <th>3177</th>\n",
       "      <td>3</td>\n",
       "      <td>10652238</td>\n",
       "      <td>265.899196</td>\n",
       "      <td>102</td>\n",
       "      <td>9</td>\n",
       "      <td>PXIe-6341</td>\n",
       "      <td>0</td>\n",
       "    </tr>\n",
       "    <tr>\n",
       "      <th>5646</th>\n",
       "      <td>3</td>\n",
       "      <td>11232114</td>\n",
       "      <td>280.396529</td>\n",
       "      <td>102</td>\n",
       "      <td>9</td>\n",
       "      <td>PXIe-6341</td>\n",
       "      <td>1</td>\n",
       "    </tr>\n",
       "    <tr>\n",
       "      <th>5648</th>\n",
       "      <td>3</td>\n",
       "      <td>11232311</td>\n",
       "      <td>280.401454</td>\n",
       "      <td>102</td>\n",
       "      <td>9</td>\n",
       "      <td>PXIe-6341</td>\n",
       "      <td>0</td>\n",
       "    </tr>\n",
       "    <tr>\n",
       "      <th>8164</th>\n",
       "      <td>3</td>\n",
       "      <td>11822066</td>\n",
       "      <td>295.145770</td>\n",
       "      <td>102</td>\n",
       "      <td>9</td>\n",
       "      <td>PXIe-6341</td>\n",
       "      <td>1</td>\n",
       "    </tr>\n",
       "  </tbody>\n",
       "</table>\n",
       "</div>"
      ],
      "text/plain": [
       "      line  sample_number   timestamp  processor_id  stream_index stream_name  \\\n",
       "3175     3       10652041  265.894271           102             9   PXIe-6341   \n",
       "3177     3       10652238  265.899196           102             9   PXIe-6341   \n",
       "5646     3       11232114  280.396529           102             9   PXIe-6341   \n",
       "5648     3       11232311  280.401454           102             9   PXIe-6341   \n",
       "8164     3       11822066  295.145770           102             9   PXIe-6341   \n",
       "\n",
       "      state  \n",
       "3175      1  \n",
       "3177      0  \n",
       "5646      1  \n",
       "5648      0  \n",
       "8164      1  "
      ]
     },
     "execution_count": 49,
     "metadata": {},
     "output_type": "execute_result"
    }
   ],
   "source": [
    "optical_events.head()"
   ]
  },
  {
   "cell_type": "code",
   "execution_count": 50,
   "id": "ca9f7282",
   "metadata": {},
   "outputs": [],
   "source": [
    "\n",
    "# opto_on_times = delivery_pert_df['start_time'].to_numpy()\n",
    "# opto_off_times = [value + 0.1 for value in opto_on_times]\n",
    "\n",
    "# opto_on_times, opto_off_times\n"
   ]
  },
  {
   "cell_type": "code",
   "execution_count": 51,
   "id": "60f91848",
   "metadata": {},
   "outputs": [],
   "source": [
    "# frame_events \n",
    "\n",
    "# opto_off_times = detected_pert_df[camera_df.state==0].timestamp\n",
    "# opto_on_times = camera_df[camera_df.state==1].timestamp"
   ]
  },
  {
   "cell_type": "code",
   "execution_count": 52,
   "id": "8500243c-0ad7-4219-b5b9-9a543cc912a1",
   "metadata": {},
   "outputs": [],
   "source": [
    "# opto_states = pynwb.epoch.TimeIntervals(\n",
    "#     name=\"optogenetics_states\",\n",
    "#     description=\"intervals for optical fiber, fiber at power = ?? on what system. fiber 470nm, \",\n",
    "# )\n",
    "\n",
    "# opto_states.add_column(name=\"power\", description=\"15mW\")\n",
    "# opto_states.add_column(name=\"wavelength\", description=\"470nm\")\n",
    "\n",
    "# for i in range(np.array(opto_off_times).shape[0]):\n",
    "#     opto_states.add_row(start_time=np.array(opto_on_times)[i], stop_time=np.array(opto_off_times)[i], power=1.5, wavelength=565)\n",
    "\n",
    "# nwbfile.add_time_intervals(opto_states)"
   ]
  },
  {
   "cell_type": "markdown",
   "id": "7e120cac-6b74-4aee-be80-bb26614b9eb9",
   "metadata": {},
   "source": [
    "### add ephys data\n",
    "first add electrodes and raw data link"
   ]
  },
  {
   "cell_type": "code",
   "execution_count": 53,
   "id": "d3d41244-8f01-4025-96ed-f4f560ce475d",
   "metadata": {},
   "outputs": [
    {
     "name": "stdout",
     "output_type": "stream",
     "text": [
      "no Allen Institute NWB API. get this from http://stash.corp.alleninstitute.org/projects/INF/repos/ainwb/browse\n",
      "no OpenEphys.py get this from https://github.com/open-ephys/analysis-tools\n"
     ]
    }
   ],
   "source": [
    "# from dlab.nwbtools import df_from_phy, load_phy_template, option234_positions, multi_load_unit_data\n",
    "from dlab.nwbtools import df_from_phy, load_phy_template, option234_positions # Removed multi_load_unit_data, outdates function\n"
   ]
  },
  {
   "cell_type": "code",
   "execution_count": 54,
   "id": "0ef74597",
   "metadata": {},
   "outputs": [],
   "source": [
    "# df_units = multi_load_unit_data(recording_folder,probe_depths=probedepths)\n",
    "# df_units.iloc[0]"
   ]
  },
  {
   "cell_type": "markdown",
   "id": "9a929b3b",
   "metadata": {},
   "source": [
    "#### This is setting the recording_folder to the correct location for the NWB\n",
    "- recording_folder needs to include \\Record Node 103\\experiment1\\recording1\\continuous to work"
   ]
  },
  {
   "cell_type": "code",
   "execution_count": 55,
   "id": "202e530f",
   "metadata": {},
   "outputs": [
    {
     "name": "stdout",
     "output_type": "stream",
     "text": [
      "G:\\Grant\\neuropixels\\kilosort_recordings\\reach7_07_2024-12-04_20-57-49_008\\Record Node 103\\experiment1\\recording1\\continuous\n"
     ]
    }
   ],
   "source": [
    "recording_folder = root_recording_folder + r\"\\Record Node 103\\experiment1\\recording1\\continuous\"\n",
    "print(recording_folder)"
   ]
  },
  {
   "cell_type": "markdown",
   "id": "e16691ea",
   "metadata": {},
   "source": [
    "##### The cell bellow needs to print contents for each probe like shown bellow\n",
    "- Contents: ['Neuropix-PXI-100.ProbeA-AP', 'Neuropix-PXI-100.ProbeA-LFP', 'Neuropix-PXI-100.ProbeB-AP', 'Neuropix-PXI-100.ProbeB-LFP', 'Neuropix-PXI-100.ProbeC', 'Neuropix-PXI-100.ProbeD-AP', 'Neuropix-PXI-100.ProbeD-LFP', 'Neuropix-PXI-100.ProbeE-AP', 'Neuropix-PXI-100.ProbeE-LFP', 'NI-DAQmx-102.PXIe-6341']\n"
   ]
  },
  {
   "cell_type": "code",
   "execution_count": 56,
   "id": "f053122b",
   "metadata": {},
   "outputs": [
    {
     "name": "stdout",
     "output_type": "stream",
     "text": [
      "Looking in: G:\\Grant\\neuropixels\\kilosort_recordings\\reach7_07_2024-12-04_20-57-49_008\\Record Node 103\\experiment1\\recording1\\continuous\n",
      "Contents: ['intermediates', 'Neuropix-PXI-100.ProbeA-AP', 'Neuropix-PXI-100.ProbeA-LFP', 'Neuropix-PXI-100.ProbeB-AP', 'Neuropix-PXI-100.ProbeB-LFP', 'Neuropix-PXI-100.ProbeC-AP', 'Neuropix-PXI-100.ProbeD-AP', 'Neuropix-PXI-100.ProbeD-LFP', 'Neuropix-PXI-100.ProbeE-AP', 'Neuropix-PXI-100.ProbeE-LFP', 'NI-DAQmx-102.PXIe-6341']\n"
     ]
    }
   ],
   "source": [
    "import os\n",
    "\n",
    "# recording_folder = r\"G:\\Grant\\neuropixels\\kilosort_recordings\\reach3_01_2024-11-14_21-30-18_001\\Record Node 103\\experiment1\\recording1\\continuous\"\n",
    "print(\"Looking in:\", recording_folder)\n",
    "print(\"Contents:\", os.listdir(recording_folder))"
   ]
  },
  {
   "cell_type": "markdown",
   "id": "cee85aeb",
   "metadata": {},
   "source": [
    "## Make layout for NP2-4-shank"
   ]
  },
  {
   "cell_type": "code",
   "execution_count": 57,
   "id": "67291b8d",
   "metadata": {},
   "outputs": [
    {
     "data": {
      "text/plain": [
       "array([[250.,   0.],\n",
       "       [250.,  15.],\n",
       "       [250.,  30.],\n",
       "       [250.,  45.],\n",
       "       [250.,  60.]])"
      ]
     },
     "execution_count": 57,
     "metadata": {},
     "output_type": "execute_result"
    }
   ],
   "source": [
    "import numpy as np\n",
    "\n",
    "# Create empty array for 4-shank layout\n",
    "positions = np.zeros((384, 2))\n",
    "\n",
    "# Define constants\n",
    "col_spacing = 32  # Column spacing in microns\n",
    "row_spacing = 15  # Row spacing in microns\n",
    "shank_spacing = 250  # Spacing between shanks in microns\n",
    "\n",
    "# Shank 1: Channels 47–96\n",
    "shank1_start_idx = 46\n",
    "for i in range(25):  # 25 rows\n",
    "    positions[shank1_start_idx + i, 0] = 0  # Column 1\n",
    "    positions[shank1_start_idx + i, 1] = (i + 23) * row_spacing  # Row spacing\n",
    "    positions[shank1_start_idx + i + 25, 0] = col_spacing  # Column 2\n",
    "    positions[shank1_start_idx + i + 25, 1] = (i + 23) * row_spacing\n",
    "\n",
    "# Shank 2: Channels 1–141\n",
    "shank2_start_idx = 0\n",
    "for i in range(71):  # 71 rows\n",
    "    positions[shank2_start_idx + i, 0] = shank_spacing  # Column 1\n",
    "    positions[shank2_start_idx + i, 1] = i * row_spacing\n",
    "    positions[shank2_start_idx + i + 71, 0] = shank_spacing + col_spacing  # Column 2\n",
    "    positions[shank2_start_idx + i + 71, 1] = i * row_spacing\n",
    "\n",
    "# Shank 3: Channels 1–141 (same as Shank 2)\n",
    "shank3_start_idx = 142\n",
    "for i in range(71):  # 71 rows\n",
    "    positions[shank3_start_idx + i, 0] = 2 * shank_spacing  # Column 1\n",
    "    positions[shank3_start_idx + i, 1] = i * row_spacing\n",
    "    positions[shank3_start_idx + i + 71, 0] = 2 * shank_spacing + col_spacing  # Column 2\n",
    "    positions[shank3_start_idx + i + 71, 1] = i * row_spacing\n",
    "\n",
    "# Shank 4: Channels 47–96 (same as Shank 1)\n",
    "shank4_start_idx = 284\n",
    "for i in range(25):  # 25 rows\n",
    "    positions[shank4_start_idx + i, 0] = 3 * shank_spacing  # Column 1\n",
    "    positions[shank4_start_idx + i, 1] = (i + 23) * row_spacing\n",
    "    positions[shank4_start_idx + i + 25, 0] = 3 * shank_spacing + col_spacing  # Column 2\n",
    "    positions[shank4_start_idx + i + 25, 1] = (i + 23) * row_spacing\n",
    "\n",
    "positions[0:5]\n"
   ]
  },
  {
   "cell_type": "markdown",
   "id": "aaabeb43",
   "metadata": {},
   "source": [
    "#### Getting spike times if you had to use global_timestamps\n",
    "- if you did not make global_timestamps.npy, ignore the commentewd out cells bellow "
   ]
  },
  {
   "cell_type": "code",
   "execution_count": 58,
   "id": "b15a2af8",
   "metadata": {},
   "outputs": [],
   "source": [
    "# spike_times_path = r\"G:\\Grant\\neuropixels\\kilosort_recordings\\reach3_01_2024-11-14_21-30-18_001\\Record Node 103\\experiment1\\recording1\\continuous\\Neuropix-PXI-100.ProbeA-AP\\global_timestamps.npy\"\n",
    "# spike_times = np.load(spike_times_path)\n",
    "# spike_times.shape\n"
   ]
  },
  {
   "cell_type": "markdown",
   "id": "baaaa88f",
   "metadata": {},
   "source": [
    "### Verify these variables are correct. it is what will be used to make the NWB"
   ]
  },
  {
   "cell_type": "code",
   "execution_count": 59,
   "id": "f7d46e78",
   "metadata": {},
   "outputs": [
    {
     "name": "stdout",
     "output_type": "stream",
     "text": [
      "['A', 'B', 'C', 'D', 'E']\n",
      "['NP1', 'NP1', 'NP2', 'NP1', 'NP1']\n",
      "[4156, 7013, 1450, 4878, 6202]\n"
     ]
    },
    {
     "data": {
      "text/plain": [
       "'G:\\\\Grant\\\\neuropixels\\\\kilosort_recordings\\\\reach7_07_2024-12-04_20-57-49_008\\\\Record Node 103\\\\experiment1\\\\recording1\\\\continuous'"
      ]
     },
     "execution_count": 59,
     "metadata": {},
     "output_type": "execute_result"
    }
   ],
   "source": [
    "print(probe_names)\n",
    "print(NP_type)\n",
    "print(probedepths)\n",
    "recording_folder"
   ]
  },
  {
   "cell_type": "markdown",
   "id": "fa9df93b",
   "metadata": {},
   "source": [
    "## Creating df_units \n",
    "- uses new function `unit_data` from nwbtools to load all the units from the recording folder"
   ]
  },
  {
   "cell_type": "code",
   "execution_count": 60,
   "id": "eb2135b6",
   "metadata": {},
   "outputs": [
    {
     "name": "stdout",
     "output_type": "stream",
     "text": [
      "A\n",
      "B\n",
      "C\n",
      "D\n",
      "E\n"
     ]
    },
    {
     "data": {
      "text/html": [
       "<div>\n",
       "<style scoped>\n",
       "    .dataframe tbody tr th:only-of-type {\n",
       "        vertical-align: middle;\n",
       "    }\n",
       "\n",
       "    .dataframe tbody tr th {\n",
       "        vertical-align: top;\n",
       "    }\n",
       "\n",
       "    .dataframe thead th {\n",
       "        text-align: right;\n",
       "    }\n",
       "</style>\n",
       "<table border=\"1\" class=\"dataframe\">\n",
       "  <thead>\n",
       "    <tr style=\"text-align: right;\">\n",
       "      <th></th>\n",
       "      <th>cluster_id</th>\n",
       "      <th>Amplitude</th>\n",
       "      <th>ContamPct</th>\n",
       "      <th>KSLabel</th>\n",
       "      <th>amp</th>\n",
       "      <th>ch</th>\n",
       "      <th>depth</th>\n",
       "      <th>fr</th>\n",
       "      <th>group</th>\n",
       "      <th>n_spikes</th>\n",
       "      <th>sh</th>\n",
       "      <th>probe</th>\n",
       "      <th>times</th>\n",
       "      <th>amplitudes</th>\n",
       "      <th>template</th>\n",
       "      <th>peak_wv</th>\n",
       "      <th>xpos</th>\n",
       "      <th>ypos</th>\n",
       "    </tr>\n",
       "  </thead>\n",
       "  <tbody>\n",
       "    <tr>\n",
       "      <th>0</th>\n",
       "      <td>0</td>\n",
       "      <td>754.5</td>\n",
       "      <td>25.0</td>\n",
       "      <td>mua</td>\n",
       "      <td>65.201218</td>\n",
       "      <td>2</td>\n",
       "      <td>4116.0</td>\n",
       "      <td>3.080043</td>\n",
       "      <td>NaN</td>\n",
       "      <td>15632</td>\n",
       "      <td>0</td>\n",
       "      <td>A</td>\n",
       "      <td>[244.2904666666668, 244.4332666666668, 244.833...</td>\n",
       "      <td>[12.416458129882812, 11.961356163024902, 10.61...</td>\n",
       "      <td>[[0.0, 0.0, 0.0, 0.0, 0.0, 0.0, 0.0, 0.0, 0.0,...</td>\n",
       "      <td>[0.0, 0.0, 0.0, 0.0, 0.0, 0.0, 0.0, 0.0, 0.0, ...</td>\n",
       "      <td>59.0</td>\n",
       "      <td>40.0</td>\n",
       "    </tr>\n",
       "    <tr>\n",
       "      <th>1</th>\n",
       "      <td>1</td>\n",
       "      <td>1115.6</td>\n",
       "      <td>4.4</td>\n",
       "      <td>good</td>\n",
       "      <td>87.563889</td>\n",
       "      <td>2</td>\n",
       "      <td>4116.0</td>\n",
       "      <td>2.342543</td>\n",
       "      <td>good</td>\n",
       "      <td>11889</td>\n",
       "      <td>0</td>\n",
       "      <td>A</td>\n",
       "      <td>[251.6506000000002, 252.5949666666669, 252.710...</td>\n",
       "      <td>[18.557964324951172, 9.258334159851074, 9.6833...</td>\n",
       "      <td>[[0.0, 0.0, 0.0, 0.0, 0.0, 0.0, 0.0, 0.0, 0.0,...</td>\n",
       "      <td>[0.0, 0.0, 0.0, 0.0, 0.0, 0.0, 0.0, 0.0, 0.0, ...</td>\n",
       "      <td>59.0</td>\n",
       "      <td>40.0</td>\n",
       "    </tr>\n",
       "    <tr>\n",
       "      <th>2</th>\n",
       "      <td>2</td>\n",
       "      <td>3690.7</td>\n",
       "      <td>94.2</td>\n",
       "      <td>mua</td>\n",
       "      <td>125.804901</td>\n",
       "      <td>2</td>\n",
       "      <td>4116.0</td>\n",
       "      <td>0.129649</td>\n",
       "      <td>NaN</td>\n",
       "      <td>658</td>\n",
       "      <td>0</td>\n",
       "      <td>A</td>\n",
       "      <td>[266.3581826589875, 266.52591598138804, 267.58...</td>\n",
       "      <td>[27.01292610168457, 34.93534469604492, 36.8380...</td>\n",
       "      <td>[[0.0, 0.0, 0.0, 0.0, 0.0, 0.0, 0.0, 0.0, 0.0,...</td>\n",
       "      <td>[0.0, 0.0, 0.0, 0.0, 0.0, 0.0, 0.0, 0.0, 0.0, ...</td>\n",
       "      <td>59.0</td>\n",
       "      <td>40.0</td>\n",
       "    </tr>\n",
       "    <tr>\n",
       "      <th>3</th>\n",
       "      <td>3</td>\n",
       "      <td>1138.3</td>\n",
       "      <td>390.0</td>\n",
       "      <td>mua</td>\n",
       "      <td>69.682053</td>\n",
       "      <td>2</td>\n",
       "      <td>4116.0</td>\n",
       "      <td>0.014186</td>\n",
       "      <td>NaN</td>\n",
       "      <td>72</td>\n",
       "      <td>0</td>\n",
       "      <td>A</td>\n",
       "      <td>[328.9849333333445, 464.8765666666686, 534.949...</td>\n",
       "      <td>[14.95019245147705, 13.834561347961426, 15.620...</td>\n",
       "      <td>[[0.0, 0.0, 0.0, 0.0, 0.0, 0.0, 0.0, 0.0, 0.0,...</td>\n",
       "      <td>[0.0, 0.0, 0.0, 0.0, 0.0, 0.0, 0.0, 0.0, 0.0, ...</td>\n",
       "      <td>59.0</td>\n",
       "      <td>40.0</td>\n",
       "    </tr>\n",
       "    <tr>\n",
       "      <th>4</th>\n",
       "      <td>4</td>\n",
       "      <td>1137.4</td>\n",
       "      <td>69.8</td>\n",
       "      <td>mua</td>\n",
       "      <td>85.957153</td>\n",
       "      <td>6</td>\n",
       "      <td>4076.0</td>\n",
       "      <td>0.682133</td>\n",
       "      <td>NaN</td>\n",
       "      <td>3462</td>\n",
       "      <td>0</td>\n",
       "      <td>A</td>\n",
       "      <td>[252.5823333333334, 252.71266666666685, 255.85...</td>\n",
       "      <td>[14.769704818725586, 11.293598175048828, 13.00...</td>\n",
       "      <td>[[0.0, 0.0, 0.0, 0.0, 0.0, 0.0, 0.0, 0.0, 0.0,...</td>\n",
       "      <td>[0.0, 0.0, 0.0, 0.0, 0.0, 0.0, 0.0, 0.0, 0.0, ...</td>\n",
       "      <td>59.0</td>\n",
       "      <td>80.0</td>\n",
       "    </tr>\n",
       "    <tr>\n",
       "      <th>...</th>\n",
       "      <td>...</td>\n",
       "      <td>...</td>\n",
       "      <td>...</td>\n",
       "      <td>...</td>\n",
       "      <td>...</td>\n",
       "      <td>...</td>\n",
       "      <td>...</td>\n",
       "      <td>...</td>\n",
       "      <td>...</td>\n",
       "      <td>...</td>\n",
       "      <td>...</td>\n",
       "      <td>...</td>\n",
       "      <td>...</td>\n",
       "      <td>...</td>\n",
       "      <td>...</td>\n",
       "      <td>...</td>\n",
       "      <td>...</td>\n",
       "      <td>...</td>\n",
       "    </tr>\n",
       "    <tr>\n",
       "      <th>1923</th>\n",
       "      <td>248</td>\n",
       "      <td>575.3</td>\n",
       "      <td>0.0</td>\n",
       "      <td>good</td>\n",
       "      <td>36.137901</td>\n",
       "      <td>119</td>\n",
       "      <td>5002.0</td>\n",
       "      <td>0.052805</td>\n",
       "      <td>NaN</td>\n",
       "      <td>268</td>\n",
       "      <td>0</td>\n",
       "      <td>E</td>\n",
       "      <td>[2957.6609303734053, 2957.669263750684, 2957.7...</td>\n",
       "      <td>[15.195669174194336, 15.080528259277344, 15.12...</td>\n",
       "      <td>[[0.0, 0.0, 0.0, 0.0, 0.0, 0.0, 0.0, 0.0, 0.0,...</td>\n",
       "      <td>[0.0, 0.0, 0.0, 0.0, 0.0, 0.0, 0.0, 0.0, 0.0, ...</td>\n",
       "      <td>27.0</td>\n",
       "      <td>1200.0</td>\n",
       "    </tr>\n",
       "    <tr>\n",
       "      <th>1924</th>\n",
       "      <td>249</td>\n",
       "      <td>2522.0</td>\n",
       "      <td>98.6</td>\n",
       "      <td>mua</td>\n",
       "      <td>77.490944</td>\n",
       "      <td>111</td>\n",
       "      <td>5082.0</td>\n",
       "      <td>0.546968</td>\n",
       "      <td>NaN</td>\n",
       "      <td>2776</td>\n",
       "      <td>0</td>\n",
       "      <td>E</td>\n",
       "      <td>[2922.601464942398, 2922.721498893243, 2923.23...</td>\n",
       "      <td>[43.68961715698242, 24.469383239746094, 44.680...</td>\n",
       "      <td>[[0.0, 0.0, 0.0, 0.0, 0.0, 0.0, 0.0, 0.0, 0.0,...</td>\n",
       "      <td>[0.0, 0.0, 0.0, 0.0, 0.0, 0.0, 0.0, 0.0, 0.0, ...</td>\n",
       "      <td>27.0</td>\n",
       "      <td>1120.0</td>\n",
       "    </tr>\n",
       "    <tr>\n",
       "      <th>1925</th>\n",
       "      <td>250</td>\n",
       "      <td>1426.0</td>\n",
       "      <td>80.5</td>\n",
       "      <td>mua</td>\n",
       "      <td>45.453018</td>\n",
       "      <td>111</td>\n",
       "      <td>5082.0</td>\n",
       "      <td>0.109748</td>\n",
       "      <td>NaN</td>\n",
       "      <td>557</td>\n",
       "      <td>0</td>\n",
       "      <td>E</td>\n",
       "      <td>[2922.3016105748843, 2922.6697319602677, 2922....</td>\n",
       "      <td>[19.14520263671875, 50.31452560424805, 19.8196...</td>\n",
       "      <td>[[0.0, 0.0, 0.0, 0.0, 0.0, 0.0, 0.0, 0.0, 0.0,...</td>\n",
       "      <td>[0.0, 0.0, 0.0, 0.0, 0.0, 0.0, 0.0, 0.0, 0.0, ...</td>\n",
       "      <td>27.0</td>\n",
       "      <td>1120.0</td>\n",
       "    </tr>\n",
       "    <tr>\n",
       "      <th>1926</th>\n",
       "      <td>251</td>\n",
       "      <td>2951.7</td>\n",
       "      <td>53.5</td>\n",
       "      <td>mua</td>\n",
       "      <td>50.888058</td>\n",
       "      <td>111</td>\n",
       "      <td>5082.0</td>\n",
       "      <td>0.064036</td>\n",
       "      <td>NaN</td>\n",
       "      <td>325</td>\n",
       "      <td>0</td>\n",
       "      <td>E</td>\n",
       "      <td>[2922.6016316099212, 2922.6715653030506, 2922....</td>\n",
       "      <td>[43.6500358581543, 39.60683822631836, 30.27145...</td>\n",
       "      <td>[[0.0, 0.0, 0.0, 0.0, 0.0, 0.0, 0.0, 0.0, 0.0,...</td>\n",
       "      <td>[0.0, 0.0, 0.0, 0.0, 0.0, 0.0, 0.0, 0.0, 0.0, ...</td>\n",
       "      <td>27.0</td>\n",
       "      <td>1120.0</td>\n",
       "    </tr>\n",
       "    <tr>\n",
       "      <th>1927</th>\n",
       "      <td>252</td>\n",
       "      <td>1193.7</td>\n",
       "      <td>0.0</td>\n",
       "      <td>mua</td>\n",
       "      <td>91.623734</td>\n",
       "      <td>242</td>\n",
       "      <td>3762.0</td>\n",
       "      <td>0.060687</td>\n",
       "      <td>NaN</td>\n",
       "      <td>308</td>\n",
       "      <td>0</td>\n",
       "      <td>E</td>\n",
       "      <td>[2954.884715733209, 2955.6666198565704, 2955.7...</td>\n",
       "      <td>[11.542584419250488, 17.87155532836914, 12.020...</td>\n",
       "      <td>[[0.0, 0.0, 0.0, 0.0, 0.0, 0.0, 0.0, 0.0, 0.0,...</td>\n",
       "      <td>[0.0, 0.0, 0.0, 0.0, 0.0, 0.0, 0.0, 0.0, 0.0, ...</td>\n",
       "      <td>59.0</td>\n",
       "      <td>2440.0</td>\n",
       "    </tr>\n",
       "  </tbody>\n",
       "</table>\n",
       "<p>1928 rows × 18 columns</p>\n",
       "</div>"
      ],
      "text/plain": [
       "      cluster_id  Amplitude  ContamPct KSLabel         amp   ch   depth  \\\n",
       "0              0      754.5       25.0     mua   65.201218    2  4116.0   \n",
       "1              1     1115.6        4.4    good   87.563889    2  4116.0   \n",
       "2              2     3690.7       94.2     mua  125.804901    2  4116.0   \n",
       "3              3     1138.3      390.0     mua   69.682053    2  4116.0   \n",
       "4              4     1137.4       69.8     mua   85.957153    6  4076.0   \n",
       "...          ...        ...        ...     ...         ...  ...     ...   \n",
       "1923         248      575.3        0.0    good   36.137901  119  5002.0   \n",
       "1924         249     2522.0       98.6     mua   77.490944  111  5082.0   \n",
       "1925         250     1426.0       80.5     mua   45.453018  111  5082.0   \n",
       "1926         251     2951.7       53.5     mua   50.888058  111  5082.0   \n",
       "1927         252     1193.7        0.0     mua   91.623734  242  3762.0   \n",
       "\n",
       "            fr group  n_spikes  sh probe  \\\n",
       "0     3.080043   NaN     15632   0     A   \n",
       "1     2.342543  good     11889   0     A   \n",
       "2     0.129649   NaN       658   0     A   \n",
       "3     0.014186   NaN        72   0     A   \n",
       "4     0.682133   NaN      3462   0     A   \n",
       "...        ...   ...       ...  ..   ...   \n",
       "1923  0.052805   NaN       268   0     E   \n",
       "1924  0.546968   NaN      2776   0     E   \n",
       "1925  0.109748   NaN       557   0     E   \n",
       "1926  0.064036   NaN       325   0     E   \n",
       "1927  0.060687   NaN       308   0     E   \n",
       "\n",
       "                                                  times  \\\n",
       "0     [244.2904666666668, 244.4332666666668, 244.833...   \n",
       "1     [251.6506000000002, 252.5949666666669, 252.710...   \n",
       "2     [266.3581826589875, 266.52591598138804, 267.58...   \n",
       "3     [328.9849333333445, 464.8765666666686, 534.949...   \n",
       "4     [252.5823333333334, 252.71266666666685, 255.85...   \n",
       "...                                                 ...   \n",
       "1923  [2957.6609303734053, 2957.669263750684, 2957.7...   \n",
       "1924  [2922.601464942398, 2922.721498893243, 2923.23...   \n",
       "1925  [2922.3016105748843, 2922.6697319602677, 2922....   \n",
       "1926  [2922.6016316099212, 2922.6715653030506, 2922....   \n",
       "1927  [2954.884715733209, 2955.6666198565704, 2955.7...   \n",
       "\n",
       "                                             amplitudes  \\\n",
       "0     [12.416458129882812, 11.961356163024902, 10.61...   \n",
       "1     [18.557964324951172, 9.258334159851074, 9.6833...   \n",
       "2     [27.01292610168457, 34.93534469604492, 36.8380...   \n",
       "3     [14.95019245147705, 13.834561347961426, 15.620...   \n",
       "4     [14.769704818725586, 11.293598175048828, 13.00...   \n",
       "...                                                 ...   \n",
       "1923  [15.195669174194336, 15.080528259277344, 15.12...   \n",
       "1924  [43.68961715698242, 24.469383239746094, 44.680...   \n",
       "1925  [19.14520263671875, 50.31452560424805, 19.8196...   \n",
       "1926  [43.6500358581543, 39.60683822631836, 30.27145...   \n",
       "1927  [11.542584419250488, 17.87155532836914, 12.020...   \n",
       "\n",
       "                                               template  \\\n",
       "0     [[0.0, 0.0, 0.0, 0.0, 0.0, 0.0, 0.0, 0.0, 0.0,...   \n",
       "1     [[0.0, 0.0, 0.0, 0.0, 0.0, 0.0, 0.0, 0.0, 0.0,...   \n",
       "2     [[0.0, 0.0, 0.0, 0.0, 0.0, 0.0, 0.0, 0.0, 0.0,...   \n",
       "3     [[0.0, 0.0, 0.0, 0.0, 0.0, 0.0, 0.0, 0.0, 0.0,...   \n",
       "4     [[0.0, 0.0, 0.0, 0.0, 0.0, 0.0, 0.0, 0.0, 0.0,...   \n",
       "...                                                 ...   \n",
       "1923  [[0.0, 0.0, 0.0, 0.0, 0.0, 0.0, 0.0, 0.0, 0.0,...   \n",
       "1924  [[0.0, 0.0, 0.0, 0.0, 0.0, 0.0, 0.0, 0.0, 0.0,...   \n",
       "1925  [[0.0, 0.0, 0.0, 0.0, 0.0, 0.0, 0.0, 0.0, 0.0,...   \n",
       "1926  [[0.0, 0.0, 0.0, 0.0, 0.0, 0.0, 0.0, 0.0, 0.0,...   \n",
       "1927  [[0.0, 0.0, 0.0, 0.0, 0.0, 0.0, 0.0, 0.0, 0.0,...   \n",
       "\n",
       "                                                peak_wv  xpos    ypos  \n",
       "0     [0.0, 0.0, 0.0, 0.0, 0.0, 0.0, 0.0, 0.0, 0.0, ...  59.0    40.0  \n",
       "1     [0.0, 0.0, 0.0, 0.0, 0.0, 0.0, 0.0, 0.0, 0.0, ...  59.0    40.0  \n",
       "2     [0.0, 0.0, 0.0, 0.0, 0.0, 0.0, 0.0, 0.0, 0.0, ...  59.0    40.0  \n",
       "3     [0.0, 0.0, 0.0, 0.0, 0.0, 0.0, 0.0, 0.0, 0.0, ...  59.0    40.0  \n",
       "4     [0.0, 0.0, 0.0, 0.0, 0.0, 0.0, 0.0, 0.0, 0.0, ...  59.0    80.0  \n",
       "...                                                 ...   ...     ...  \n",
       "1923  [0.0, 0.0, 0.0, 0.0, 0.0, 0.0, 0.0, 0.0, 0.0, ...  27.0  1200.0  \n",
       "1924  [0.0, 0.0, 0.0, 0.0, 0.0, 0.0, 0.0, 0.0, 0.0, ...  27.0  1120.0  \n",
       "1925  [0.0, 0.0, 0.0, 0.0, 0.0, 0.0, 0.0, 0.0, 0.0, ...  27.0  1120.0  \n",
       "1926  [0.0, 0.0, 0.0, 0.0, 0.0, 0.0, 0.0, 0.0, 0.0, ...  27.0  1120.0  \n",
       "1927  [0.0, 0.0, 0.0, 0.0, 0.0, 0.0, 0.0, 0.0, 0.0, ...  59.0  2440.0  \n",
       "\n",
       "[1928 rows x 18 columns]"
      ]
     },
     "execution_count": 60,
     "metadata": {},
     "output_type": "execute_result"
    }
   ],
   "source": [
    "from dlab.nwbtools import UnitData\n",
    "\n",
    "# Initialize recording_path\n",
    "recording_path = root_recording_folder \n",
    "recording_path = recording_path + '\\\\Record Node 103\\\\experiment1\\\\recording1'\n",
    "recording_path\n",
    "\n",
    "# Initialize UnitData\n",
    "unit_data = UnitData(recording_path)\n",
    "unit_data\n",
    "\n",
    "# load unit data and create df_units\n",
    "df_units = unit_data.load(probe_depths=probedepths, probes=probe_names, acq='OpenEphys', ignore_phy=False)\n",
    "df_units\n"
   ]
  },
  {
   "cell_type": "markdown",
   "id": "b11817bd",
   "metadata": {},
   "source": [
    "### This will check if this unit_data function from nwbtools can find you data\n",
    "- need to uncomment the cell to use it\n",
    "- its a copy from the nwbtools code, and will print out the data it finds"
   ]
  },
  {
   "cell_type": "code",
   "execution_count": 61,
   "id": "64b66c02",
   "metadata": {},
   "outputs": [],
   "source": [
    "# recording_path = recording_path\n",
    "# all_folders    = glob.glob(os.path.join(recording_path,'continuous','*'))\n",
    "# ap_folders     = [folder for folder in all_folders if 'LFP' not in os.path.basename(folder)]\n",
    "# print(all_folders)\n",
    "\n",
    "# for i,PROBE in enumerate(probe_names):\n",
    "#             print(PROBE)\n",
    "#             probe_name = PROBE\n",
    "#             print(probe_name)\n",
    "#             for folder in ap_folders:\n",
    "#                 print(folder)\n",
    "#                 if 'Probe'+PROBE in folder:\n",
    "#                     probe_path = folder\n",
    "            \n",
    "#             os.chdir(probe_path)"
   ]
  },
  {
   "cell_type": "markdown",
   "id": "904f0e61",
   "metadata": {},
   "source": [
    "### save out the df_units as a json\n",
    "- creates the intermediate folder if it does not exist\n",
    "- saves the df_units as a json file into that folder\n"
   ]
  },
  {
   "cell_type": "code",
   "execution_count": 65,
   "id": "feab6869",
   "metadata": {},
   "outputs": [
    {
     "name": "stdout",
     "output_type": "stream",
     "text": [
      "df_units.json already exists\n"
     ]
    }
   ],
   "source": [
    "int_path = os.path.join(recording_folder,'intermediates')\n",
    "df_units_json_path = int_path + '\\\\df_units.json'\n",
    "\n",
    "\n",
    "if os.path.exists(df_units_json_path):\n",
    "    print('df_units.json already exists')\n",
    "else:\n",
    "    if not os.path.exists(int_path):\n",
    "        os.makedirs(int_path)\n",
    "    df_units.to_json(df_units_json_path)\n",
    "    print('df_units.json saved')\n"
   ]
  },
  {
   "cell_type": "code",
   "execution_count": 66,
   "id": "8ca752ec",
   "metadata": {},
   "outputs": [
    {
     "data": {
      "text/plain": [
       "'G:\\\\Grant\\\\neuropixels\\\\kilosort_recordings\\\\reach7_07_2024-12-04_20-57-49_008\\\\Record Node 103\\\\experiment1\\\\recording1\\\\continuous\\\\intermediates'"
      ]
     },
     "execution_count": 66,
     "metadata": {},
     "output_type": "execute_result"
    }
   ],
   "source": [
    "int_path"
   ]
  },
  {
   "cell_type": "markdown",
   "id": "fe48abd7",
   "metadata": {},
   "source": [
    "#### Check if the df_units.json file is saved"
   ]
  },
  {
   "cell_type": "code",
   "execution_count": 67,
   "id": "fe51ff47",
   "metadata": {},
   "outputs": [
    {
     "data": {
      "text/html": [
       "<div>\n",
       "<style scoped>\n",
       "    .dataframe tbody tr th:only-of-type {\n",
       "        vertical-align: middle;\n",
       "    }\n",
       "\n",
       "    .dataframe tbody tr th {\n",
       "        vertical-align: top;\n",
       "    }\n",
       "\n",
       "    .dataframe thead th {\n",
       "        text-align: right;\n",
       "    }\n",
       "</style>\n",
       "<table border=\"1\" class=\"dataframe\">\n",
       "  <thead>\n",
       "    <tr style=\"text-align: right;\">\n",
       "      <th></th>\n",
       "      <th>cluster_id</th>\n",
       "      <th>Amplitude</th>\n",
       "      <th>ContamPct</th>\n",
       "      <th>KSLabel</th>\n",
       "      <th>amp</th>\n",
       "      <th>ch</th>\n",
       "      <th>depth</th>\n",
       "      <th>fr</th>\n",
       "      <th>group</th>\n",
       "      <th>n_spikes</th>\n",
       "      <th>sh</th>\n",
       "      <th>probe</th>\n",
       "      <th>times</th>\n",
       "      <th>amplitudes</th>\n",
       "      <th>template</th>\n",
       "      <th>peak_wv</th>\n",
       "      <th>xpos</th>\n",
       "      <th>ypos</th>\n",
       "    </tr>\n",
       "  </thead>\n",
       "  <tbody>\n",
       "    <tr>\n",
       "      <th>0</th>\n",
       "      <td>0</td>\n",
       "      <td>754.5</td>\n",
       "      <td>25.0</td>\n",
       "      <td>mua</td>\n",
       "      <td>65.201218</td>\n",
       "      <td>2</td>\n",
       "      <td>4116</td>\n",
       "      <td>3.080043</td>\n",
       "      <td>None</td>\n",
       "      <td>15632</td>\n",
       "      <td>0</td>\n",
       "      <td>A</td>\n",
       "      <td>[244.2904666667, 244.4332666667, 244.833, 244....</td>\n",
       "      <td>[12.4164581299, 11.961356163, 10.6130752563, 1...</td>\n",
       "      <td>[[0.0, 0.0, 0.0, 0.0, 0.0, 0.0, 0.0, 0.0, 0.0,...</td>\n",
       "      <td>[0.0, 0.0, 0.0, 0.0, 0.0, 0.0, 0.0, 0.0, 0.0, ...</td>\n",
       "      <td>59</td>\n",
       "      <td>40</td>\n",
       "    </tr>\n",
       "    <tr>\n",
       "      <th>1</th>\n",
       "      <td>1</td>\n",
       "      <td>1115.6</td>\n",
       "      <td>4.4</td>\n",
       "      <td>good</td>\n",
       "      <td>87.563889</td>\n",
       "      <td>2</td>\n",
       "      <td>4116</td>\n",
       "      <td>2.342543</td>\n",
       "      <td>good</td>\n",
       "      <td>11889</td>\n",
       "      <td>0</td>\n",
       "      <td>A</td>\n",
       "      <td>[251.6506, 252.5949666667, 252.7104666667, 252...</td>\n",
       "      <td>[18.557964325, 9.2583341599, 9.6833286285, 13....</td>\n",
       "      <td>[[0.0, 0.0, 0.0, 0.0, 0.0, 0.0, 0.0, 0.0, 0.0,...</td>\n",
       "      <td>[0.0, 0.0, 0.0, 0.0, 0.0, 0.0, 0.0, 0.0, 0.0, ...</td>\n",
       "      <td>59</td>\n",
       "      <td>40</td>\n",
       "    </tr>\n",
       "    <tr>\n",
       "      <th>2</th>\n",
       "      <td>2</td>\n",
       "      <td>3690.7</td>\n",
       "      <td>94.2</td>\n",
       "      <td>mua</td>\n",
       "      <td>125.804901</td>\n",
       "      <td>2</td>\n",
       "      <td>4116</td>\n",
       "      <td>0.129649</td>\n",
       "      <td>None</td>\n",
       "      <td>658</td>\n",
       "      <td>0</td>\n",
       "      <td>A</td>\n",
       "      <td>[266.358182659, 266.5259159814, 267.5848825791...</td>\n",
       "      <td>[27.0129261017, 34.935344696, 36.8380126953, 3...</td>\n",
       "      <td>[[0.0, 0.0, 0.0, 0.0, 0.0, 0.0, 0.0, 0.0, 0.0,...</td>\n",
       "      <td>[0.0, 0.0, 0.0, 0.0, 0.0, 0.0, 0.0, 0.0, 0.0, ...</td>\n",
       "      <td>59</td>\n",
       "      <td>40</td>\n",
       "    </tr>\n",
       "    <tr>\n",
       "      <th>3</th>\n",
       "      <td>3</td>\n",
       "      <td>1138.3</td>\n",
       "      <td>390.0</td>\n",
       "      <td>mua</td>\n",
       "      <td>69.682053</td>\n",
       "      <td>2</td>\n",
       "      <td>4116</td>\n",
       "      <td>0.014186</td>\n",
       "      <td>None</td>\n",
       "      <td>72</td>\n",
       "      <td>0</td>\n",
       "      <td>A</td>\n",
       "      <td>[328.9849333333, 464.8765666667, 534.9493, 584...</td>\n",
       "      <td>[14.9501924515, 13.834561348, 15.620092392, 12...</td>\n",
       "      <td>[[0.0, 0.0, 0.0, 0.0, 0.0, 0.0, 0.0, 0.0, 0.0,...</td>\n",
       "      <td>[0.0, 0.0, 0.0, 0.0, 0.0, 0.0, 0.0, 0.0, 0.0, ...</td>\n",
       "      <td>59</td>\n",
       "      <td>40</td>\n",
       "    </tr>\n",
       "    <tr>\n",
       "      <th>4</th>\n",
       "      <td>4</td>\n",
       "      <td>1137.4</td>\n",
       "      <td>69.8</td>\n",
       "      <td>mua</td>\n",
       "      <td>85.957153</td>\n",
       "      <td>6</td>\n",
       "      <td>4076</td>\n",
       "      <td>0.682133</td>\n",
       "      <td>None</td>\n",
       "      <td>3462</td>\n",
       "      <td>0</td>\n",
       "      <td>A</td>\n",
       "      <td>[252.5823333333, 252.7126666667, 255.8557, 255...</td>\n",
       "      <td>[14.7697048187, 11.293598175, 13.0035667419, 1...</td>\n",
       "      <td>[[0.0, 0.0, 0.0, 0.0, 0.0, 0.0, 0.0, 0.0, 0.0,...</td>\n",
       "      <td>[0.0, 0.0, 0.0, 0.0, 0.0, 0.0, 0.0, 0.0, 0.0, ...</td>\n",
       "      <td>59</td>\n",
       "      <td>80</td>\n",
       "    </tr>\n",
       "  </tbody>\n",
       "</table>\n",
       "</div>"
      ],
      "text/plain": [
       "   cluster_id  Amplitude  ContamPct KSLabel         amp  ch  depth        fr  \\\n",
       "0           0      754.5       25.0     mua   65.201218   2   4116  3.080043   \n",
       "1           1     1115.6        4.4    good   87.563889   2   4116  2.342543   \n",
       "2           2     3690.7       94.2     mua  125.804901   2   4116  0.129649   \n",
       "3           3     1138.3      390.0     mua   69.682053   2   4116  0.014186   \n",
       "4           4     1137.4       69.8     mua   85.957153   6   4076  0.682133   \n",
       "\n",
       "  group  n_spikes  sh probe  \\\n",
       "0  None     15632   0     A   \n",
       "1  good     11889   0     A   \n",
       "2  None       658   0     A   \n",
       "3  None        72   0     A   \n",
       "4  None      3462   0     A   \n",
       "\n",
       "                                               times  \\\n",
       "0  [244.2904666667, 244.4332666667, 244.833, 244....   \n",
       "1  [251.6506, 252.5949666667, 252.7104666667, 252...   \n",
       "2  [266.358182659, 266.5259159814, 267.5848825791...   \n",
       "3  [328.9849333333, 464.8765666667, 534.9493, 584...   \n",
       "4  [252.5823333333, 252.7126666667, 255.8557, 255...   \n",
       "\n",
       "                                          amplitudes  \\\n",
       "0  [12.4164581299, 11.961356163, 10.6130752563, 1...   \n",
       "1  [18.557964325, 9.2583341599, 9.6833286285, 13....   \n",
       "2  [27.0129261017, 34.935344696, 36.8380126953, 3...   \n",
       "3  [14.9501924515, 13.834561348, 15.620092392, 12...   \n",
       "4  [14.7697048187, 11.293598175, 13.0035667419, 1...   \n",
       "\n",
       "                                            template  \\\n",
       "0  [[0.0, 0.0, 0.0, 0.0, 0.0, 0.0, 0.0, 0.0, 0.0,...   \n",
       "1  [[0.0, 0.0, 0.0, 0.0, 0.0, 0.0, 0.0, 0.0, 0.0,...   \n",
       "2  [[0.0, 0.0, 0.0, 0.0, 0.0, 0.0, 0.0, 0.0, 0.0,...   \n",
       "3  [[0.0, 0.0, 0.0, 0.0, 0.0, 0.0, 0.0, 0.0, 0.0,...   \n",
       "4  [[0.0, 0.0, 0.0, 0.0, 0.0, 0.0, 0.0, 0.0, 0.0,...   \n",
       "\n",
       "                                             peak_wv  xpos  ypos  \n",
       "0  [0.0, 0.0, 0.0, 0.0, 0.0, 0.0, 0.0, 0.0, 0.0, ...    59    40  \n",
       "1  [0.0, 0.0, 0.0, 0.0, 0.0, 0.0, 0.0, 0.0, 0.0, ...    59    40  \n",
       "2  [0.0, 0.0, 0.0, 0.0, 0.0, 0.0, 0.0, 0.0, 0.0, ...    59    40  \n",
       "3  [0.0, 0.0, 0.0, 0.0, 0.0, 0.0, 0.0, 0.0, 0.0, ...    59    40  \n",
       "4  [0.0, 0.0, 0.0, 0.0, 0.0, 0.0, 0.0, 0.0, 0.0, ...    59    80  "
      ]
     },
     "execution_count": 67,
     "metadata": {},
     "output_type": "execute_result"
    }
   ],
   "source": [
    "df_units_json = pd.read_json(df_units_json_path)\n",
    "df_units_json.head()"
   ]
  },
  {
   "cell_type": "markdown",
   "id": "2c24f69f",
   "metadata": {},
   "source": [
    "### Save out the df_stim \n",
    "- this is the df for all the stimuli and their timestamps\n",
    "- initally made as just df earielr in this notebook\n",
    "- before making the NWB"
   ]
  },
  {
   "cell_type": "code",
   "execution_count": 68,
   "id": "d90be8ff",
   "metadata": {},
   "outputs": [
    {
     "data": {
      "text/html": [
       "<div>\n",
       "<style scoped>\n",
       "    .dataframe tbody tr th:only-of-type {\n",
       "        vertical-align: middle;\n",
       "    }\n",
       "\n",
       "    .dataframe tbody tr th {\n",
       "        vertical-align: top;\n",
       "    }\n",
       "\n",
       "    .dataframe thead th {\n",
       "        text-align: right;\n",
       "    }\n",
       "</style>\n",
       "<table border=\"1\" class=\"dataframe\">\n",
       "  <thead>\n",
       "    <tr style=\"text-align: right;\">\n",
       "      <th></th>\n",
       "      <th>start_time</th>\n",
       "      <th>stop_time</th>\n",
       "      <th>stimulus</th>\n",
       "      <th>optogenetics_LED_state</th>\n",
       "    </tr>\n",
       "    <tr>\n",
       "      <th>id</th>\n",
       "      <th></th>\n",
       "      <th></th>\n",
       "      <th></th>\n",
       "      <th></th>\n",
       "    </tr>\n",
       "  </thead>\n",
       "  <tbody>\n",
       "    <tr>\n",
       "      <th>0</th>\n",
       "      <td>247.710327</td>\n",
       "      <td>247.710327</td>\n",
       "      <td>tone1_timestamps</td>\n",
       "      <td>0</td>\n",
       "    </tr>\n",
       "    <tr>\n",
       "      <th>1</th>\n",
       "      <td>266.478939</td>\n",
       "      <td>266.478939</td>\n",
       "      <td>tone1_timestamps</td>\n",
       "      <td>0</td>\n",
       "    </tr>\n",
       "    <tr>\n",
       "      <th>2</th>\n",
       "      <td>280.673692</td>\n",
       "      <td>280.673692</td>\n",
       "      <td>tone1_timestamps</td>\n",
       "      <td>0</td>\n",
       "    </tr>\n",
       "    <tr>\n",
       "      <th>3</th>\n",
       "      <td>295.975223</td>\n",
       "      <td>295.975223</td>\n",
       "      <td>tone1_timestamps</td>\n",
       "      <td>0</td>\n",
       "    </tr>\n",
       "    <tr>\n",
       "      <th>4</th>\n",
       "      <td>310.123828</td>\n",
       "      <td>310.123828</td>\n",
       "      <td>tone1_timestamps</td>\n",
       "      <td>0</td>\n",
       "    </tr>\n",
       "  </tbody>\n",
       "</table>\n",
       "</div>"
      ],
      "text/plain": [
       "    start_time   stop_time          stimulus  optogenetics_LED_state\n",
       "id                                                                  \n",
       "0   247.710327  247.710327  tone1_timestamps                       0\n",
       "1   266.478939  266.478939  tone1_timestamps                       0\n",
       "2   280.673692  280.673692  tone1_timestamps                       0\n",
       "3   295.975223  295.975223  tone1_timestamps                       0\n",
       "4   310.123828  310.123828  tone1_timestamps                       0"
      ]
     },
     "execution_count": 68,
     "metadata": {},
     "output_type": "execute_result"
    }
   ],
   "source": [
    "df.head()"
   ]
  },
  {
   "cell_type": "code",
   "execution_count": 69,
   "id": "3ffbd159",
   "metadata": {},
   "outputs": [
    {
     "name": "stdout",
     "output_type": "stream",
     "text": [
      "df_stim.json saved\n"
     ]
    }
   ],
   "source": [
    "int_path = os.path.join(recording_folder,'intermediates')\n",
    "df_stim_path = int_path + '\\\\df_stim.json'\n",
    "   \n",
    "if os.path.exists(df_stim_path):\n",
    "    print('df_stim.json already exists')\n",
    "else:\n",
    "    if not os.path.exists(int_path):\n",
    "        os.makedirs(int_path)\n",
    "    df.to_json(df_stim_path)\n",
    "    print('df_stim.json saved')"
   ]
  },
  {
   "cell_type": "markdown",
   "id": "1a8ee805",
   "metadata": {},
   "source": [
    "#### check if the file was saved"
   ]
  },
  {
   "cell_type": "code",
   "execution_count": 70,
   "id": "47c5381c",
   "metadata": {},
   "outputs": [
    {
     "data": {
      "text/html": [
       "<div>\n",
       "<style scoped>\n",
       "    .dataframe tbody tr th:only-of-type {\n",
       "        vertical-align: middle;\n",
       "    }\n",
       "\n",
       "    .dataframe tbody tr th {\n",
       "        vertical-align: top;\n",
       "    }\n",
       "\n",
       "    .dataframe thead th {\n",
       "        text-align: right;\n",
       "    }\n",
       "</style>\n",
       "<table border=\"1\" class=\"dataframe\">\n",
       "  <thead>\n",
       "    <tr style=\"text-align: right;\">\n",
       "      <th></th>\n",
       "      <th>start_time</th>\n",
       "      <th>stop_time</th>\n",
       "      <th>stimulus</th>\n",
       "      <th>optogenetics_LED_state</th>\n",
       "    </tr>\n",
       "  </thead>\n",
       "  <tbody>\n",
       "    <tr>\n",
       "      <th>0</th>\n",
       "      <td>247.710327</td>\n",
       "      <td>247.710327</td>\n",
       "      <td>tone1_timestamps</td>\n",
       "      <td>0</td>\n",
       "    </tr>\n",
       "    <tr>\n",
       "      <th>1</th>\n",
       "      <td>266.478939</td>\n",
       "      <td>266.478939</td>\n",
       "      <td>tone1_timestamps</td>\n",
       "      <td>0</td>\n",
       "    </tr>\n",
       "    <tr>\n",
       "      <th>2</th>\n",
       "      <td>280.673692</td>\n",
       "      <td>280.673692</td>\n",
       "      <td>tone1_timestamps</td>\n",
       "      <td>0</td>\n",
       "    </tr>\n",
       "    <tr>\n",
       "      <th>3</th>\n",
       "      <td>295.975223</td>\n",
       "      <td>295.975223</td>\n",
       "      <td>tone1_timestamps</td>\n",
       "      <td>0</td>\n",
       "    </tr>\n",
       "    <tr>\n",
       "      <th>4</th>\n",
       "      <td>310.123828</td>\n",
       "      <td>310.123828</td>\n",
       "      <td>tone1_timestamps</td>\n",
       "      <td>0</td>\n",
       "    </tr>\n",
       "  </tbody>\n",
       "</table>\n",
       "</div>"
      ],
      "text/plain": [
       "   start_time   stop_time          stimulus  optogenetics_LED_state\n",
       "0  247.710327  247.710327  tone1_timestamps                       0\n",
       "1  266.478939  266.478939  tone1_timestamps                       0\n",
       "2  280.673692  280.673692  tone1_timestamps                       0\n",
       "3  295.975223  295.975223  tone1_timestamps                       0\n",
       "4  310.123828  310.123828  tone1_timestamps                       0"
      ]
     },
     "execution_count": 70,
     "metadata": {},
     "output_type": "execute_result"
    }
   ],
   "source": [
    "df_stim_json = pd.read_json(df_stim_path)\n",
    "df_stim_json.head()"
   ]
  },
  {
   "cell_type": "markdown",
   "id": "06475e57",
   "metadata": {},
   "source": [
    "### This will check the df_units dataframe before it goes through the next conversion step\n",
    "- the conversion step turn \"Good\" units into the value 2\n",
    "- the conversion step turns \"MUA\" units into the value 1\n"
   ]
  },
  {
   "cell_type": "code",
   "execution_count": 97,
   "id": "6dbc0591",
   "metadata": {},
   "outputs": [
    {
     "name": "stdout",
     "output_type": "stream",
     "text": [
      "Good units in probe A: 211 --> SIM & IP\n",
      "Good units in probe B: 4 --> PG\n",
      "Good units in probe C: 22 --> Mop\n",
      "Good units in probe D: 385 --> VaL\n",
      "Good units in probe E: 9 --> SnR\n"
     ]
    },
    {
     "name": "stderr",
     "output_type": "stream",
     "text": [
      "C:\\Users\\user\\AppData\\Local\\Temp\\ipykernel_24232\\4034743827.py:1: UserWarning: Boolean Series key will be reindexed to match DataFrame index.\n",
      "  dfA = df_units[df_units.probe=='A'][df_units.KSLabel=='good'] # these are the \"good\" labelled units from phy before curation\n",
      "C:\\Users\\user\\AppData\\Local\\Temp\\ipykernel_24232\\4034743827.py:2: UserWarning: Boolean Series key will be reindexed to match DataFrame index.\n",
      "  dfB = df_units[df_units.probe=='B'][df_units.KSLabel=='good'] # these are the \"good\" labelled units from phy before curation\n",
      "C:\\Users\\user\\AppData\\Local\\Temp\\ipykernel_24232\\4034743827.py:3: UserWarning: Boolean Series key will be reindexed to match DataFrame index.\n",
      "  dfC = df_units[df_units.probe=='C'][df_units.KSLabel=='good'] # these are the \"good\" labelled units from phy before curation\n",
      "C:\\Users\\user\\AppData\\Local\\Temp\\ipykernel_24232\\4034743827.py:4: UserWarning: Boolean Series key will be reindexed to match DataFrame index.\n",
      "  dfD = df_units[df_units.probe=='D'][df_units.KSLabel=='good'] # these are the \"good\" labelled units from phy before curation\n",
      "C:\\Users\\user\\AppData\\Local\\Temp\\ipykernel_24232\\4034743827.py:5: UserWarning: Boolean Series key will be reindexed to match DataFrame index.\n",
      "  dfE = df_units[df_units.probe=='E'][df_units.KSLabel=='good'] # these are the \"good\" labelled units from phy before curation\n"
     ]
    }
   ],
   "source": [
    "dfA = df_units[df_units.probe=='A'][df_units.KSLabel=='good'] # these are the \"good\" labelled units from phy before curation\n",
    "dfB = df_units[df_units.probe=='B'][df_units.KSLabel=='good'] # these are the \"good\" labelled units from phy before curation\n",
    "dfC = df_units[df_units.probe=='C'][df_units.KSLabel=='good'] # these are the \"good\" labelled units from phy before curation\n",
    "dfD = df_units[df_units.probe=='D'][df_units.KSLabel=='good'] # these are the \"good\" labelled units from phy before curation\n",
    "dfE = df_units[df_units.probe=='E'][df_units.KSLabel=='good'] # these are the \"good\" labelled units from phy before curation\n",
    "\n",
    "print(f'Good units in probe A: {len(dfA)} --> SIM & IP')\n",
    "print(f'Good units in probe B: {len(dfB)} --> PG')\n",
    "print(f'Good units in probe C: {len(dfC)} --> Mop')\n",
    "print(f'Good units in probe D: {len(dfD)} --> VaL')\n",
    "print(f'Good units in probe E: {len(dfE)} --> SnR')\n"
   ]
  },
  {
   "cell_type": "code",
   "execution_count": 98,
   "id": "3d488309",
   "metadata": {},
   "outputs": [
    {
     "name": "stdout",
     "output_type": "stream",
     "text": [
      "MUA units in probe A: 336 --> SIM & IP\n",
      "MUA units in probe B: 229 --> PG\n",
      "MUA units in probe C: 97 --> Mop\n",
      "MUA units in probe D: 391 --> VaL\n",
      "MUA units in probe E: 244 --> SnR\n"
     ]
    },
    {
     "name": "stderr",
     "output_type": "stream",
     "text": [
      "C:\\Users\\user\\AppData\\Local\\Temp\\ipykernel_24232\\4005783470.py:1: UserWarning: Boolean Series key will be reindexed to match DataFrame index.\n",
      "  dfA_bad = df_units[df_units.probe=='A'][df_units.KSLabel=='mua'] # these are the \"good\" labelled units from phy before curation\n",
      "C:\\Users\\user\\AppData\\Local\\Temp\\ipykernel_24232\\4005783470.py:2: UserWarning: Boolean Series key will be reindexed to match DataFrame index.\n",
      "  dfB_bad = df_units[df_units.probe=='B'][df_units.KSLabel=='mua'] # these are the \"good\" labelled units from phy before curation\n",
      "C:\\Users\\user\\AppData\\Local\\Temp\\ipykernel_24232\\4005783470.py:3: UserWarning: Boolean Series key will be reindexed to match DataFrame index.\n",
      "  dfC_bad = df_units[df_units.probe=='C'][df_units.KSLabel=='mua'] # these are the \"good\" labelled units from phy before curation\n",
      "C:\\Users\\user\\AppData\\Local\\Temp\\ipykernel_24232\\4005783470.py:4: UserWarning: Boolean Series key will be reindexed to match DataFrame index.\n",
      "  dfD_bad = df_units[df_units.probe=='D'][df_units.KSLabel=='mua'] # these are the \"good\" labelled units from phy before curation\n",
      "C:\\Users\\user\\AppData\\Local\\Temp\\ipykernel_24232\\4005783470.py:5: UserWarning: Boolean Series key will be reindexed to match DataFrame index.\n",
      "  dfE_bad = df_units[df_units.probe=='E'][df_units.KSLabel=='mua'] # these are the \"good\" labelled units from phy before curation\n"
     ]
    }
   ],
   "source": [
    "dfA_bad = df_units[df_units.probe=='A'][df_units.KSLabel=='mua'] # these are the \"good\" labelled units from phy before curation\n",
    "dfB_bad = df_units[df_units.probe=='B'][df_units.KSLabel=='mua'] # these are the \"good\" labelled units from phy before curation\n",
    "dfC_bad = df_units[df_units.probe=='C'][df_units.KSLabel=='mua'] # these are the \"good\" labelled units from phy before curation\n",
    "dfD_bad = df_units[df_units.probe=='D'][df_units.KSLabel=='mua'] # these are the \"good\" labelled units from phy before curation\n",
    "dfE_bad = df_units[df_units.probe=='E'][df_units.KSLabel=='mua'] # these are the \"good\" labelled units from phy before curation\n",
    "\n",
    "print(f'MUA units in probe A: {len(dfA_bad)} --> SIM & IP')\n",
    "print(f'MUA units in probe B: {len(dfB_bad)} --> PG')\n",
    "print(f'MUA units in probe C: {len(dfC_bad)} --> Mop')\n",
    "print(f'MUA units in probe D: {len(dfD_bad)} --> VaL')\n",
    "print(f'MUA units in probe E: {len(dfE_bad)} --> SnR')"
   ]
  },
  {
   "cell_type": "code",
   "execution_count": 36,
   "id": "99ea425b",
   "metadata": {},
   "outputs": [
    {
     "name": "stdout",
     "output_type": "stream",
     "text": [
      "MUA units in probe A: 336 --> SIM & IP\n",
      "MUA units in probe B: 229 --> PG\n",
      "MUA units in probe C: 97 --> Mop\n",
      "MUA units in probe D: 391 --> VaL\n",
      "MUA units in probe E: 244 --> SnR\n"
     ]
    },
    {
     "name": "stderr",
     "output_type": "stream",
     "text": [
      "C:\\Users\\user\\AppData\\Local\\Temp\\ipykernel_28640\\3665535943.py:1: UserWarning: Boolean Series key will be reindexed to match DataFrame index.\n",
      "  dfA_bad = df_units[df_units.probe=='A'][df_units.KSlabel==1] # these are the \"good\" labelled units from phy before curation\n",
      "C:\\Users\\user\\AppData\\Local\\Temp\\ipykernel_28640\\3665535943.py:2: UserWarning: Boolean Series key will be reindexed to match DataFrame index.\n",
      "  dfB_bad = df_units[df_units.probe=='B'][df_units.KSlabel==1] # these are the \"good\" labelled units from phy before curation\n",
      "C:\\Users\\user\\AppData\\Local\\Temp\\ipykernel_28640\\3665535943.py:3: UserWarning: Boolean Series key will be reindexed to match DataFrame index.\n",
      "  dfC_bad = df_units[df_units.probe=='C'][df_units.KSlabel==1] # these are the \"good\" labelled units from phy before curation\n",
      "C:\\Users\\user\\AppData\\Local\\Temp\\ipykernel_28640\\3665535943.py:4: UserWarning: Boolean Series key will be reindexed to match DataFrame index.\n",
      "  dfD_bad = df_units[df_units.probe=='D'][df_units.KSlabel==1] # these are the \"good\" labelled units from phy before curation\n",
      "C:\\Users\\user\\AppData\\Local\\Temp\\ipykernel_28640\\3665535943.py:5: UserWarning: Boolean Series key will be reindexed to match DataFrame index.\n",
      "  dfE_bad = df_units[df_units.probe=='E'][df_units.KSlabel==1] # these are the \"good\" labelled units from phy before curation\n"
     ]
    }
   ],
   "source": [
    "dfA_bad = df_units[df_units.probe=='A'][df_units.KSlabel==1] # these are the \"good\" labelled units from phy before curation\n",
    "dfB_bad = df_units[df_units.probe=='B'][df_units.KSlabel==1] # these are the \"good\" labelled units from phy before curation\n",
    "dfC_bad = df_units[df_units.probe=='C'][df_units.KSlabel==1] # these are the \"good\" labelled units from phy before curation\n",
    "dfD_bad = df_units[df_units.probe=='D'][df_units.KSlabel==1] # these are the \"good\" labelled units from phy before curation\n",
    "dfE_bad = df_units[df_units.probe=='E'][df_units.KSlabel==1] # these are the \"good\" labelled units from phy before curation\n",
    "\n",
    "print(f'MUA units in probe A: {len(dfA_bad)} --> SIM & IP')\n",
    "print(f'MUA units in probe B: {len(dfB_bad)} --> PG')\n",
    "print(f'MUA units in probe C: {len(dfC_bad)} --> Mop')\n",
    "print(f'MUA units in probe D: {len(dfD_bad)} --> VaL')\n",
    "print(f'MUA units in probe E: {len(dfE_bad)} --> SnR')\n"
   ]
  }
 ],
 "metadata": {
  "kernelspec": {
   "display_name": "reaching_task",
   "language": "python",
   "name": "python3"
  },
  "language_info": {
   "codemirror_mode": {
    "name": "ipython",
    "version": 3
   },
   "file_extension": ".py",
   "mimetype": "text/x-python",
   "name": "python",
   "nbconvert_exporter": "python",
   "pygments_lexer": "ipython3",
   "version": "3.9.19"
  }
 },
 "nbformat": 4,
 "nbformat_minor": 5
}
